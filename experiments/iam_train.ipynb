{
 "cells": [
  {
   "cell_type": "code",
   "execution_count": 1,
   "metadata": {},
   "outputs": [
    {
     "name": "stdout",
     "output_type": "stream",
     "text": [
      "c:\\Users\\mo\\Documents\\Organisations\\RUG\\rug-hr\\experiments\n",
      "c:\\Users\\mo\\Documents\\Organisations\\RUG\\rug-hr\n"
     ]
    }
   ],
   "source": [
    "%load_ext autoreload\n",
    "%autoreload 2\n",
    "from glob import glob\n",
    "from torch.utils.data import DataLoader\n",
    "import os\n",
    "import numpy as np\n",
    "import matplotlib.pyplot as plt\n",
    "import torch\n",
    "import random\n",
    "from tqdm import tqdm\n",
    "from monai.data import CacheDataset, Dataset, list_data_collate\n",
    "from monai.transforms import (\n",
    "    AsChannelFirstd,\n",
    "    AddChanneld,\n",
    "    AsDiscreted,\n",
    "    Compose,\n",
    "    CropForegroundd,\n",
    "    EnsureChannelFirstd,\n",
    "    LoadImaged,\n",
    "    RandCropByPosNegLabeld,\n",
    "    RandShiftIntensityd,\n",
    "    RandRotated,\n",
    "    RandZoomd,\n",
    "    Rotated,\n",
    "    ScaleIntensityd,\n",
    "    ScaleIntensityRanged,\n",
    "    ThresholdIntensityd,\n",
    "    Transposed,\n",
    "    EnsureTyped,\n",
    "    RandAffined,\n",
    "    Transform,\n",
    "    MapTransform,\n",
    "    RandGibbsNoised,\n",
    "    RandKSpaceSpikeNoised,\n",
    "    RandGaussianNoised,\n",
    "    RandCoarseDropoutd,\n",
    "    ResizeWithPadOrCropd,\n",
    "    RandSpatialCropd,\n",
    "    Lambdad\n",
    ")\n",
    "\n",
    "# ensure is in parent directory\n",
    "try:\n",
    "    print(os.getcwd())\n",
    "    os.chdir(\"../../rug-hr/\")\n",
    "    print(os.getcwd())\n",
    "except:\n",
    "    pass"
   ]
  },
  {
   "attachments": {},
   "cell_type": "markdown",
   "metadata": {},
   "source": [
    "## Experiment setup"
   ]
  },
  {
   "cell_type": "code",
   "execution_count": 2,
   "metadata": {},
   "outputs": [
    {
     "name": "stdout",
     "output_type": "stream",
     "text": [
      "Configuration:\n",
      "Output model name:  seglm-masked-v3-128x1024-iam.pt\n",
      "Using model:  UNETR\n",
      "Using dataset:  handwitten_manuscripts\n",
      "Using spatial size:  [128, 1024]\n",
      "Using splits:  [0.88, 0.08]\n",
      "Using learning rate:  0.0001\n",
      "Using batch size:  12\n",
      "Using epochs:  200\n",
      "Using pretrained model:  seglm-masked-v1-128x1024-iam.pt\n"
     ]
    }
   ],
   "source": [
    "SPATIAL_SIZE = [128, 1024]\n",
    "SPATIAL_ALIAS = \"x\".join([str(x) for x in SPATIAL_SIZE])\n",
    "VERSION = \"v3\"\n",
    "ALIAS = \"iam\"\n",
    "MODEL_OUTPUT_NAME = f\"seglm-masked-{VERSION}-{SPATIAL_ALIAS}-{ALIAS}.pt\"\n",
    "\n",
    "config = {\n",
    "    \"epochs\": 200,\n",
    "    \"batch_size\": 12,\n",
    "    \"learning_rate\": 1e-4,\n",
    "    \"architecture\": \"UNETR\",\n",
    "    \"dataset\": \"handwitten_manuscripts\",\n",
    "    \"spatial_size\": SPATIAL_SIZE,\n",
    "    \"splits\": [0.88, 0.08],\n",
    "    \"model_output_name\": MODEL_OUTPUT_NAME,\n",
    "    \"name\": \"IAM handwriting recognition\",\n",
    "    \"description\": \"Masked language model for handwriting recognition\",\n",
    "    \"pretrained_model\": \"seglm-masked-v1-128x1024-iam.pt\",\n",
    "    \"device\": \"cuda\" if torch.cuda.is_available() else \"cpu\",\n",
    "}\n",
    "\n",
    "# print summary\n",
    "print(\"Configuration:\")\n",
    "print(\"Output model name: \", config[\"model_output_name\"])\n",
    "print(\"Using model: \", config[\"architecture\"])\n",
    "print(\"Using dataset: \", config[\"dataset\"])\n",
    "print(\"Using spatial size: \", config[\"spatial_size\"])\n",
    "print(\"Using splits: \", config[\"splits\"])\n",
    "print(\"Using learning rate: \", config[\"learning_rate\"])\n",
    "print(\"Using batch size: \", config[\"batch_size\"])\n",
    "print(\"Using epochs: \", config[\"epochs\"])\n",
    "print(\"Using pretrained model: \", config[\"pretrained_model\"])"
   ]
  },
  {
   "cell_type": "code",
   "execution_count": 3,
   "metadata": {},
   "outputs": [],
   "source": [
    "import wandb\n",
    "\n",
    "\n",
    "def init_experiment(config=config):\n",
    "    wandb.init(\n",
    "        project=\"handwriting-recognition-iam\",\n",
    "        config=config,\n",
    "    )\n",
    "\n",
    "\n",
    "def terminate_experiment():\n",
    "    wandb.finish()\n",
    "\n",
    "\n",
    "def log(data):\n",
    "    wandb.log(data)"
   ]
  },
  {
   "attachments": {},
   "cell_type": "markdown",
   "metadata": {},
   "source": [
    "## Data setup\n",
    "\n",
    "Some notes:\n",
    "- Max height: 342; Max width: 2260\n",
    "- Min height: 44; Min width: 100\n",
    "- Mean height: 121.56060606060606; Mean width: 1693.719093590775\n",
    "- Max tokens: 27"
   ]
  },
  {
   "cell_type": "code",
   "execution_count": 4,
   "metadata": {},
   "outputs": [
    {
     "name": "stdout",
     "output_type": "stream",
     "text": [
      "Train: 23254; Validation: 2114; Test: 1057\n",
      "Example: {'img': './datasets/handwitten_manuscripts/Mutated\\\\41785_Alifiyah_29.png', 'seg': './datasets/handwitten_manuscripts/Raw\\\\41785_Alifiyah_29.png'}\n",
      "Number of classes: 95\n"
     ]
    }
   ],
   "source": [
    "dataset_name = config[\"dataset\"]\n",
    "segs = glob(f\"./datasets/{dataset_name}/Raw/*\")\n",
    "imgs = glob(f\"./datasets/{dataset_name}/Mutated/*\")\n",
    "fraction = 1\n",
    "\n",
    "metadata = [{\n",
    "    \"img\": p_img,\n",
    "    \"seg\": p_seg,\n",
    "} for p_img, p_seg in zip(imgs, segs)]\n",
    "\n",
    "random.shuffle(metadata)\n",
    "metadata = metadata[:int(len(metadata) * fraction)]\n",
    "\n",
    "# split into training, validation and test set\n",
    "split_train = int(len(metadata) * config[\"splits\"][0])\n",
    "split_validation = int(len(metadata) * (config[\"splits\"][1] + config[\"splits\"][0]))\n",
    "\n",
    "train_metadata = metadata[:split_train]\n",
    "validation_metadata = metadata[split_train:split_validation]\n",
    "test_metadata = metadata[split_validation:]\n",
    "\n",
    "print(\n",
    "    f\"Train: {len(train_metadata)}; Validation: {len(validation_metadata)}; Test: {len(test_metadata)}\")\n",
    "print(f\"Example: {train_metadata[0]}\")\n",
    "n_classes = ord(\"~\") - ord(\" \") + 1\n",
    "print(f\"Number of classes: {n_classes}\")"
   ]
  },
  {
   "cell_type": "code",
   "execution_count": 5,
   "metadata": {},
   "outputs": [
    {
     "name": "stderr",
     "output_type": "stream",
     "text": [
      "c:\\Users\\mo\\anaconda3\\envs\\ml_env\\lib\\site-packages\\monai\\utils\\deprecate_utils.py:107: FutureWarning: <class 'monai.transforms.utility.array.AddChannel'>: Class `AddChannel` has been deprecated since version 0.8. please use MetaTensor data type and monai.transforms.EnsureChannelFirst instead.\n",
      "  warn_deprecated(obj, msg, warning_category)\n"
     ]
    }
   ],
   "source": [
    "\n",
    "from monai.config import KeysCollection\n",
    "\n",
    "\n",
    "class Invert(Transform):\n",
    "    def __call__(self, data, max_value=1.0, min_value=0.0):\n",
    "        return max_value - data + min_value\n",
    "\n",
    "\n",
    "class Invertd(MapTransform):\n",
    "    def __init__(self, keys):\n",
    "        super().__init__(keys)\n",
    "        self.invert = Invert()\n",
    "\n",
    "    def __call__(self, data):\n",
    "        d = dict(data)\n",
    "        for key in self.keys:\n",
    "            d[key] = self.invert(d[key])\n",
    "        return d\n",
    "\n",
    "\n",
    "class AddMask(Transform):\n",
    "    \"\"\" Adds a mask channel to the image where \n",
    "    Args: \n",
    "        prob: probability of zeroing out a region\n",
    "        min_portion: minimum portion of the image to zero out in each dimension\n",
    "        max_portion: maximum portion of the image to zero out in each dimension\n",
    "    \"\"\"\n",
    "\n",
    "    def __init__(self,\n",
    "                 prob=0.5,\n",
    "                 min_portion=(0.1, 0.1),\n",
    "                 max_portion=(0.5, 0.5)):\n",
    "        self.prob = prob\n",
    "        self.min_portion = min_portion\n",
    "        self.max_portion = max_portion\n",
    "\n",
    "    \"\"\"\n",
    "    Args:\n",
    "        image: (..., C, H, W)\n",
    "    Returns: with mask channel added\n",
    "        image: (..., C+1, H, W)\n",
    "    \"\"\"\n",
    "\n",
    "    def __call__(self, image):\n",
    "        C, H, W = image.shape[-3:]\n",
    "        mask = torch.ones((*image.shape[:-3], 1, H, W))\n",
    "        if random.random() < self.prob:\n",
    "            min_p_i, min_p_j = self.min_portion\n",
    "            max_p_i, max_p_j = self.max_portion\n",
    "            p_i = random.uniform(min_p_i, max_p_i)\n",
    "            p_j = random.uniform(min_p_j, max_p_j)\n",
    "            size_i = int(H * p_i)\n",
    "            size_j = int(W * p_j)\n",
    "            i_start = random.randint(0, H - size_i)\n",
    "            j_start = random.randint(0, W - size_j)\n",
    "            i_end = i_start + size_i\n",
    "            j_end = j_start + size_j\n",
    "            mask[..., i_start:i_end, j_start:j_end] = 0\n",
    "        image *= mask\n",
    "        return torch.cat([image, mask], dim=-3)\n",
    "\n",
    "\n",
    "class AddMaskd(MapTransform):\n",
    "    def __init__(self, keys: KeysCollection, allow_missing_keys: bool = False, *argc,\n",
    "                 **argv) -> None:\n",
    "        super().__init__(keys, allow_missing_keys)\n",
    "        self.add_mask = AddMask(*argc, **argv)\n",
    "\n",
    "    def __call__(self, data):\n",
    "        d = dict(data)\n",
    "        for key in self.keys:\n",
    "            d[key] = self.add_mask(d[key])\n",
    "        return d\n",
    "\n",
    "\n",
    "augmentation_transforms = Compose([\n",
    "    RandCoarseDropoutd(keys=[\"img\"], holes=128, spatial_size=(8, 8), max_holes=128, fill_value=0,\n",
    "                       prob=0.5),\n",
    "    RandGaussianNoised(keys=[\"img\"], mean=0.0, std=0.02, prob=0.7),\n",
    "    RandShiftIntensityd(keys=[\"img\"], offsets=0.1, prob=0.5),\n",
    "])\n",
    "\n",
    "input_transforms = Compose([\n",
    "    # Image transformations\n",
    "    LoadImaged(keys=[\"img\", \"seg\"]),\n",
    "    AddChanneld(keys=[\"img\", \"seg\"]),\n",
    "    EnsureTyped(keys=[\"img\", \"seg\"]),\n",
    "    Transposed(keys=[\"img\", \"seg\"], indices=[0, -1, -2]),\n",
    "    CropForegroundd(keys=[\"img\", \"seg\"], source_key=\"img\", ),\n",
    "    ResizeWithPadOrCropd(\n",
    "        keys=[\"img\", \"seg\"],\n",
    "        spatial_size=(256, 2048),\n",
    "        mode=\"constant\",\n",
    "    ),\n",
    "    ScaleIntensityRanged(keys=[\"img\"], a_min=0, a_max=1, b_min=0.0, b_max=1.0, clip=True),\n",
    "    # Augmentation\n",
    "    augmentation_transforms,\n",
    "    # Post processing\n",
    "    ScaleIntensityRanged(keys=[\"img\"], a_min=0, a_max=1, b_min=0.0, b_max=1.0, clip=True),\n",
    "    AddMaskd(\n",
    "        keys=[\"img\"],\n",
    "        prob=1.0,\n",
    "        min_portion=(0.8, 0.01),\n",
    "        max_portion=(0.9, 0.05),\n",
    "    ),\n",
    "    RandSpatialCropd(\n",
    "        keys=[\"img\", \"seg\"],\n",
    "        roi_size=config[\"spatial_size\"],\n",
    "        random_size=False,\n",
    "    ),\n",
    "    Lambdad(keys=[\"seg\"], func=lambda x: torch.clamp(x, 0, n_classes - 1)),\n",
    "    EnsureTyped(keys=[\"img\", \"seg\"]),\n",
    "])\n",
    "\n",
    "train_transforms = Compose([\n",
    "    input_transforms,\n",
    "    EnsureTyped(keys=[\"img\", \"seg\"]),\n",
    "])\n",
    "\n",
    "validation_transforms = Compose([\n",
    "    input_transforms,\n",
    "    EnsureTyped(keys=[\"img\", \"seg\"]),\n",
    "])\n"
   ]
  },
  {
   "cell_type": "code",
   "execution_count": 6,
   "metadata": {},
   "outputs": [
    {
     "name": "stdout",
     "output_type": "stream",
     "text": [
      "image: torch.Size([2, 128, 1024])\n",
      "segmentation: torch.Size([1, 128, 1024])\n",
      "range(img): (tensor(0.), tensor(1.))\n",
      "range(img[1]): (tensor(1.), tensor(1.))\n",
      "range(seg): (tensor(0.), tensor(89.))\n"
     ]
    },
    {
     "data": {
      "image/png": "[encoded data removed]",
      "text/plain": [
       "<Figure size 1000x500 with 3 Axes>"
      ]
     },
     "metadata": {},
     "output_type": "display_data"
    }
   ],
   "source": [
    "\n",
    "# example\n",
    "choice = random.choice(train_metadata)\n",
    "output = train_transforms(choice)\n",
    "spatial_size = torch.zeros(config[\"spatial_size\"]).shape\n",
    "assert output[\"img\"][0].shape == spatial_size or print(output[\"img\"][0].shape, spatial_size)\n",
    "assert output[\"seg\"][0].shape == spatial_size or print(output[\"seg\"][0].shape, spatial_size)\n",
    "# ensuer seg is at max n_classes\n",
    "assert output[\"seg\"].max() < n_classes or print(\"wrong seg max\", output[\"seg\"].max())\n",
    "assert output[\"seg\"].min() >= 0 or print(\"wrong seg min\", output[\"seg\"].min())\n",
    "assert output[\"img\"].max() <= 1 or print(\"wrong img max\", output[\"img\"].max())\n",
    "assert output[\"img\"].min() >= 0 or print(\"wrong img min\", output[\"img\"].min())\n",
    "assert output[\"img\"].shape[0] == 2 or print(output[\"img\"].shape)\n",
    "assert output[\"seg\"].shape[0] == 1 or print(output[\"seg\"].shape)\n",
    "\n",
    "print(\"image:\", output[\"img\"].shape)\n",
    "print(\"segmentation:\", output[\"seg\"].shape)\n",
    "print(f\"range(img): ({output['img'].min()}, {output['img'].max()})\")\n",
    "print(f\"range(img[1]): ({output['img'][1].min()}, {output['img'][1].max()})\")\n",
    "print(f\"range(seg): ({output['seg'].min()}, {output['seg'].max()})\")\n",
    "fig, ax = plt.subplots(3, 1, figsize=(10, 5))\n",
    "ax[0].imshow(output[\"img\"][0], cmap=\"gray\")\n",
    "ax[1].imshow(output[\"img\"][1], cmap=\"gray\")\n",
    "ax[2].imshow(output[\"seg\"][0], cmap=\"gray\")\n",
    "plt.show()"
   ]
  },
  {
   "cell_type": "code",
   "execution_count": 7,
   "metadata": {},
   "outputs": [
    {
     "name": "stderr",
     "output_type": "stream",
     "text": [
      "Loading dataset: 100%|██████████| 23254/23254 [00:00<00:00, 2206260.07it/s]\n",
      "Loading dataset: 100%|██████████| 2114/2114 [00:00<00:00, 2118699.80it/s]\n"
     ]
    }
   ],
   "source": [
    "train_dataset = CacheDataset(data=train_metadata, transform=train_transforms)\n",
    "validation_dataset = CacheDataset(data=validation_metadata, transform=validation_transforms)\n",
    "test_dataset = Dataset(data=test_metadata, transform=input_transforms)\n",
    "train_loader = DataLoader(train_dataset, batch_size=config[\"batch_size\"])\n",
    "validation_loader = DataLoader(validation_dataset, batch_size=config[\"batch_size\"])\n",
    "test_loader = DataLoader(test_dataset, batch_size=config[\"batch_size\"])"
   ]
  },
  {
   "attachments": {},
   "cell_type": "markdown",
   "metadata": {},
   "source": [
    "### Reconstruction loss\n",
    "\n",
    "The network failes to reconstruct, hence we add a term to the loss function that penalizes the network for not reconstructing the masked region."
   ]
  },
  {
   "cell_type": "code",
   "execution_count": 8,
   "metadata": {},
   "outputs": [],
   "source": [
    "from monai.losses import DiceCELoss\n",
    "\n",
    "\n",
    "class RCLoss(torch.nn.Module):\n",
    "\n",
    "    def __init__(self, dice_weight=0.2, weight=None, size_average=True):\n",
    "        super(RCLoss, self).__init__()\n",
    "        self.dice_weight = dice_weight\n",
    "        self.dice_ce_loss = DiceCELoss(include_background=True, to_onehot_y=True, softmax=True)\n",
    "\n",
    "    \"\"\"\n",
    "    Input:\n",
    "        reconstruction: (batch_size, C, H, W)\n",
    "        target: (batch_size, 1, H, W)\n",
    "    Returns: reconstruction loss\n",
    "    \"\"\"\n",
    "\n",
    "    def __compute_construction_loss(self, reconstruction, target):\n",
    "        target = target.long()\n",
    "        probabilities = torch.nn.functional.softmax(reconstruction, dim=1)\n",
    "        selections = torch.gather(probabilities, 1, target)\n",
    "        errors = -torch.log(selections.squeeze(1) + 1e-8)\n",
    "        return torch.mean(errors)\n",
    "\n",
    "    def forward(self, reconstruction, target):\n",
    "        return self.dice_weight * self.dice_ce_loss(reconstruction, target) + (\n",
    "                    1 - self.dice_weight) * self.__compute_construction_loss(reconstruction,\n",
    "                                                                             target)"
   ]
  },
  {
   "cell_type": "code",
   "execution_count": 9,
   "metadata": {},
   "outputs": [
    {
     "name": "stdout",
     "output_type": "stream",
     "text": [
      "device name NVIDIA GeForce RTX 3090\n"
     ]
    },
    {
     "name": "stderr",
     "output_type": "stream",
     "text": [
      "c:\\Users\\mo\\anaconda3\\envs\\ml_env\\lib\\site-packages\\monai\\utils\\deprecate_utils.py:219: FutureWarning: monai.networks.nets.unet UNet.__init__:dimensions: Argument `dimensions` has been deprecated since version 0.6. Please use `spatial_dims` instead.\n",
      "  warn_deprecated(argname, msg, warning_category)\n"
     ]
    },
    {
     "name": "stdout",
     "output_type": "stream",
     "text": [
      "could not load model\n",
      "number of trainable parameters in millions: 6.63084\n",
      "model size (MB) 25.294647216796875\n"
     ]
    }
   ],
   "source": [
    "\n",
    "from modules.segnet import SEGNET\n",
    "from monai.networks.nets import UNETR, UNet\n",
    "\n",
    "print(\"device name\", torch.cuda.get_device_name(0))\n",
    "\n",
    "device = torch.device(\"cuda:0\" if torch.cuda.is_available() else \"cpu\")\n",
    "# device = torch.device(\"cpu\")\n",
    "\n",
    "model_output_name = config.get(\"model_output_name\")\n",
    "\n",
    "# hidden_size = 768\n",
    "# model = UNETR(\n",
    "#     in_channels=2,\n",
    "#     out_channels=n_classes, \n",
    "#     img_size=config[\"spatial_size\"],\n",
    "#     feature_size=32,\n",
    "#     num_heads=12,\n",
    "#     hidden_size=hidden_size,\n",
    "#     mlp_dim=4*hidden_size,\n",
    "#     pos_embed=\"perceptron\",\n",
    "#     norm_name=\"instance\",\n",
    "#     res_block=True,\n",
    "#     dropout_rate=0.1,\n",
    "#     spatial_dims=2,\n",
    "#     conv_block=False\n",
    "# ).to(device)\n",
    "model = UNet(\n",
    "    dimensions=2,\n",
    "    in_channels=2,\n",
    "    out_channels=n_classes,\n",
    "    channels=(32, 64, 128, 256, 512),\n",
    "    strides=(2, 2, 2, 2),\n",
    "    num_res_units=2,\n",
    "    norm=\"instance\",\n",
    "    dropout=0.1,\n",
    ").to(device)\n",
    "\n",
    "net = SEGNET(\n",
    "    model_name=model_output_name,\n",
    "    device=device,\n",
    "    load=False,\n",
    "    model=model,\n",
    "    img_size=config[\"spatial_size\"],\n",
    "    n_classes=n_classes,\n",
    ")\n",
    "net.loss_func = RCLoss\n",
    "\n",
    "pre_trained_model = config.get(\"pretrained_model\", None)\n",
    "if pre_trained_model:\n",
    "    try:\n",
    "        net.load_model(\"artifacts/\" + pre_trained_model)\n",
    "        print(\"model loaded\")\n",
    "    except:\n",
    "        print(\"could not load model\")\n",
    "\n",
    "# print number of trainable parameters\n",
    "print(\"number of trainable parameters in millions:\",\n",
    "      sum(p.numel() for p in model.parameters() if p.requires_grad) / 1000000)\n",
    "print(\"model size (MB)\",\n",
    "      sum(p.numel() for p in model.parameters() if p.requires_grad) * 4 / 1024 / 1024)"
   ]
  },
  {
   "cell_type": "code",
   "execution_count": 10,
   "metadata": {},
   "outputs": [
    {
     "name": "stdout",
     "output_type": "stream",
     "text": [
      "2023-06-05 15:27:39,692 - Failed to detect the name of this notebook, you can set it manually with the WANDB_NOTEBOOK_NAME environment variable to enable code saving.\n"
     ]
    },
    {
     "name": "stderr",
     "output_type": "stream",
     "text": [
      "\u001B[34m\u001B[1mwandb\u001B[0m: Currently logged in as: \u001B[33mmassaf\u001B[0m (\u001B[33mrug-ai-group\u001B[0m). Use \u001B[1m`wandb login --relogin`\u001B[0m to force relogin\n"
     ]
    },
    {
     "data": {
      "text/html": [
       "wandb version 0.15.3 is available!  To upgrade, please run:\n",
       " $ pip install wandb --upgrade"
      ],
      "text/plain": [
       "<IPython.core.display.HTML object>"
      ]
     },
     "metadata": {},
     "output_type": "display_data"
    },
    {
     "data": {
      "text/html": [
       "Tracking run with wandb version 0.15.0"
      ],
      "text/plain": [
       "<IPython.core.display.HTML object>"
      ]
     },
     "metadata": {},
     "output_type": "display_data"
    },
    {
     "data": {
      "text/html": [
       "Run data is saved locally in <code>c:\\Users\\mo\\Documents\\Organisations\\RUG\\rug-hr\\wandb\\run-20230605_152741-le4nok7i</code>"
      ],
      "text/plain": [
       "<IPython.core.display.HTML object>"
      ]
     },
     "metadata": {},
     "output_type": "display_data"
    },
    {
     "data": {
      "text/html": [
       "Syncing run <strong><a href='https://wandb.ai/rug-ai-group/handwriting-recognition-iam/runs/le4nok7i' target=\"_blank\">radiant-sun-140</a></strong> to <a href='https://wandb.ai/rug-ai-group/handwriting-recognition-iam' target=\"_blank\">Weights & Biases</a> (<a href='https://wandb.me/run' target=\"_blank\">docs</a>)<br/>"
      ],
      "text/plain": [
       "<IPython.core.display.HTML object>"
      ]
     },
     "metadata": {},
     "output_type": "display_data"
    },
    {
     "data": {
      "text/html": [
       " View project at <a href='https://wandb.ai/rug-ai-group/handwriting-recognition-iam' target=\"_blank\">https://wandb.ai/rug-ai-group/handwriting-recognition-iam</a>"
      ],
      "text/plain": [
       "<IPython.core.display.HTML object>"
      ]
     },
     "metadata": {},
     "output_type": "display_data"
    },
    {
     "data": {
      "text/html": [
       " View run at <a href='https://wandb.ai/rug-ai-group/handwriting-recognition-iam/runs/le4nok7i' target=\"_blank\">https://wandb.ai/rug-ai-group/handwriting-recognition-iam/runs/le4nok7i</a>"
      ],
      "text/plain": [
       "<IPython.core.display.HTML object>"
      ]
     },
     "metadata": {},
     "output_type": "display_data"
    },
    {
     "name": "stdout",
     "output_type": "stream",
     "text": [
      "epochs=200; N=23254; batches=1938; learning_rate=0.0001\n"
     ]
    },
    {
     "name": "stderr",
     "output_type": "stream",
     "text": [
      "100%|██████████| 177/177 [01:21<00:00,  2.18it/s]\n",
      "100%|██████████| 1938/1938 [17:07<00:00,  1.89it/s]\n"
     ]
    },
    {
     "name": "stdout",
     "output_type": "stream",
     "text": [
      "epoch 1/200; train_loss=0.5856588395202861; test_loss=5.124917975926803; lr=0.0001; metric=0.006249420344829559\n"
     ]
    },
    {
     "name": "stderr",
     "output_type": "stream",
     "text": [
      "100%|██████████| 177/177 [01:16<00:00,  2.31it/s]\n",
      "100%|██████████| 1938/1938 [16:33<00:00,  1.95it/s]\n"
     ]
    },
    {
     "name": "stdout",
     "output_type": "stream",
     "text": [
      "epoch 2/200; train_loss=0.3399983523769152; test_loss=0.36724437613271727; lr=0.0001; metric=0.41085973381996155\n"
     ]
    },
    {
     "name": "stderr",
     "output_type": "stream",
     "text": [
      "100%|██████████| 177/177 [01:15<00:00,  2.33it/s]\n",
      "100%|██████████| 1938/1938 [16:37<00:00,  1.94it/s]\n"
     ]
    },
    {
     "name": "stdout",
     "output_type": "stream",
     "text": [
      "epoch 3/200; train_loss=0.2962979745461968; test_loss=0.2931182840786411; lr=0.0001; metric=0.6241922378540039\n"
     ]
    },
    {
     "name": "stderr",
     "output_type": "stream",
     "text": [
      "100%|██████████| 177/177 [01:15<00:00,  2.33it/s]\n",
      "100%|██████████| 1938/1938 [16:36<00:00,  1.94it/s]\n"
     ]
    },
    {
     "name": "stdout",
     "output_type": "stream",
     "text": [
      "epoch 4/200; train_loss=0.27741857086019006; test_loss=0.27034075490835696; lr=0.0001; metric=0.6921355724334717\n"
     ]
    },
    {
     "name": "stderr",
     "output_type": "stream",
     "text": [
      "100%|██████████| 177/177 [01:16<00:00,  2.31it/s]\n",
      "100%|██████████| 1938/1938 [16:59<00:00,  1.90it/s]\n"
     ]
    },
    {
     "name": "stdout",
     "output_type": "stream",
     "text": [
      "epoch 5/200; train_loss=0.2662781003105259; test_loss=0.2565759438074241; lr=0.0001; metric=0.7256344556808472\n"
     ]
    },
    {
     "name": "stderr",
     "output_type": "stream",
     "text": [
      "100%|██████████| 177/177 [01:17<00:00,  2.28it/s]\n",
      "100%|██████████| 1938/1938 [16:36<00:00,  1.94it/s]\n"
     ]
    },
    {
     "name": "stdout",
     "output_type": "stream",
     "text": [
      "epoch 6/200; train_loss=0.23157058200261665; test_loss=0.24692912492374916; lr=0.0001; metric=0.7520391941070557\n"
     ]
    },
    {
     "name": "stderr",
     "output_type": "stream",
     "text": [
      "100%|██████████| 177/177 [01:19<00:00,  2.22it/s]\n",
      "100%|██████████| 1938/1938 [16:16<00:00,  1.99it/s]\n"
     ]
    },
    {
     "name": "stdout",
     "output_type": "stream",
     "text": [
      "epoch 7/200; train_loss=0.20725502725017822; test_loss=0.19608873213078343; lr=0.0001; metric=0.7673946022987366\n"
     ]
    },
    {
     "name": "stderr",
     "output_type": "stream",
     "text": [
      "100%|██████████| 177/177 [01:15<00:00,  2.35it/s]\n",
      "100%|██████████| 1938/1938 [17:35<00:00,  1.84it/s]\n"
     ]
    },
    {
     "name": "stdout",
     "output_type": "stream",
     "text": [
      "epoch 8/200; train_loss=0.20285039892568185; test_loss=0.19438420480254007; lr=0.0001; metric=0.7756662964820862\n"
     ]
    },
    {
     "name": "stderr",
     "output_type": "stream",
     "text": [
      "100%|██████████| 177/177 [01:21<00:00,  2.18it/s]\n",
      "100%|██████████| 1938/1938 [18:29<00:00,  1.75it/s]\n"
     ]
    },
    {
     "name": "stdout",
     "output_type": "stream",
     "text": [
      "epoch 9/200; train_loss=0.19956228298483988; test_loss=0.1880580391419136; lr=0.0001; metric=0.7939382791519165\n"
     ]
    },
    {
     "name": "stderr",
     "output_type": "stream",
     "text": [
      "100%|██████████| 177/177 [01:17<00:00,  2.28it/s]\n",
      "100%|██████████| 1938/1938 [16:49<00:00,  1.92it/s]\n"
     ]
    },
    {
     "name": "stdout",
     "output_type": "stream",
     "text": [
      "epoch 10/200; train_loss=0.1962627927216214; test_loss=0.1845687908978112; lr=0.0001; metric=0.7977785468101501\n"
     ]
    },
    {
     "name": "stderr",
     "output_type": "stream",
     "text": [
      "100%|██████████| 177/177 [01:16<00:00,  2.32it/s]\n",
      "100%|██████████| 1938/1938 [16:13<00:00,  1.99it/s]\n"
     ]
    },
    {
     "name": "stdout",
     "output_type": "stream",
     "text": [
      "epoch 11/200; train_loss=0.19416240332849993; test_loss=0.18626727045929364; lr=0.0001; metric=0.8038699626922607\n"
     ]
    },
    {
     "name": "stderr",
     "output_type": "stream",
     "text": [
      "100%|██████████| 177/177 [01:13<00:00,  2.40it/s]\n",
      "100%|██████████| 1938/1938 [16:00<00:00,  2.02it/s]\n"
     ]
    },
    {
     "name": "stdout",
     "output_type": "stream",
     "text": [
      "epoch 12/200; train_loss=0.19190104147352055; test_loss=0.1805314623703391; lr=0.0001; metric=0.8152533769607544\n"
     ]
    },
    {
     "name": "stderr",
     "output_type": "stream",
     "text": [
      "100%|██████████| 177/177 [01:13<00:00,  2.40it/s]\n",
      "100%|██████████| 1938/1938 [16:05<00:00,  2.01it/s]\n"
     ]
    },
    {
     "name": "stdout",
     "output_type": "stream",
     "text": [
      "epoch 13/200; train_loss=0.1899103615721313; test_loss=0.17902909875926326; lr=0.0001; metric=0.8181129097938538\n"
     ]
    },
    {
     "name": "stderr",
     "output_type": "stream",
     "text": [
      "100%|██████████| 177/177 [01:13<00:00,  2.40it/s]\n",
      "100%|██████████| 1938/1938 [16:02<00:00,  2.01it/s]\n"
     ]
    },
    {
     "name": "stdout",
     "output_type": "stream",
     "text": [
      "epoch 14/200; train_loss=0.1878611474798683; test_loss=0.17647473505661312; lr=0.0001; metric=0.8168033957481384\n"
     ]
    },
    {
     "name": "stderr",
     "output_type": "stream",
     "text": [
      "100%|██████████| 177/177 [01:14<00:00,  2.39it/s]\n",
      "100%|██████████| 1938/1938 [16:05<00:00,  2.01it/s]\n"
     ]
    },
    {
     "name": "stdout",
     "output_type": "stream",
     "text": [
      "epoch 15/200; train_loss=0.18537497215195953; test_loss=0.17628974985268156; lr=0.0001; metric=0.8259894847869873\n"
     ]
    },
    {
     "name": "stderr",
     "output_type": "stream",
     "text": [
      "100%|██████████| 177/177 [01:13<00:00,  2.41it/s]\n",
      "100%|██████████| 1938/1938 [16:49<00:00,  1.92it/s]\n"
     ]
    },
    {
     "name": "stdout",
     "output_type": "stream",
     "text": [
      "epoch 16/200; train_loss=0.18404260529945263; test_loss=0.1721527923298421; lr=0.0001; metric=0.8249132633209229\n"
     ]
    },
    {
     "name": "stderr",
     "output_type": "stream",
     "text": [
      "100%|██████████| 177/177 [01:18<00:00,  2.25it/s]\n",
      "100%|██████████| 1938/1938 [17:08<00:00,  1.88it/s]\n"
     ]
    },
    {
     "name": "stdout",
     "output_type": "stream",
     "text": [
      "epoch 17/200; train_loss=0.1824225455568671; test_loss=0.17271033905993746; lr=0.0001; metric=0.8305100202560425\n"
     ]
    },
    {
     "name": "stderr",
     "output_type": "stream",
     "text": [
      "100%|██████████| 177/177 [01:18<00:00,  2.25it/s]\n",
      "100%|██████████| 1938/1938 [17:04<00:00,  1.89it/s]\n"
     ]
    },
    {
     "name": "stdout",
     "output_type": "stream",
     "text": [
      "epoch 18/200; train_loss=0.1813535199522726; test_loss=0.1732104743099482; lr=0.0001; metric=0.8303836584091187\n"
     ]
    },
    {
     "name": "stderr",
     "output_type": "stream",
     "text": [
      "100%|██████████| 177/177 [01:18<00:00,  2.24it/s]\n",
      "100%|██████████| 1938/1938 [17:05<00:00,  1.89it/s]\n"
     ]
    },
    {
     "name": "stdout",
     "output_type": "stream",
     "text": [
      "epoch 19/200; train_loss=0.1805405798449851; test_loss=0.17154381167417193; lr=0.0001; metric=0.8306882381439209\n"
     ]
    },
    {
     "name": "stderr",
     "output_type": "stream",
     "text": [
      "100%|██████████| 177/177 [01:19<00:00,  2.23it/s]\n",
      "100%|██████████| 1938/1938 [17:06<00:00,  1.89it/s]\n"
     ]
    },
    {
     "name": "stdout",
     "output_type": "stream",
     "text": [
      "epoch 20/200; train_loss=0.17997913776874788; test_loss=0.1726321181503393; lr=0.0001; metric=0.8311483263969421\n"
     ]
    },
    {
     "name": "stderr",
     "output_type": "stream",
     "text": [
      "100%|██████████| 177/177 [01:18<00:00,  2.26it/s]\n",
      "100%|██████████| 1938/1938 [17:07<00:00,  1.89it/s]\n"
     ]
    },
    {
     "name": "stdout",
     "output_type": "stream",
     "text": [
      "epoch 21/200; train_loss=0.17892287726157466; test_loss=0.1704816473069164; lr=0.0001; metric=0.8373891711235046\n"
     ]
    },
    {
     "name": "stderr",
     "output_type": "stream",
     "text": [
      "100%|██████████| 177/177 [01:18<00:00,  2.25it/s]\n",
      "100%|██████████| 1938/1938 [17:04<00:00,  1.89it/s]\n"
     ]
    },
    {
     "name": "stdout",
     "output_type": "stream",
     "text": [
      "epoch 22/200; train_loss=0.1785190263138344; test_loss=0.1703162418078568; lr=0.0001; metric=0.8372362852096558\n"
     ]
    },
    {
     "name": "stderr",
     "output_type": "stream",
     "text": [
      "100%|██████████| 177/177 [01:19<00:00,  2.24it/s]\n",
      "100%|██████████| 1938/1938 [17:04<00:00,  1.89it/s]\n"
     ]
    },
    {
     "name": "stdout",
     "output_type": "stream",
     "text": [
      "epoch 23/200; train_loss=0.17757767931749455; test_loss=0.1696988911615253; lr=0.0001; metric=0.839479386806488\n"
     ]
    },
    {
     "name": "stderr",
     "output_type": "stream",
     "text": [
      "100%|██████████| 177/177 [01:18<00:00,  2.25it/s]\n",
      "100%|██████████| 1938/1938 [17:10<00:00,  1.88it/s]\n"
     ]
    },
    {
     "name": "stdout",
     "output_type": "stream",
     "text": [
      "epoch 24/200; train_loss=0.1769027908489308; test_loss=0.16787483783091528; lr=0.0001; metric=0.8420177102088928\n"
     ]
    },
    {
     "name": "stderr",
     "output_type": "stream",
     "text": [
      "100%|██████████| 177/177 [01:19<00:00,  2.24it/s]\n",
      "100%|██████████| 1938/1938 [17:08<00:00,  1.88it/s]\n"
     ]
    },
    {
     "name": "stdout",
     "output_type": "stream",
     "text": [
      "epoch 25/200; train_loss=0.17621238292093985; test_loss=0.1672742031725113; lr=0.0001; metric=0.8422480821609497\n"
     ]
    },
    {
     "name": "stderr",
     "output_type": "stream",
     "text": [
      "100%|██████████| 177/177 [01:19<00:00,  2.23it/s]\n",
      " 36%|███▌      | 691/1938 [06:09<11:06,  1.87it/s]\n"
     ]
    },
    {
     "data": {
      "text/html": [
       "<pre style=\"white-space:pre;overflow-x:auto;line-height:normal;font-family:Menlo,'DejaVu Sans Mono',consolas,'Courier New',monospace\"><span style=\"color: #800000; text-decoration-color: #800000\">╭─────────────────────────────── </span><span style=\"color: #800000; text-decoration-color: #800000; font-weight: bold\">Traceback </span><span style=\"color: #bf7f7f; text-decoration-color: #bf7f7f; font-weight: bold\">(most recent call last)</span><span style=\"color: #800000; text-decoration-color: #800000\"> ────────────────────────────────╮</span>\n",
       "<span style=\"color: #800000; text-decoration-color: #800000\">│</span> in <span style=\"color: #00ff00; text-decoration-color: #00ff00\">&lt;module&gt;</span>:<span style=\"color: #0000ff; text-decoration-color: #0000ff\">3</span>                                                                                    <span style=\"color: #800000; text-decoration-color: #800000\">│</span>\n",
       "<span style=\"color: #800000; text-decoration-color: #800000\">│</span>                                                                                                  <span style=\"color: #800000; text-decoration-color: #800000\">│</span>\n",
       "<span style=\"color: #800000; text-decoration-color: #800000\">│</span>   <span style=\"color: #7f7f7f; text-decoration-color: #7f7f7f\"> 1 </span>init_experiment(config)                                                                     <span style=\"color: #800000; text-decoration-color: #800000\">│</span>\n",
       "<span style=\"color: #800000; text-decoration-color: #800000\">│</span>   <span style=\"color: #7f7f7f; text-decoration-color: #7f7f7f\"> 2 </span>                                                                                            <span style=\"color: #800000; text-decoration-color: #800000\">│</span>\n",
       "<span style=\"color: #800000; text-decoration-color: #800000\">│</span> <span style=\"color: #800000; text-decoration-color: #800000\">❱ </span> 3 train_loss, test_loss, metrics = net.train(                                                 <span style=\"color: #800000; text-decoration-color: #800000\">│</span>\n",
       "<span style=\"color: #800000; text-decoration-color: #800000\">│</span>   <span style=\"color: #7f7f7f; text-decoration-color: #7f7f7f\"> 4 </span><span style=\"color: #7f7f7f; text-decoration-color: #7f7f7f\">│   </span>trainloader=train_loader,                                                               <span style=\"color: #800000; text-decoration-color: #800000\">│</span>\n",
       "<span style=\"color: #800000; text-decoration-color: #800000\">│</span>   <span style=\"color: #7f7f7f; text-decoration-color: #7f7f7f\"> 5 </span><span style=\"color: #7f7f7f; text-decoration-color: #7f7f7f\">│   </span>valloader=validation_loader,                                                            <span style=\"color: #800000; text-decoration-color: #800000\">│</span>\n",
       "<span style=\"color: #800000; text-decoration-color: #800000\">│</span>   <span style=\"color: #7f7f7f; text-decoration-color: #7f7f7f\"> 6 </span><span style=\"color: #7f7f7f; text-decoration-color: #7f7f7f\">│   </span>log=log,                                                                                <span style=\"color: #800000; text-decoration-color: #800000\">│</span>\n",
       "<span style=\"color: #800000; text-decoration-color: #800000\">│</span>                                                                                                  <span style=\"color: #800000; text-decoration-color: #800000\">│</span>\n",
       "<span style=\"color: #800000; text-decoration-color: #800000\">│</span> <span style=\"color: #808000; text-decoration-color: #808000\">c:\\Users\\mo\\Documents\\Organisations\\RUG\\rug-hr\\modules\\segnet.py</span>:<span style=\"color: #0000ff; text-decoration-color: #0000ff\">193</span> in <span style=\"color: #00ff00; text-decoration-color: #00ff00\">train</span>                    <span style=\"color: #800000; text-decoration-color: #800000\">│</span>\n",
       "<span style=\"color: #800000; text-decoration-color: #800000\">│</span>                                                                                                  <span style=\"color: #800000; text-decoration-color: #800000\">│</span>\n",
       "<span style=\"color: #800000; text-decoration-color: #800000\">│</span>   <span style=\"color: #7f7f7f; text-decoration-color: #7f7f7f\">190 </span><span style=\"color: #7f7f7f; text-decoration-color: #7f7f7f\">│   │   │   │   </span>best_metric_score = metric                                                 <span style=\"color: #800000; text-decoration-color: #800000\">│</span>\n",
       "<span style=\"color: #800000; text-decoration-color: #800000\">│</span>   <span style=\"color: #7f7f7f; text-decoration-color: #7f7f7f\">191 </span><span style=\"color: #7f7f7f; text-decoration-color: #7f7f7f\">│   │   │   │   </span><span style=\"color: #00ffff; text-decoration-color: #00ffff\">self</span>.save_model()                                                          <span style=\"color: #800000; text-decoration-color: #800000\">│</span>\n",
       "<span style=\"color: #800000; text-decoration-color: #800000\">│</span>   <span style=\"color: #7f7f7f; text-decoration-color: #7f7f7f\">192 </span><span style=\"color: #7f7f7f; text-decoration-color: #7f7f7f\">│   │   │   </span>                                                                               <span style=\"color: #800000; text-decoration-color: #800000\">│</span>\n",
       "<span style=\"color: #800000; text-decoration-color: #800000\">│</span> <span style=\"color: #800000; text-decoration-color: #800000\">❱ </span>193 <span style=\"color: #7f7f7f; text-decoration-color: #7f7f7f\">│   │   │   </span>avg_loss = <span style=\"color: #00ffff; text-decoration-color: #00ffff\">self</span>.one_epoch(net, optimizer, criterion, trainloader, scaler=gra   <span style=\"color: #800000; text-decoration-color: #800000\">│</span>\n",
       "<span style=\"color: #800000; text-decoration-color: #800000\">│</span>   <span style=\"color: #7f7f7f; text-decoration-color: #7f7f7f\">194 </span><span style=\"color: #7f7f7f; text-decoration-color: #7f7f7f\">│   │   │   </span>                                                                               <span style=\"color: #800000; text-decoration-color: #800000\">│</span>\n",
       "<span style=\"color: #800000; text-decoration-color: #800000\">│</span>   <span style=\"color: #7f7f7f; text-decoration-color: #7f7f7f\">195 </span><span style=\"color: #7f7f7f; text-decoration-color: #7f7f7f\">│   │   │   </span><span style=\"color: #7f7f7f; text-decoration-color: #7f7f7f\"># Update scheduler </span>                                                            <span style=\"color: #800000; text-decoration-color: #800000\">│</span>\n",
       "<span style=\"color: #800000; text-decoration-color: #800000\">│</span>   <span style=\"color: #7f7f7f; text-decoration-color: #7f7f7f\">196 </span><span style=\"color: #7f7f7f; text-decoration-color: #7f7f7f\">│   │   │   </span><span style=\"color: #0000ff; text-decoration-color: #0000ff\">if</span> (schedule):                                                                 <span style=\"color: #800000; text-decoration-color: #800000\">│</span>\n",
       "<span style=\"color: #800000; text-decoration-color: #800000\">│</span>                                                                                                  <span style=\"color: #800000; text-decoration-color: #800000\">│</span>\n",
       "<span style=\"color: #800000; text-decoration-color: #800000\">│</span> <span style=\"color: #808000; text-decoration-color: #808000\">c:\\Users\\mo\\Documents\\Organisations\\RUG\\rug-hr\\modules\\segnet.py</span>:<span style=\"color: #0000ff; text-decoration-color: #0000ff\">111</span> in <span style=\"color: #00ff00; text-decoration-color: #00ff00\">one_epoch</span>                <span style=\"color: #800000; text-decoration-color: #800000\">│</span>\n",
       "<span style=\"color: #800000; text-decoration-color: #800000\">│</span>                                                                                                  <span style=\"color: #800000; text-decoration-color: #800000\">│</span>\n",
       "<span style=\"color: #800000; text-decoration-color: #800000\">│</span>   <span style=\"color: #7f7f7f; text-decoration-color: #7f7f7f\">108 </span><span style=\"color: #7f7f7f; text-decoration-color: #7f7f7f\">│   │   </span>                                                                                   <span style=\"color: #800000; text-decoration-color: #800000\">│</span>\n",
       "<span style=\"color: #800000; text-decoration-color: #800000\">│</span>   <span style=\"color: #7f7f7f; text-decoration-color: #7f7f7f\">109 </span><span style=\"color: #7f7f7f; text-decoration-color: #7f7f7f\">│   │   </span><span style=\"color: #7f7f7f; text-decoration-color: #7f7f7f\"># Load batches and apply passes</span>                                                    <span style=\"color: #800000; text-decoration-color: #800000\">│</span>\n",
       "<span style=\"color: #800000; text-decoration-color: #800000\">│</span>   <span style=\"color: #7f7f7f; text-decoration-color: #7f7f7f\">110 </span><span style=\"color: #7f7f7f; text-decoration-color: #7f7f7f\">│   │   </span>epoch_iterator = tqdm(loader, dynamic_ncols=<span style=\"color: #0000ff; text-decoration-color: #0000ff\">True</span>)                                  <span style=\"color: #800000; text-decoration-color: #800000\">│</span>\n",
       "<span style=\"color: #800000; text-decoration-color: #800000\">│</span> <span style=\"color: #800000; text-decoration-color: #800000\">❱ </span>111 <span style=\"color: #7f7f7f; text-decoration-color: #7f7f7f\">│   │   </span><span style=\"color: #0000ff; text-decoration-color: #0000ff\">for</span> step, batch <span style=\"color: #ff00ff; text-decoration-color: #ff00ff\">in</span> <span style=\"color: #00ffff; text-decoration-color: #00ffff\">enumerate</span>(epoch_iterator):                                      <span style=\"color: #800000; text-decoration-color: #800000\">│</span>\n",
       "<span style=\"color: #800000; text-decoration-color: #800000\">│</span>   <span style=\"color: #7f7f7f; text-decoration-color: #7f7f7f\">112 </span><span style=\"color: #7f7f7f; text-decoration-color: #7f7f7f\">│   │   │   </span>                                                                               <span style=\"color: #800000; text-decoration-color: #800000\">│</span>\n",
       "<span style=\"color: #800000; text-decoration-color: #800000\">│</span>   <span style=\"color: #7f7f7f; text-decoration-color: #7f7f7f\">113 </span><span style=\"color: #7f7f7f; text-decoration-color: #7f7f7f\">│   │   │   </span>images, labels = batch[<span style=\"color: #808000; text-decoration-color: #808000\">\"img\"</span>].to(<span style=\"color: #00ffff; text-decoration-color: #00ffff\">self</span>.device), batch[<span style=\"color: #808000; text-decoration-color: #808000\">\"seg\"</span>].to(<span style=\"color: #00ffff; text-decoration-color: #00ffff\">self</span>.device)    <span style=\"color: #800000; text-decoration-color: #800000\">│</span>\n",
       "<span style=\"color: #800000; text-decoration-color: #800000\">│</span>   <span style=\"color: #7f7f7f; text-decoration-color: #7f7f7f\">114 </span><span style=\"color: #7f7f7f; text-decoration-color: #7f7f7f\">│   │   │   </span>logits = net(images)                                                           <span style=\"color: #800000; text-decoration-color: #800000\">│</span>\n",
       "<span style=\"color: #800000; text-decoration-color: #800000\">│</span>                                                                                                  <span style=\"color: #800000; text-decoration-color: #800000\">│</span>\n",
       "<span style=\"color: #800000; text-decoration-color: #800000\">│</span> <span style=\"color: #808000; text-decoration-color: #808000\">c:\\Users\\mo\\anaconda3\\envs\\ml_env\\lib\\site-packages\\tqdm\\std.py</span>:<span style=\"color: #0000ff; text-decoration-color: #0000ff\">1178</span> in <span style=\"color: #00ff00; text-decoration-color: #00ff00\">__iter__</span>                 <span style=\"color: #800000; text-decoration-color: #800000\">│</span>\n",
       "<span style=\"color: #800000; text-decoration-color: #800000\">│</span>                                                                                                  <span style=\"color: #800000; text-decoration-color: #800000\">│</span>\n",
       "<span style=\"color: #800000; text-decoration-color: #800000\">│</span>   <span style=\"color: #7f7f7f; text-decoration-color: #7f7f7f\">1175 </span><span style=\"color: #7f7f7f; text-decoration-color: #7f7f7f\">│   │   </span>time = <span style=\"color: #00ffff; text-decoration-color: #00ffff\">self</span>._time                                                                 <span style=\"color: #800000; text-decoration-color: #800000\">│</span>\n",
       "<span style=\"color: #800000; text-decoration-color: #800000\">│</span>   <span style=\"color: #7f7f7f; text-decoration-color: #7f7f7f\">1176 </span><span style=\"color: #7f7f7f; text-decoration-color: #7f7f7f\">│   │   </span>                                                                                  <span style=\"color: #800000; text-decoration-color: #800000\">│</span>\n",
       "<span style=\"color: #800000; text-decoration-color: #800000\">│</span>   <span style=\"color: #7f7f7f; text-decoration-color: #7f7f7f\">1177 </span><span style=\"color: #7f7f7f; text-decoration-color: #7f7f7f\">│   │   </span><span style=\"color: #0000ff; text-decoration-color: #0000ff\">try</span>:                                                                              <span style=\"color: #800000; text-decoration-color: #800000\">│</span>\n",
       "<span style=\"color: #800000; text-decoration-color: #800000\">│</span> <span style=\"color: #800000; text-decoration-color: #800000\">❱ </span>1178 <span style=\"color: #7f7f7f; text-decoration-color: #7f7f7f\">│   │   │   </span><span style=\"color: #0000ff; text-decoration-color: #0000ff\">for</span> obj <span style=\"color: #ff00ff; text-decoration-color: #ff00ff\">in</span> iterable:                                                          <span style=\"color: #800000; text-decoration-color: #800000\">│</span>\n",
       "<span style=\"color: #800000; text-decoration-color: #800000\">│</span>   <span style=\"color: #7f7f7f; text-decoration-color: #7f7f7f\">1179 </span><span style=\"color: #7f7f7f; text-decoration-color: #7f7f7f\">│   │   │   │   </span><span style=\"color: #0000ff; text-decoration-color: #0000ff\">yield</span> obj                                                                 <span style=\"color: #800000; text-decoration-color: #800000\">│</span>\n",
       "<span style=\"color: #800000; text-decoration-color: #800000\">│</span>   <span style=\"color: #7f7f7f; text-decoration-color: #7f7f7f\">1180 </span><span style=\"color: #7f7f7f; text-decoration-color: #7f7f7f\">│   │   │   │   </span><span style=\"color: #7f7f7f; text-decoration-color: #7f7f7f\"># Update and possibly print the progressbar.</span>                              <span style=\"color: #800000; text-decoration-color: #800000\">│</span>\n",
       "<span style=\"color: #800000; text-decoration-color: #800000\">│</span>   <span style=\"color: #7f7f7f; text-decoration-color: #7f7f7f\">1181 </span><span style=\"color: #7f7f7f; text-decoration-color: #7f7f7f\">│   │   │   │   </span><span style=\"color: #7f7f7f; text-decoration-color: #7f7f7f\"># Note: does not call self.update(1) for speed optimisation.</span>              <span style=\"color: #800000; text-decoration-color: #800000\">│</span>\n",
       "<span style=\"color: #800000; text-decoration-color: #800000\">│</span>                                                                                                  <span style=\"color: #800000; text-decoration-color: #800000\">│</span>\n",
       "<span style=\"color: #800000; text-decoration-color: #800000\">│</span> <span style=\"color: #808000; text-decoration-color: #808000\">c:\\Users\\mo\\anaconda3\\envs\\ml_env\\lib\\site-packages\\torch\\utils\\data\\dataloader.py</span>:<span style=\"color: #0000ff; text-decoration-color: #0000ff\">633</span> in        <span style=\"color: #800000; text-decoration-color: #800000\">│</span>\n",
       "<span style=\"color: #800000; text-decoration-color: #800000\">│</span> <span style=\"color: #00ff00; text-decoration-color: #00ff00\">__next__</span>                                                                                         <span style=\"color: #800000; text-decoration-color: #800000\">│</span>\n",
       "<span style=\"color: #800000; text-decoration-color: #800000\">│</span>                                                                                                  <span style=\"color: #800000; text-decoration-color: #800000\">│</span>\n",
       "<span style=\"color: #800000; text-decoration-color: #800000\">│</span>   <span style=\"color: #7f7f7f; text-decoration-color: #7f7f7f\"> 630 </span><span style=\"color: #7f7f7f; text-decoration-color: #7f7f7f\">│   │   │   </span><span style=\"color: #0000ff; text-decoration-color: #0000ff\">if</span> <span style=\"color: #00ffff; text-decoration-color: #00ffff\">self</span>._sampler_iter <span style=\"color: #ff00ff; text-decoration-color: #ff00ff\">is</span> <span style=\"color: #0000ff; text-decoration-color: #0000ff\">None</span>:                                                <span style=\"color: #800000; text-decoration-color: #800000\">│</span>\n",
       "<span style=\"color: #800000; text-decoration-color: #800000\">│</span>   <span style=\"color: #7f7f7f; text-decoration-color: #7f7f7f\"> 631 </span><span style=\"color: #7f7f7f; text-decoration-color: #7f7f7f\">│   │   │   │   </span><span style=\"color: #7f7f7f; text-decoration-color: #7f7f7f\"># TODO(https://github.com/pytorch/pytorch/issues/76750)</span>                   <span style=\"color: #800000; text-decoration-color: #800000\">│</span>\n",
       "<span style=\"color: #800000; text-decoration-color: #800000\">│</span>   <span style=\"color: #7f7f7f; text-decoration-color: #7f7f7f\"> 632 </span><span style=\"color: #7f7f7f; text-decoration-color: #7f7f7f\">│   │   │   │   </span><span style=\"color: #00ffff; text-decoration-color: #00ffff\">self</span>._reset()  <span style=\"color: #7f7f7f; text-decoration-color: #7f7f7f\"># type: ignore[call-arg]</span>                                   <span style=\"color: #800000; text-decoration-color: #800000\">│</span>\n",
       "<span style=\"color: #800000; text-decoration-color: #800000\">│</span> <span style=\"color: #800000; text-decoration-color: #800000\">❱ </span> 633 <span style=\"color: #7f7f7f; text-decoration-color: #7f7f7f\">│   │   │   </span>data = <span style=\"color: #00ffff; text-decoration-color: #00ffff\">self</span>._next_data()                                                      <span style=\"color: #800000; text-decoration-color: #800000\">│</span>\n",
       "<span style=\"color: #800000; text-decoration-color: #800000\">│</span>   <span style=\"color: #7f7f7f; text-decoration-color: #7f7f7f\"> 634 </span><span style=\"color: #7f7f7f; text-decoration-color: #7f7f7f\">│   │   │   </span><span style=\"color: #00ffff; text-decoration-color: #00ffff\">self</span>._num_yielded += <span style=\"color: #0000ff; text-decoration-color: #0000ff\">1</span>                                                        <span style=\"color: #800000; text-decoration-color: #800000\">│</span>\n",
       "<span style=\"color: #800000; text-decoration-color: #800000\">│</span>   <span style=\"color: #7f7f7f; text-decoration-color: #7f7f7f\"> 635 </span><span style=\"color: #7f7f7f; text-decoration-color: #7f7f7f\">│   │   │   </span><span style=\"color: #0000ff; text-decoration-color: #0000ff\">if</span> <span style=\"color: #00ffff; text-decoration-color: #00ffff\">self</span>._dataset_kind == _DatasetKind.Iterable <span style=\"color: #ff00ff; text-decoration-color: #ff00ff\">and</span> \\                          <span style=\"color: #800000; text-decoration-color: #800000\">│</span>\n",
       "<span style=\"color: #800000; text-decoration-color: #800000\">│</span>   <span style=\"color: #7f7f7f; text-decoration-color: #7f7f7f\"> 636 </span><span style=\"color: #7f7f7f; text-decoration-color: #7f7f7f\">│   │   │   │   │   </span><span style=\"color: #00ffff; text-decoration-color: #00ffff\">self</span>._IterableDataset_len_called <span style=\"color: #ff00ff; text-decoration-color: #ff00ff\">is</span> <span style=\"color: #ff00ff; text-decoration-color: #ff00ff\">not</span> <span style=\"color: #0000ff; text-decoration-color: #0000ff\">None</span> <span style=\"color: #ff00ff; text-decoration-color: #ff00ff\">and</span> \\                    <span style=\"color: #800000; text-decoration-color: #800000\">│</span>\n",
       "<span style=\"color: #800000; text-decoration-color: #800000\">│</span>                                                                                                  <span style=\"color: #800000; text-decoration-color: #800000\">│</span>\n",
       "<span style=\"color: #800000; text-decoration-color: #800000\">│</span> <span style=\"color: #808000; text-decoration-color: #808000\">c:\\Users\\mo\\anaconda3\\envs\\ml_env\\lib\\site-packages\\torch\\utils\\data\\dataloader.py</span>:<span style=\"color: #0000ff; text-decoration-color: #0000ff\">677</span> in        <span style=\"color: #800000; text-decoration-color: #800000\">│</span>\n",
       "<span style=\"color: #800000; text-decoration-color: #800000\">│</span> <span style=\"color: #00ff00; text-decoration-color: #00ff00\">_next_data</span>                                                                                       <span style=\"color: #800000; text-decoration-color: #800000\">│</span>\n",
       "<span style=\"color: #800000; text-decoration-color: #800000\">│</span>                                                                                                  <span style=\"color: #800000; text-decoration-color: #800000\">│</span>\n",
       "<span style=\"color: #800000; text-decoration-color: #800000\">│</span>   <span style=\"color: #7f7f7f; text-decoration-color: #7f7f7f\"> 674 </span><span style=\"color: #7f7f7f; text-decoration-color: #7f7f7f\">│   </span>                                                                                      <span style=\"color: #800000; text-decoration-color: #800000\">│</span>\n",
       "<span style=\"color: #800000; text-decoration-color: #800000\">│</span>   <span style=\"color: #7f7f7f; text-decoration-color: #7f7f7f\"> 675 </span><span style=\"color: #7f7f7f; text-decoration-color: #7f7f7f\">│   </span><span style=\"color: #0000ff; text-decoration-color: #0000ff\">def</span> <span style=\"color: #00ff00; text-decoration-color: #00ff00\">_next_data</span>(<span style=\"color: #00ffff; text-decoration-color: #00ffff\">self</span>):                                                                 <span style=\"color: #800000; text-decoration-color: #800000\">│</span>\n",
       "<span style=\"color: #800000; text-decoration-color: #800000\">│</span>   <span style=\"color: #7f7f7f; text-decoration-color: #7f7f7f\"> 676 </span><span style=\"color: #7f7f7f; text-decoration-color: #7f7f7f\">│   │   </span>index = <span style=\"color: #00ffff; text-decoration-color: #00ffff\">self</span>._next_index()  <span style=\"color: #7f7f7f; text-decoration-color: #7f7f7f\"># may raise StopIteration</span>                             <span style=\"color: #800000; text-decoration-color: #800000\">│</span>\n",
       "<span style=\"color: #800000; text-decoration-color: #800000\">│</span> <span style=\"color: #800000; text-decoration-color: #800000\">❱ </span> 677 <span style=\"color: #7f7f7f; text-decoration-color: #7f7f7f\">│   │   </span>data = <span style=\"color: #00ffff; text-decoration-color: #00ffff\">self</span>._dataset_fetcher.fetch(index)  <span style=\"color: #7f7f7f; text-decoration-color: #7f7f7f\"># may raise StopIteration</span>              <span style=\"color: #800000; text-decoration-color: #800000\">│</span>\n",
       "<span style=\"color: #800000; text-decoration-color: #800000\">│</span>   <span style=\"color: #7f7f7f; text-decoration-color: #7f7f7f\"> 678 </span><span style=\"color: #7f7f7f; text-decoration-color: #7f7f7f\">│   │   </span><span style=\"color: #0000ff; text-decoration-color: #0000ff\">if</span> <span style=\"color: #00ffff; text-decoration-color: #00ffff\">self</span>._pin_memory:                                                              <span style=\"color: #800000; text-decoration-color: #800000\">│</span>\n",
       "<span style=\"color: #800000; text-decoration-color: #800000\">│</span>   <span style=\"color: #7f7f7f; text-decoration-color: #7f7f7f\"> 679 </span><span style=\"color: #7f7f7f; text-decoration-color: #7f7f7f\">│   │   │   </span>data = _utils.pin_memory.pin_memory(data, <span style=\"color: #00ffff; text-decoration-color: #00ffff\">self</span>._pin_memory_device)            <span style=\"color: #800000; text-decoration-color: #800000\">│</span>\n",
       "<span style=\"color: #800000; text-decoration-color: #800000\">│</span>   <span style=\"color: #7f7f7f; text-decoration-color: #7f7f7f\"> 680 </span><span style=\"color: #7f7f7f; text-decoration-color: #7f7f7f\">│   │   </span><span style=\"color: #0000ff; text-decoration-color: #0000ff\">return</span> data                                                                       <span style=\"color: #800000; text-decoration-color: #800000\">│</span>\n",
       "<span style=\"color: #800000; text-decoration-color: #800000\">│</span>                                                                                                  <span style=\"color: #800000; text-decoration-color: #800000\">│</span>\n",
       "<span style=\"color: #800000; text-decoration-color: #800000\">│</span> <span style=\"color: #808000; text-decoration-color: #808000\">c:\\Users\\mo\\anaconda3\\envs\\ml_env\\lib\\site-packages\\torch\\utils\\data\\_utils\\fetch.py</span>:<span style=\"color: #0000ff; text-decoration-color: #0000ff\">51</span> in <span style=\"color: #00ff00; text-decoration-color: #00ff00\">fetch</span> <span style=\"color: #800000; text-decoration-color: #800000\">│</span>\n",
       "<span style=\"color: #800000; text-decoration-color: #800000\">│</span>                                                                                                  <span style=\"color: #800000; text-decoration-color: #800000\">│</span>\n",
       "<span style=\"color: #800000; text-decoration-color: #800000\">│</span>   <span style=\"color: #7f7f7f; text-decoration-color: #7f7f7f\">48 </span><span style=\"color: #7f7f7f; text-decoration-color: #7f7f7f\">│   │   │   </span><span style=\"color: #0000ff; text-decoration-color: #0000ff\">if</span> <span style=\"color: #00ffff; text-decoration-color: #00ffff\">hasattr</span>(<span style=\"color: #00ffff; text-decoration-color: #00ffff\">self</span>.dataset, <span style=\"color: #808000; text-decoration-color: #808000\">\"__getitems__\"</span>) <span style=\"color: #ff00ff; text-decoration-color: #ff00ff\">and</span> <span style=\"color: #00ffff; text-decoration-color: #00ffff\">self</span>.dataset.__getitems__:         <span style=\"color: #800000; text-decoration-color: #800000\">│</span>\n",
       "<span style=\"color: #800000; text-decoration-color: #800000\">│</span>   <span style=\"color: #7f7f7f; text-decoration-color: #7f7f7f\">49 </span><span style=\"color: #7f7f7f; text-decoration-color: #7f7f7f\">│   │   │   │   </span>data = <span style=\"color: #00ffff; text-decoration-color: #00ffff\">self</span>.dataset.__getitems__(possibly_batched_index)                    <span style=\"color: #800000; text-decoration-color: #800000\">│</span>\n",
       "<span style=\"color: #800000; text-decoration-color: #800000\">│</span>   <span style=\"color: #7f7f7f; text-decoration-color: #7f7f7f\">50 </span><span style=\"color: #7f7f7f; text-decoration-color: #7f7f7f\">│   │   │   </span><span style=\"color: #0000ff; text-decoration-color: #0000ff\">else</span>:                                                                           <span style=\"color: #800000; text-decoration-color: #800000\">│</span>\n",
       "<span style=\"color: #800000; text-decoration-color: #800000\">│</span> <span style=\"color: #800000; text-decoration-color: #800000\">❱ </span>51 <span style=\"color: #7f7f7f; text-decoration-color: #7f7f7f\">│   │   │   │   </span>data = [<span style=\"color: #00ffff; text-decoration-color: #00ffff\">self</span>.dataset[idx] <span style=\"color: #0000ff; text-decoration-color: #0000ff\">for</span> idx <span style=\"color: #ff00ff; text-decoration-color: #ff00ff\">in</span> possibly_batched_index]                <span style=\"color: #800000; text-decoration-color: #800000\">│</span>\n",
       "<span style=\"color: #800000; text-decoration-color: #800000\">│</span>   <span style=\"color: #7f7f7f; text-decoration-color: #7f7f7f\">52 </span><span style=\"color: #7f7f7f; text-decoration-color: #7f7f7f\">│   │   </span><span style=\"color: #0000ff; text-decoration-color: #0000ff\">else</span>:                                                                               <span style=\"color: #800000; text-decoration-color: #800000\">│</span>\n",
       "<span style=\"color: #800000; text-decoration-color: #800000\">│</span>   <span style=\"color: #7f7f7f; text-decoration-color: #7f7f7f\">53 </span><span style=\"color: #7f7f7f; text-decoration-color: #7f7f7f\">│   │   │   </span>data = <span style=\"color: #00ffff; text-decoration-color: #00ffff\">self</span>.dataset[possibly_batched_index]                                     <span style=\"color: #800000; text-decoration-color: #800000\">│</span>\n",
       "<span style=\"color: #800000; text-decoration-color: #800000\">│</span>   <span style=\"color: #7f7f7f; text-decoration-color: #7f7f7f\">54 </span><span style=\"color: #7f7f7f; text-decoration-color: #7f7f7f\">│   │   </span><span style=\"color: #0000ff; text-decoration-color: #0000ff\">return</span> <span style=\"color: #00ffff; text-decoration-color: #00ffff\">self</span>.collate_fn(data)                                                        <span style=\"color: #800000; text-decoration-color: #800000\">│</span>\n",
       "<span style=\"color: #800000; text-decoration-color: #800000\">│</span>                                                                                                  <span style=\"color: #800000; text-decoration-color: #800000\">│</span>\n",
       "<span style=\"color: #800000; text-decoration-color: #800000\">│</span> <span style=\"color: #808000; text-decoration-color: #808000\">c:\\Users\\mo\\anaconda3\\envs\\ml_env\\lib\\site-packages\\torch\\utils\\data\\_utils\\fetch.py</span>:<span style=\"color: #0000ff; text-decoration-color: #0000ff\">51</span> in       <span style=\"color: #800000; text-decoration-color: #800000\">│</span>\n",
       "<span style=\"color: #800000; text-decoration-color: #800000\">│</span> <span style=\"color: #00ff00; text-decoration-color: #00ff00\">&lt;listcomp&gt;</span>                                                                                       <span style=\"color: #800000; text-decoration-color: #800000\">│</span>\n",
       "<span style=\"color: #800000; text-decoration-color: #800000\">│</span>                                                                                                  <span style=\"color: #800000; text-decoration-color: #800000\">│</span>\n",
       "<span style=\"color: #800000; text-decoration-color: #800000\">│</span>   <span style=\"color: #7f7f7f; text-decoration-color: #7f7f7f\">48 </span><span style=\"color: #7f7f7f; text-decoration-color: #7f7f7f\">│   │   │   </span><span style=\"color: #0000ff; text-decoration-color: #0000ff\">if</span> <span style=\"color: #00ffff; text-decoration-color: #00ffff\">hasattr</span>(<span style=\"color: #00ffff; text-decoration-color: #00ffff\">self</span>.dataset, <span style=\"color: #808000; text-decoration-color: #808000\">\"__getitems__\"</span>) <span style=\"color: #ff00ff; text-decoration-color: #ff00ff\">and</span> <span style=\"color: #00ffff; text-decoration-color: #00ffff\">self</span>.dataset.__getitems__:         <span style=\"color: #800000; text-decoration-color: #800000\">│</span>\n",
       "<span style=\"color: #800000; text-decoration-color: #800000\">│</span>   <span style=\"color: #7f7f7f; text-decoration-color: #7f7f7f\">49 </span><span style=\"color: #7f7f7f; text-decoration-color: #7f7f7f\">│   │   │   │   </span>data = <span style=\"color: #00ffff; text-decoration-color: #00ffff\">self</span>.dataset.__getitems__(possibly_batched_index)                    <span style=\"color: #800000; text-decoration-color: #800000\">│</span>\n",
       "<span style=\"color: #800000; text-decoration-color: #800000\">│</span>   <span style=\"color: #7f7f7f; text-decoration-color: #7f7f7f\">50 </span><span style=\"color: #7f7f7f; text-decoration-color: #7f7f7f\">│   │   │   </span><span style=\"color: #0000ff; text-decoration-color: #0000ff\">else</span>:                                                                           <span style=\"color: #800000; text-decoration-color: #800000\">│</span>\n",
       "<span style=\"color: #800000; text-decoration-color: #800000\">│</span> <span style=\"color: #800000; text-decoration-color: #800000\">❱ </span>51 <span style=\"color: #7f7f7f; text-decoration-color: #7f7f7f\">│   │   │   │   </span>data = [<span style=\"color: #00ffff; text-decoration-color: #00ffff\">self</span>.dataset[idx] <span style=\"color: #0000ff; text-decoration-color: #0000ff\">for</span> idx <span style=\"color: #ff00ff; text-decoration-color: #ff00ff\">in</span> possibly_batched_index]                <span style=\"color: #800000; text-decoration-color: #800000\">│</span>\n",
       "<span style=\"color: #800000; text-decoration-color: #800000\">│</span>   <span style=\"color: #7f7f7f; text-decoration-color: #7f7f7f\">52 </span><span style=\"color: #7f7f7f; text-decoration-color: #7f7f7f\">│   │   </span><span style=\"color: #0000ff; text-decoration-color: #0000ff\">else</span>:                                                                               <span style=\"color: #800000; text-decoration-color: #800000\">│</span>\n",
       "<span style=\"color: #800000; text-decoration-color: #800000\">│</span>   <span style=\"color: #7f7f7f; text-decoration-color: #7f7f7f\">53 </span><span style=\"color: #7f7f7f; text-decoration-color: #7f7f7f\">│   │   │   </span>data = <span style=\"color: #00ffff; text-decoration-color: #00ffff\">self</span>.dataset[possibly_batched_index]                                     <span style=\"color: #800000; text-decoration-color: #800000\">│</span>\n",
       "<span style=\"color: #800000; text-decoration-color: #800000\">│</span>   <span style=\"color: #7f7f7f; text-decoration-color: #7f7f7f\">54 </span><span style=\"color: #7f7f7f; text-decoration-color: #7f7f7f\">│   │   </span><span style=\"color: #0000ff; text-decoration-color: #0000ff\">return</span> <span style=\"color: #00ffff; text-decoration-color: #00ffff\">self</span>.collate_fn(data)                                                        <span style=\"color: #800000; text-decoration-color: #800000\">│</span>\n",
       "<span style=\"color: #800000; text-decoration-color: #800000\">│</span>                                                                                                  <span style=\"color: #800000; text-decoration-color: #800000\">│</span>\n",
       "<span style=\"color: #800000; text-decoration-color: #800000\">│</span> <span style=\"color: #808000; text-decoration-color: #808000\">c:\\Users\\mo\\anaconda3\\envs\\ml_env\\lib\\site-packages\\monai\\data\\dataset.py</span>:<span style=\"color: #0000ff; text-decoration-color: #0000ff\">107</span> in <span style=\"color: #00ff00; text-decoration-color: #00ff00\">__getitem__</span>     <span style=\"color: #800000; text-decoration-color: #800000\">│</span>\n",
       "<span style=\"color: #800000; text-decoration-color: #800000\">│</span>                                                                                                  <span style=\"color: #800000; text-decoration-color: #800000\">│</span>\n",
       "<span style=\"color: #800000; text-decoration-color: #800000\">│</span>   <span style=\"color: #7f7f7f; text-decoration-color: #7f7f7f\"> 104 </span><span style=\"color: #7f7f7f; text-decoration-color: #7f7f7f\">│   │   </span><span style=\"color: #0000ff; text-decoration-color: #0000ff\">if</span> <span style=\"color: #00ffff; text-decoration-color: #00ffff\">isinstance</span>(index, collections.abc.Sequence):                                   <span style=\"color: #800000; text-decoration-color: #800000\">│</span>\n",
       "<span style=\"color: #800000; text-decoration-color: #800000\">│</span>   <span style=\"color: #7f7f7f; text-decoration-color: #7f7f7f\"> 105 </span><span style=\"color: #7f7f7f; text-decoration-color: #7f7f7f\">│   │   │   </span><span style=\"color: #7f7f7f; text-decoration-color: #7f7f7f\"># dataset[[1, 3, 4]]</span>                                                          <span style=\"color: #800000; text-decoration-color: #800000\">│</span>\n",
       "<span style=\"color: #800000; text-decoration-color: #800000\">│</span>   <span style=\"color: #7f7f7f; text-decoration-color: #7f7f7f\"> 106 </span><span style=\"color: #7f7f7f; text-decoration-color: #7f7f7f\">│   │   │   </span><span style=\"color: #0000ff; text-decoration-color: #0000ff\">return</span> Subset(dataset=<span style=\"color: #00ffff; text-decoration-color: #00ffff\">self</span>, indices=index)                                    <span style=\"color: #800000; text-decoration-color: #800000\">│</span>\n",
       "<span style=\"color: #800000; text-decoration-color: #800000\">│</span> <span style=\"color: #800000; text-decoration-color: #800000\">❱ </span> 107 <span style=\"color: #7f7f7f; text-decoration-color: #7f7f7f\">│   │   </span><span style=\"color: #0000ff; text-decoration-color: #0000ff\">return</span> <span style=\"color: #00ffff; text-decoration-color: #00ffff\">self</span>._transform(index)                                                     <span style=\"color: #800000; text-decoration-color: #800000\">│</span>\n",
       "<span style=\"color: #800000; text-decoration-color: #800000\">│</span>   <span style=\"color: #7f7f7f; text-decoration-color: #7f7f7f\"> 108 </span>                                                                                          <span style=\"color: #800000; text-decoration-color: #800000\">│</span>\n",
       "<span style=\"color: #800000; text-decoration-color: #800000\">│</span>   <span style=\"color: #7f7f7f; text-decoration-color: #7f7f7f\"> 109 </span>                                                                                          <span style=\"color: #800000; text-decoration-color: #800000\">│</span>\n",
       "<span style=\"color: #800000; text-decoration-color: #800000\">│</span>   <span style=\"color: #7f7f7f; text-decoration-color: #7f7f7f\"> 110 </span><span style=\"color: #0000ff; text-decoration-color: #0000ff\">class</span> <span style=\"color: #00ff00; text-decoration-color: #00ff00; text-decoration: underline\">DatasetFunc</span>(Dataset):                                                               <span style=\"color: #800000; text-decoration-color: #800000\">│</span>\n",
       "<span style=\"color: #800000; text-decoration-color: #800000\">│</span>                                                                                                  <span style=\"color: #800000; text-decoration-color: #800000\">│</span>\n",
       "<span style=\"color: #800000; text-decoration-color: #800000\">│</span> <span style=\"color: #808000; text-decoration-color: #808000\">c:\\Users\\mo\\anaconda3\\envs\\ml_env\\lib\\site-packages\\monai\\data\\dataset.py</span>:<span style=\"color: #0000ff; text-decoration-color: #0000ff\">921</span> in <span style=\"color: #00ff00; text-decoration-color: #00ff00\">_transform</span>      <span style=\"color: #800000; text-decoration-color: #800000\">│</span>\n",
       "<span style=\"color: #800000; text-decoration-color: #800000\">│</span>                                                                                                  <span style=\"color: #800000; text-decoration-color: #800000\">│</span>\n",
       "<span style=\"color: #800000; text-decoration-color: #800000\">│</span>   <span style=\"color: #7f7f7f; text-decoration-color: #7f7f7f\"> 918 </span><span style=\"color: #7f7f7f; text-decoration-color: #7f7f7f\">│   │   │   │   │   </span>start_run = <span style=\"color: #0000ff; text-decoration-color: #0000ff\">True</span>                                                      <span style=\"color: #800000; text-decoration-color: #800000\">│</span>\n",
       "<span style=\"color: #800000; text-decoration-color: #800000\">│</span>   <span style=\"color: #7f7f7f; text-decoration-color: #7f7f7f\"> 919 </span><span style=\"color: #7f7f7f; text-decoration-color: #7f7f7f\">│   │   │   │   │   </span><span style=\"color: #0000ff; text-decoration-color: #0000ff\">if</span> <span style=\"color: #00ffff; text-decoration-color: #00ffff\">self</span>.copy_cache:                                                   <span style=\"color: #800000; text-decoration-color: #800000\">│</span>\n",
       "<span style=\"color: #800000; text-decoration-color: #800000\">│</span>   <span style=\"color: #7f7f7f; text-decoration-color: #7f7f7f\"> 920 </span><span style=\"color: #7f7f7f; text-decoration-color: #7f7f7f\">│   │   │   │   │   │   </span>data = deepcopy(data)                                             <span style=\"color: #800000; text-decoration-color: #800000\">│</span>\n",
       "<span style=\"color: #800000; text-decoration-color: #800000\">│</span> <span style=\"color: #800000; text-decoration-color: #800000\">❱ </span> 921 <span style=\"color: #7f7f7f; text-decoration-color: #7f7f7f\">│   │   │   │   </span>data = apply_transform(_transform, data)                                  <span style=\"color: #800000; text-decoration-color: #800000\">│</span>\n",
       "<span style=\"color: #800000; text-decoration-color: #800000\">│</span>   <span style=\"color: #7f7f7f; text-decoration-color: #7f7f7f\"> 922 </span><span style=\"color: #7f7f7f; text-decoration-color: #7f7f7f\">│   │   </span><span style=\"color: #0000ff; text-decoration-color: #0000ff\">return</span> data                                                                       <span style=\"color: #800000; text-decoration-color: #800000\">│</span>\n",
       "<span style=\"color: #800000; text-decoration-color: #800000\">│</span>   <span style=\"color: #7f7f7f; text-decoration-color: #7f7f7f\"> 923 </span>                                                                                          <span style=\"color: #800000; text-decoration-color: #800000\">│</span>\n",
       "<span style=\"color: #800000; text-decoration-color: #800000\">│</span>   <span style=\"color: #7f7f7f; text-decoration-color: #7f7f7f\"> 924 </span>                                                                                          <span style=\"color: #800000; text-decoration-color: #800000\">│</span>\n",
       "<span style=\"color: #800000; text-decoration-color: #800000\">│</span>                                                                                                  <span style=\"color: #800000; text-decoration-color: #800000\">│</span>\n",
       "<span style=\"color: #800000; text-decoration-color: #800000\">│</span> <span style=\"color: #808000; text-decoration-color: #808000\">c:\\Users\\mo\\anaconda3\\envs\\ml_env\\lib\\site-packages\\monai\\transforms\\transform.py</span>:<span style=\"color: #0000ff; text-decoration-color: #0000ff\">102</span> in         <span style=\"color: #800000; text-decoration-color: #800000\">│</span>\n",
       "<span style=\"color: #800000; text-decoration-color: #800000\">│</span> <span style=\"color: #00ff00; text-decoration-color: #00ff00\">apply_transform</span>                                                                                  <span style=\"color: #800000; text-decoration-color: #800000\">│</span>\n",
       "<span style=\"color: #800000; text-decoration-color: #800000\">│</span>                                                                                                  <span style=\"color: #800000; text-decoration-color: #800000\">│</span>\n",
       "<span style=\"color: #800000; text-decoration-color: #800000\">│</span>   <span style=\"color: #7f7f7f; text-decoration-color: #7f7f7f\"> 99 </span><span style=\"color: #7f7f7f; text-decoration-color: #7f7f7f\">│   </span><span style=\"color: #0000ff; text-decoration-color: #0000ff\">try</span>:                                                                                   <span style=\"color: #800000; text-decoration-color: #800000\">│</span>\n",
       "<span style=\"color: #800000; text-decoration-color: #800000\">│</span>   <span style=\"color: #7f7f7f; text-decoration-color: #7f7f7f\">100 </span><span style=\"color: #7f7f7f; text-decoration-color: #7f7f7f\">│   │   </span><span style=\"color: #0000ff; text-decoration-color: #0000ff\">if</span> <span style=\"color: #00ffff; text-decoration-color: #00ffff\">isinstance</span>(data, (<span style=\"color: #00ffff; text-decoration-color: #00ffff\">list</span>, <span style=\"color: #00ffff; text-decoration-color: #00ffff\">tuple</span>)) <span style=\"color: #ff00ff; text-decoration-color: #ff00ff\">and</span> map_items:                                  <span style=\"color: #800000; text-decoration-color: #800000\">│</span>\n",
       "<span style=\"color: #800000; text-decoration-color: #800000\">│</span>   <span style=\"color: #7f7f7f; text-decoration-color: #7f7f7f\">101 </span><span style=\"color: #7f7f7f; text-decoration-color: #7f7f7f\">│   │   │   </span><span style=\"color: #0000ff; text-decoration-color: #0000ff\">return</span> [_apply_transform(transform, item, unpack_items) <span style=\"color: #0000ff; text-decoration-color: #0000ff\">for</span> item <span style=\"color: #ff00ff; text-decoration-color: #ff00ff\">in</span> data]      <span style=\"color: #800000; text-decoration-color: #800000\">│</span>\n",
       "<span style=\"color: #800000; text-decoration-color: #800000\">│</span> <span style=\"color: #800000; text-decoration-color: #800000\">❱ </span>102 <span style=\"color: #7f7f7f; text-decoration-color: #7f7f7f\">│   │   </span><span style=\"color: #0000ff; text-decoration-color: #0000ff\">return</span> _apply_transform(transform, data, unpack_items)                             <span style=\"color: #800000; text-decoration-color: #800000\">│</span>\n",
       "<span style=\"color: #800000; text-decoration-color: #800000\">│</span>   <span style=\"color: #7f7f7f; text-decoration-color: #7f7f7f\">103 </span><span style=\"color: #7f7f7f; text-decoration-color: #7f7f7f\">│   </span><span style=\"color: #0000ff; text-decoration-color: #0000ff\">except</span> <span style=\"color: #00ffff; text-decoration-color: #00ffff\">Exception</span> <span style=\"color: #0000ff; text-decoration-color: #0000ff\">as</span> e:                                                                 <span style=\"color: #800000; text-decoration-color: #800000\">│</span>\n",
       "<span style=\"color: #800000; text-decoration-color: #800000\">│</span>   <span style=\"color: #7f7f7f; text-decoration-color: #7f7f7f\">104 </span><span style=\"color: #7f7f7f; text-decoration-color: #7f7f7f\">│   │   </span><span style=\"color: #7f7f7f; text-decoration-color: #7f7f7f\"># if in debug mode, don't swallow exception so that the breakpoint</span>                 <span style=\"color: #800000; text-decoration-color: #800000\">│</span>\n",
       "<span style=\"color: #800000; text-decoration-color: #800000\">│</span>   <span style=\"color: #7f7f7f; text-decoration-color: #7f7f7f\">105 </span><span style=\"color: #7f7f7f; text-decoration-color: #7f7f7f\">│   │   </span><span style=\"color: #7f7f7f; text-decoration-color: #7f7f7f\"># appears where the exception was raised.</span>                                          <span style=\"color: #800000; text-decoration-color: #800000\">│</span>\n",
       "<span style=\"color: #800000; text-decoration-color: #800000\">│</span>                                                                                                  <span style=\"color: #800000; text-decoration-color: #800000\">│</span>\n",
       "<span style=\"color: #800000; text-decoration-color: #800000\">│</span> <span style=\"color: #808000; text-decoration-color: #808000\">c:\\Users\\mo\\anaconda3\\envs\\ml_env\\lib\\site-packages\\monai\\transforms\\transform.py</span>:<span style=\"color: #0000ff; text-decoration-color: #0000ff\">66</span> in          <span style=\"color: #800000; text-decoration-color: #800000\">│</span>\n",
       "<span style=\"color: #800000; text-decoration-color: #800000\">│</span> <span style=\"color: #00ff00; text-decoration-color: #00ff00\">_apply_transform</span>                                                                                 <span style=\"color: #800000; text-decoration-color: #800000\">│</span>\n",
       "<span style=\"color: #800000; text-decoration-color: #800000\">│</span>                                                                                                  <span style=\"color: #800000; text-decoration-color: #800000\">│</span>\n",
       "<span style=\"color: #800000; text-decoration-color: #800000\">│</span>   <span style=\"color: #7f7f7f; text-decoration-color: #7f7f7f\"> 63 </span><span style=\"color: #7f7f7f; text-decoration-color: #7f7f7f\">│   </span><span style=\"color: #0000ff; text-decoration-color: #0000ff\">if</span> <span style=\"color: #00ffff; text-decoration-color: #00ffff\">isinstance</span>(parameters, <span style=\"color: #00ffff; text-decoration-color: #00ffff\">tuple</span>) <span style=\"color: #ff00ff; text-decoration-color: #ff00ff\">and</span> unpack_parameters:                                <span style=\"color: #800000; text-decoration-color: #800000\">│</span>\n",
       "<span style=\"color: #800000; text-decoration-color: #800000\">│</span>   <span style=\"color: #7f7f7f; text-decoration-color: #7f7f7f\"> 64 </span><span style=\"color: #7f7f7f; text-decoration-color: #7f7f7f\">│   │   </span><span style=\"color: #0000ff; text-decoration-color: #0000ff\">return</span> transform(*parameters)                                                      <span style=\"color: #800000; text-decoration-color: #800000\">│</span>\n",
       "<span style=\"color: #800000; text-decoration-color: #800000\">│</span>   <span style=\"color: #7f7f7f; text-decoration-color: #7f7f7f\"> 65 </span><span style=\"color: #7f7f7f; text-decoration-color: #7f7f7f\">│   </span>                                                                                       <span style=\"color: #800000; text-decoration-color: #800000\">│</span>\n",
       "<span style=\"color: #800000; text-decoration-color: #800000\">│</span> <span style=\"color: #800000; text-decoration-color: #800000\">❱ </span> 66 <span style=\"color: #7f7f7f; text-decoration-color: #7f7f7f\">│   </span><span style=\"color: #0000ff; text-decoration-color: #0000ff\">return</span> transform(parameters)                                                           <span style=\"color: #800000; text-decoration-color: #800000\">│</span>\n",
       "<span style=\"color: #800000; text-decoration-color: #800000\">│</span>   <span style=\"color: #7f7f7f; text-decoration-color: #7f7f7f\"> 67 </span>                                                                                           <span style=\"color: #800000; text-decoration-color: #800000\">│</span>\n",
       "<span style=\"color: #800000; text-decoration-color: #800000\">│</span>   <span style=\"color: #7f7f7f; text-decoration-color: #7f7f7f\"> 68 </span>                                                                                           <span style=\"color: #800000; text-decoration-color: #800000\">│</span>\n",
       "<span style=\"color: #800000; text-decoration-color: #800000\">│</span>   <span style=\"color: #7f7f7f; text-decoration-color: #7f7f7f\"> 69 </span><span style=\"color: #0000ff; text-decoration-color: #0000ff\">def</span> <span style=\"color: #00ff00; text-decoration-color: #00ff00\">apply_transform</span>(                                                                       <span style=\"color: #800000; text-decoration-color: #800000\">│</span>\n",
       "<span style=\"color: #800000; text-decoration-color: #800000\">│</span>                                                                                                  <span style=\"color: #800000; text-decoration-color: #800000\">│</span>\n",
       "<span style=\"color: #800000; text-decoration-color: #800000\">│</span> <span style=\"color: #808000; text-decoration-color: #808000\">c:\\Users\\mo\\anaconda3\\envs\\ml_env\\lib\\site-packages\\monai\\transforms\\compose.py</span>:<span style=\"color: #0000ff; text-decoration-color: #0000ff\">174</span> in <span style=\"color: #00ff00; text-decoration-color: #00ff00\">__call__</span>  <span style=\"color: #800000; text-decoration-color: #800000\">│</span>\n",
       "<span style=\"color: #800000; text-decoration-color: #800000\">│</span>                                                                                                  <span style=\"color: #800000; text-decoration-color: #800000\">│</span>\n",
       "<span style=\"color: #800000; text-decoration-color: #800000\">│</span>   <span style=\"color: #7f7f7f; text-decoration-color: #7f7f7f\">171 </span><span style=\"color: #7f7f7f; text-decoration-color: #7f7f7f\">│   </span>                                                                                       <span style=\"color: #800000; text-decoration-color: #800000\">│</span>\n",
       "<span style=\"color: #800000; text-decoration-color: #800000\">│</span>   <span style=\"color: #7f7f7f; text-decoration-color: #7f7f7f\">172 </span><span style=\"color: #7f7f7f; text-decoration-color: #7f7f7f\">│   </span><span style=\"color: #0000ff; text-decoration-color: #0000ff\">def</span> <span style=\"color: #00ff00; text-decoration-color: #00ff00\">__call__</span>(<span style=\"color: #00ffff; text-decoration-color: #00ffff\">self</span>, input_):                                                            <span style=\"color: #800000; text-decoration-color: #800000\">│</span>\n",
       "<span style=\"color: #800000; text-decoration-color: #800000\">│</span>   <span style=\"color: #7f7f7f; text-decoration-color: #7f7f7f\">173 </span><span style=\"color: #7f7f7f; text-decoration-color: #7f7f7f\">│   │   </span><span style=\"color: #0000ff; text-decoration-color: #0000ff\">for</span> _transform <span style=\"color: #ff00ff; text-decoration-color: #ff00ff\">in</span> <span style=\"color: #00ffff; text-decoration-color: #00ffff\">self</span>.transforms:                                                 <span style=\"color: #800000; text-decoration-color: #800000\">│</span>\n",
       "<span style=\"color: #800000; text-decoration-color: #800000\">│</span> <span style=\"color: #800000; text-decoration-color: #800000\">❱ </span>174 <span style=\"color: #7f7f7f; text-decoration-color: #7f7f7f\">│   │   │   </span>input_ = apply_transform(_transform, input_, <span style=\"color: #00ffff; text-decoration-color: #00ffff\">self</span>.map_items, <span style=\"color: #00ffff; text-decoration-color: #00ffff\">self</span>.unpack_ite   <span style=\"color: #800000; text-decoration-color: #800000\">│</span>\n",
       "<span style=\"color: #800000; text-decoration-color: #800000\">│</span>   <span style=\"color: #7f7f7f; text-decoration-color: #7f7f7f\">175 </span><span style=\"color: #7f7f7f; text-decoration-color: #7f7f7f\">│   │   </span><span style=\"color: #0000ff; text-decoration-color: #0000ff\">return</span> input_                                                                      <span style=\"color: #800000; text-decoration-color: #800000\">│</span>\n",
       "<span style=\"color: #800000; text-decoration-color: #800000\">│</span>   <span style=\"color: #7f7f7f; text-decoration-color: #7f7f7f\">176 </span><span style=\"color: #7f7f7f; text-decoration-color: #7f7f7f\">│   </span>                                                                                       <span style=\"color: #800000; text-decoration-color: #800000\">│</span>\n",
       "<span style=\"color: #800000; text-decoration-color: #800000\">│</span>   <span style=\"color: #7f7f7f; text-decoration-color: #7f7f7f\">177 </span><span style=\"color: #7f7f7f; text-decoration-color: #7f7f7f\">│   </span><span style=\"color: #0000ff; text-decoration-color: #0000ff\">def</span> <span style=\"color: #00ff00; text-decoration-color: #00ff00\">inverse</span>(<span style=\"color: #00ffff; text-decoration-color: #00ffff\">self</span>, data):                                                               <span style=\"color: #800000; text-decoration-color: #800000\">│</span>\n",
       "<span style=\"color: #800000; text-decoration-color: #800000\">│</span>                                                                                                  <span style=\"color: #800000; text-decoration-color: #800000\">│</span>\n",
       "<span style=\"color: #800000; text-decoration-color: #800000\">│</span> <span style=\"color: #808000; text-decoration-color: #808000\">c:\\Users\\mo\\anaconda3\\envs\\ml_env\\lib\\site-packages\\monai\\transforms\\transform.py</span>:<span style=\"color: #0000ff; text-decoration-color: #0000ff\">102</span> in         <span style=\"color: #800000; text-decoration-color: #800000\">│</span>\n",
       "<span style=\"color: #800000; text-decoration-color: #800000\">│</span> <span style=\"color: #00ff00; text-decoration-color: #00ff00\">apply_transform</span>                                                                                  <span style=\"color: #800000; text-decoration-color: #800000\">│</span>\n",
       "<span style=\"color: #800000; text-decoration-color: #800000\">│</span>                                                                                                  <span style=\"color: #800000; text-decoration-color: #800000\">│</span>\n",
       "<span style=\"color: #800000; text-decoration-color: #800000\">│</span>   <span style=\"color: #7f7f7f; text-decoration-color: #7f7f7f\"> 99 </span><span style=\"color: #7f7f7f; text-decoration-color: #7f7f7f\">│   </span><span style=\"color: #0000ff; text-decoration-color: #0000ff\">try</span>:                                                                                   <span style=\"color: #800000; text-decoration-color: #800000\">│</span>\n",
       "<span style=\"color: #800000; text-decoration-color: #800000\">│</span>   <span style=\"color: #7f7f7f; text-decoration-color: #7f7f7f\">100 </span><span style=\"color: #7f7f7f; text-decoration-color: #7f7f7f\">│   │   </span><span style=\"color: #0000ff; text-decoration-color: #0000ff\">if</span> <span style=\"color: #00ffff; text-decoration-color: #00ffff\">isinstance</span>(data, (<span style=\"color: #00ffff; text-decoration-color: #00ffff\">list</span>, <span style=\"color: #00ffff; text-decoration-color: #00ffff\">tuple</span>)) <span style=\"color: #ff00ff; text-decoration-color: #ff00ff\">and</span> map_items:                                  <span style=\"color: #800000; text-decoration-color: #800000\">│</span>\n",
       "<span style=\"color: #800000; text-decoration-color: #800000\">│</span>   <span style=\"color: #7f7f7f; text-decoration-color: #7f7f7f\">101 </span><span style=\"color: #7f7f7f; text-decoration-color: #7f7f7f\">│   │   │   </span><span style=\"color: #0000ff; text-decoration-color: #0000ff\">return</span> [_apply_transform(transform, item, unpack_items) <span style=\"color: #0000ff; text-decoration-color: #0000ff\">for</span> item <span style=\"color: #ff00ff; text-decoration-color: #ff00ff\">in</span> data]      <span style=\"color: #800000; text-decoration-color: #800000\">│</span>\n",
       "<span style=\"color: #800000; text-decoration-color: #800000\">│</span> <span style=\"color: #800000; text-decoration-color: #800000\">❱ </span>102 <span style=\"color: #7f7f7f; text-decoration-color: #7f7f7f\">│   │   </span><span style=\"color: #0000ff; text-decoration-color: #0000ff\">return</span> _apply_transform(transform, data, unpack_items)                             <span style=\"color: #800000; text-decoration-color: #800000\">│</span>\n",
       "<span style=\"color: #800000; text-decoration-color: #800000\">│</span>   <span style=\"color: #7f7f7f; text-decoration-color: #7f7f7f\">103 </span><span style=\"color: #7f7f7f; text-decoration-color: #7f7f7f\">│   </span><span style=\"color: #0000ff; text-decoration-color: #0000ff\">except</span> <span style=\"color: #00ffff; text-decoration-color: #00ffff\">Exception</span> <span style=\"color: #0000ff; text-decoration-color: #0000ff\">as</span> e:                                                                 <span style=\"color: #800000; text-decoration-color: #800000\">│</span>\n",
       "<span style=\"color: #800000; text-decoration-color: #800000\">│</span>   <span style=\"color: #7f7f7f; text-decoration-color: #7f7f7f\">104 </span><span style=\"color: #7f7f7f; text-decoration-color: #7f7f7f\">│   │   </span><span style=\"color: #7f7f7f; text-decoration-color: #7f7f7f\"># if in debug mode, don't swallow exception so that the breakpoint</span>                 <span style=\"color: #800000; text-decoration-color: #800000\">│</span>\n",
       "<span style=\"color: #800000; text-decoration-color: #800000\">│</span>   <span style=\"color: #7f7f7f; text-decoration-color: #7f7f7f\">105 </span><span style=\"color: #7f7f7f; text-decoration-color: #7f7f7f\">│   │   </span><span style=\"color: #7f7f7f; text-decoration-color: #7f7f7f\"># appears where the exception was raised.</span>                                          <span style=\"color: #800000; text-decoration-color: #800000\">│</span>\n",
       "<span style=\"color: #800000; text-decoration-color: #800000\">│</span>                                                                                                  <span style=\"color: #800000; text-decoration-color: #800000\">│</span>\n",
       "<span style=\"color: #800000; text-decoration-color: #800000\">│</span> <span style=\"color: #808000; text-decoration-color: #808000\">c:\\Users\\mo\\anaconda3\\envs\\ml_env\\lib\\site-packages\\monai\\transforms\\transform.py</span>:<span style=\"color: #0000ff; text-decoration-color: #0000ff\">66</span> in          <span style=\"color: #800000; text-decoration-color: #800000\">│</span>\n",
       "<span style=\"color: #800000; text-decoration-color: #800000\">│</span> <span style=\"color: #00ff00; text-decoration-color: #00ff00\">_apply_transform</span>                                                                                 <span style=\"color: #800000; text-decoration-color: #800000\">│</span>\n",
       "<span style=\"color: #800000; text-decoration-color: #800000\">│</span>                                                                                                  <span style=\"color: #800000; text-decoration-color: #800000\">│</span>\n",
       "<span style=\"color: #800000; text-decoration-color: #800000\">│</span>   <span style=\"color: #7f7f7f; text-decoration-color: #7f7f7f\"> 63 </span><span style=\"color: #7f7f7f; text-decoration-color: #7f7f7f\">│   </span><span style=\"color: #0000ff; text-decoration-color: #0000ff\">if</span> <span style=\"color: #00ffff; text-decoration-color: #00ffff\">isinstance</span>(parameters, <span style=\"color: #00ffff; text-decoration-color: #00ffff\">tuple</span>) <span style=\"color: #ff00ff; text-decoration-color: #ff00ff\">and</span> unpack_parameters:                                <span style=\"color: #800000; text-decoration-color: #800000\">│</span>\n",
       "<span style=\"color: #800000; text-decoration-color: #800000\">│</span>   <span style=\"color: #7f7f7f; text-decoration-color: #7f7f7f\"> 64 </span><span style=\"color: #7f7f7f; text-decoration-color: #7f7f7f\">│   │   </span><span style=\"color: #0000ff; text-decoration-color: #0000ff\">return</span> transform(*parameters)                                                      <span style=\"color: #800000; text-decoration-color: #800000\">│</span>\n",
       "<span style=\"color: #800000; text-decoration-color: #800000\">│</span>   <span style=\"color: #7f7f7f; text-decoration-color: #7f7f7f\"> 65 </span><span style=\"color: #7f7f7f; text-decoration-color: #7f7f7f\">│   </span>                                                                                       <span style=\"color: #800000; text-decoration-color: #800000\">│</span>\n",
       "<span style=\"color: #800000; text-decoration-color: #800000\">│</span> <span style=\"color: #800000; text-decoration-color: #800000\">❱ </span> 66 <span style=\"color: #7f7f7f; text-decoration-color: #7f7f7f\">│   </span><span style=\"color: #0000ff; text-decoration-color: #0000ff\">return</span> transform(parameters)                                                           <span style=\"color: #800000; text-decoration-color: #800000\">│</span>\n",
       "<span style=\"color: #800000; text-decoration-color: #800000\">│</span>   <span style=\"color: #7f7f7f; text-decoration-color: #7f7f7f\"> 67 </span>                                                                                           <span style=\"color: #800000; text-decoration-color: #800000\">│</span>\n",
       "<span style=\"color: #800000; text-decoration-color: #800000\">│</span>   <span style=\"color: #7f7f7f; text-decoration-color: #7f7f7f\"> 68 </span>                                                                                           <span style=\"color: #800000; text-decoration-color: #800000\">│</span>\n",
       "<span style=\"color: #800000; text-decoration-color: #800000\">│</span>   <span style=\"color: #7f7f7f; text-decoration-color: #7f7f7f\"> 69 </span><span style=\"color: #0000ff; text-decoration-color: #0000ff\">def</span> <span style=\"color: #00ff00; text-decoration-color: #00ff00\">apply_transform</span>(                                                                       <span style=\"color: #800000; text-decoration-color: #800000\">│</span>\n",
       "<span style=\"color: #800000; text-decoration-color: #800000\">│</span>                                                                                                  <span style=\"color: #800000; text-decoration-color: #800000\">│</span>\n",
       "<span style=\"color: #800000; text-decoration-color: #800000\">│</span> <span style=\"color: #808000; text-decoration-color: #808000\">c:\\Users\\mo\\anaconda3\\envs\\ml_env\\lib\\site-packages\\monai\\transforms\\io\\dictionary.py</span>:<span style=\"color: #0000ff; text-decoration-color: #0000ff\">154</span> in     <span style=\"color: #800000; text-decoration-color: #800000\">│</span>\n",
       "<span style=\"color: #800000; text-decoration-color: #800000\">│</span> <span style=\"color: #00ff00; text-decoration-color: #00ff00\">__call__</span>                                                                                         <span style=\"color: #800000; text-decoration-color: #800000\">│</span>\n",
       "<span style=\"color: #800000; text-decoration-color: #800000\">│</span>                                                                                                  <span style=\"color: #800000; text-decoration-color: #800000\">│</span>\n",
       "<span style=\"color: #800000; text-decoration-color: #800000\">│</span>   <span style=\"color: #7f7f7f; text-decoration-color: #7f7f7f\">151 </span><span style=\"color: #bfbf7f; text-decoration-color: #bfbf7f\">│   │   </span><span style=\"color: #808000; text-decoration-color: #808000\">\"\"\"</span>                                                                                <span style=\"color: #800000; text-decoration-color: #800000\">│</span>\n",
       "<span style=\"color: #800000; text-decoration-color: #800000\">│</span>   <span style=\"color: #7f7f7f; text-decoration-color: #7f7f7f\">152 </span><span style=\"color: #7f7f7f; text-decoration-color: #7f7f7f\">│   │   </span>d = <span style=\"color: #00ffff; text-decoration-color: #00ffff\">dict</span>(data)                                                                     <span style=\"color: #800000; text-decoration-color: #800000\">│</span>\n",
       "<span style=\"color: #800000; text-decoration-color: #800000\">│</span>   <span style=\"color: #7f7f7f; text-decoration-color: #7f7f7f\">153 </span><span style=\"color: #7f7f7f; text-decoration-color: #7f7f7f\">│   │   </span><span style=\"color: #0000ff; text-decoration-color: #0000ff\">for</span> key, meta_key, meta_key_postfix <span style=\"color: #ff00ff; text-decoration-color: #ff00ff\">in</span> <span style=\"color: #00ffff; text-decoration-color: #00ffff\">self</span>.key_iterator(d, <span style=\"color: #00ffff; text-decoration-color: #00ffff\">self</span>.meta_keys, <span style=\"color: #00ffff; text-decoration-color: #00ffff\">self</span>   <span style=\"color: #800000; text-decoration-color: #800000\">│</span>\n",
       "<span style=\"color: #800000; text-decoration-color: #800000\">│</span> <span style=\"color: #800000; text-decoration-color: #800000\">❱ </span>154 <span style=\"color: #7f7f7f; text-decoration-color: #7f7f7f\">│   │   │   </span>data = <span style=\"color: #00ffff; text-decoration-color: #00ffff\">self</span>._loader(d[key], reader)                                            <span style=\"color: #800000; text-decoration-color: #800000\">│</span>\n",
       "<span style=\"color: #800000; text-decoration-color: #800000\">│</span>   <span style=\"color: #7f7f7f; text-decoration-color: #7f7f7f\">155 </span><span style=\"color: #7f7f7f; text-decoration-color: #7f7f7f\">│   │   │   </span><span style=\"color: #0000ff; text-decoration-color: #0000ff\">if</span> <span style=\"color: #00ffff; text-decoration-color: #00ffff\">self</span>._loader.image_only:                                                    <span style=\"color: #800000; text-decoration-color: #800000\">│</span>\n",
       "<span style=\"color: #800000; text-decoration-color: #800000\">│</span>   <span style=\"color: #7f7f7f; text-decoration-color: #7f7f7f\">156 </span><span style=\"color: #7f7f7f; text-decoration-color: #7f7f7f\">│   │   │   │   </span>d[key] = data                                                              <span style=\"color: #800000; text-decoration-color: #800000\">│</span>\n",
       "<span style=\"color: #800000; text-decoration-color: #800000\">│</span>   <span style=\"color: #7f7f7f; text-decoration-color: #7f7f7f\">157 </span><span style=\"color: #7f7f7f; text-decoration-color: #7f7f7f\">│   │   │   </span><span style=\"color: #0000ff; text-decoration-color: #0000ff\">else</span>:                                                                          <span style=\"color: #800000; text-decoration-color: #800000\">│</span>\n",
       "<span style=\"color: #800000; text-decoration-color: #800000\">│</span>                                                                                                  <span style=\"color: #800000; text-decoration-color: #800000\">│</span>\n",
       "<span style=\"color: #800000; text-decoration-color: #800000\">│</span> <span style=\"color: #808000; text-decoration-color: #808000\">c:\\Users\\mo\\anaconda3\\envs\\ml_env\\lib\\site-packages\\monai\\transforms\\io\\array.py</span>:<span style=\"color: #0000ff; text-decoration-color: #0000ff\">274</span> in <span style=\"color: #00ff00; text-decoration-color: #00ff00\">__call__</span> <span style=\"color: #800000; text-decoration-color: #800000\">│</span>\n",
       "<span style=\"color: #800000; text-decoration-color: #800000\">│</span>                                                                                                  <span style=\"color: #800000; text-decoration-color: #800000\">│</span>\n",
       "<span style=\"color: #800000; text-decoration-color: #800000\">│</span>   <span style=\"color: #7f7f7f; text-decoration-color: #7f7f7f\">271 </span><span style=\"color: #7f7f7f; text-decoration-color: #7f7f7f\">│   │   │   </span>)                                                                              <span style=\"color: #800000; text-decoration-color: #800000\">│</span>\n",
       "<span style=\"color: #800000; text-decoration-color: #800000\">│</span>   <span style=\"color: #7f7f7f; text-decoration-color: #7f7f7f\">272 </span><span style=\"color: #7f7f7f; text-decoration-color: #7f7f7f\">│   │   </span>                                                                                   <span style=\"color: #800000; text-decoration-color: #800000\">│</span>\n",
       "<span style=\"color: #800000; text-decoration-color: #800000\">│</span>   <span style=\"color: #7f7f7f; text-decoration-color: #7f7f7f\">273 </span><span style=\"color: #7f7f7f; text-decoration-color: #7f7f7f\">│   │   </span>img_array: NdarrayOrTensor                                                         <span style=\"color: #800000; text-decoration-color: #800000\">│</span>\n",
       "<span style=\"color: #800000; text-decoration-color: #800000\">│</span> <span style=\"color: #800000; text-decoration-color: #800000\">❱ </span>274 <span style=\"color: #7f7f7f; text-decoration-color: #7f7f7f\">│   │   </span>img_array, meta_data = reader.get_data(img)                                        <span style=\"color: #800000; text-decoration-color: #800000\">│</span>\n",
       "<span style=\"color: #800000; text-decoration-color: #800000\">│</span>   <span style=\"color: #7f7f7f; text-decoration-color: #7f7f7f\">275 </span><span style=\"color: #7f7f7f; text-decoration-color: #7f7f7f\">│   │   </span>img_array = convert_to_dst_type(img_array, dst=img_array, dtype=<span style=\"color: #00ffff; text-decoration-color: #00ffff\">self</span>.dtype)[<span style=\"color: #0000ff; text-decoration-color: #0000ff\">0</span>]     <span style=\"color: #800000; text-decoration-color: #800000\">│</span>\n",
       "<span style=\"color: #800000; text-decoration-color: #800000\">│</span>   <span style=\"color: #7f7f7f; text-decoration-color: #7f7f7f\">276 </span><span style=\"color: #7f7f7f; text-decoration-color: #7f7f7f\">│   │   </span><span style=\"color: #0000ff; text-decoration-color: #0000ff\">if</span> <span style=\"color: #ff00ff; text-decoration-color: #ff00ff\">not</span> <span style=\"color: #00ffff; text-decoration-color: #00ffff\">isinstance</span>(meta_data, <span style=\"color: #00ffff; text-decoration-color: #00ffff\">dict</span>):                                                <span style=\"color: #800000; text-decoration-color: #800000\">│</span>\n",
       "<span style=\"color: #800000; text-decoration-color: #800000\">│</span>   <span style=\"color: #7f7f7f; text-decoration-color: #7f7f7f\">277 </span><span style=\"color: #7f7f7f; text-decoration-color: #7f7f7f\">│   │   │   </span><span style=\"color: #0000ff; text-decoration-color: #0000ff\">raise</span> <span style=\"color: #00ffff; text-decoration-color: #00ffff\">ValueError</span>(<span style=\"color: #808000; text-decoration-color: #808000\">\"`meta_data` must be a dict.\"</span>)                                <span style=\"color: #800000; text-decoration-color: #800000\">│</span>\n",
       "<span style=\"color: #800000; text-decoration-color: #800000\">│</span>                                                                                                  <span style=\"color: #800000; text-decoration-color: #800000\">│</span>\n",
       "<span style=\"color: #800000; text-decoration-color: #800000\">│</span> <span style=\"color: #808000; text-decoration-color: #808000\">c:\\Users\\mo\\anaconda3\\envs\\ml_env\\lib\\site-packages\\monai\\data\\image_reader.py</span>:<span style=\"color: #0000ff; text-decoration-color: #0000ff\">1207</span> in <span style=\"color: #00ff00; text-decoration-color: #00ff00\">get_data</span>  <span style=\"color: #800000; text-decoration-color: #800000\">│</span>\n",
       "<span style=\"color: #800000; text-decoration-color: #800000\">│</span>                                                                                                  <span style=\"color: #800000; text-decoration-color: #800000\">│</span>\n",
       "<span style=\"color: #800000; text-decoration-color: #800000\">│</span>   <span style=\"color: #7f7f7f; text-decoration-color: #7f7f7f\">1204 </span><span style=\"color: #7f7f7f; text-decoration-color: #7f7f7f\">│   │   </span><span style=\"color: #0000ff; text-decoration-color: #0000ff\">for</span> i <span style=\"color: #ff00ff; text-decoration-color: #ff00ff\">in</span> ensure_tuple(img):                                                       <span style=\"color: #800000; text-decoration-color: #800000\">│</span>\n",
       "<span style=\"color: #800000; text-decoration-color: #800000\">│</span>   <span style=\"color: #7f7f7f; text-decoration-color: #7f7f7f\">1205 </span><span style=\"color: #7f7f7f; text-decoration-color: #7f7f7f\">│   │   │   </span>header = <span style=\"color: #00ffff; text-decoration-color: #00ffff\">self</span>._get_meta_dict(i)                                               <span style=\"color: #800000; text-decoration-color: #800000\">│</span>\n",
       "<span style=\"color: #800000; text-decoration-color: #800000\">│</span>   <span style=\"color: #7f7f7f; text-decoration-color: #7f7f7f\">1206 </span><span style=\"color: #7f7f7f; text-decoration-color: #7f7f7f\">│   │   │   </span>header[MetaKeys.SPATIAL_SHAPE] = <span style=\"color: #00ffff; text-decoration-color: #00ffff\">self</span>._get_spatial_shape(i)                   <span style=\"color: #800000; text-decoration-color: #800000\">│</span>\n",
       "<span style=\"color: #800000; text-decoration-color: #800000\">│</span> <span style=\"color: #800000; text-decoration-color: #800000\">❱ </span>1207 <span style=\"color: #7f7f7f; text-decoration-color: #7f7f7f\">│   │   │   </span>data = np.moveaxis(np.asarray(i), <span style=\"color: #0000ff; text-decoration-color: #0000ff\">0</span>, <span style=\"color: #0000ff; text-decoration-color: #0000ff\">1</span>)                                       <span style=\"color: #800000; text-decoration-color: #800000\">│</span>\n",
       "<span style=\"color: #800000; text-decoration-color: #800000\">│</span>   <span style=\"color: #7f7f7f; text-decoration-color: #7f7f7f\">1208 </span><span style=\"color: #7f7f7f; text-decoration-color: #7f7f7f\">│   │   │   </span>img_array.append(data)                                                        <span style=\"color: #800000; text-decoration-color: #800000\">│</span>\n",
       "<span style=\"color: #800000; text-decoration-color: #800000\">│</span>   <span style=\"color: #7f7f7f; text-decoration-color: #7f7f7f\">1209 </span><span style=\"color: #7f7f7f; text-decoration-color: #7f7f7f\">│   │   │   </span>header[MetaKeys.ORIGINAL_CHANNEL_DIM] = (                                     <span style=\"color: #800000; text-decoration-color: #800000\">│</span>\n",
       "<span style=\"color: #800000; text-decoration-color: #800000\">│</span>   <span style=\"color: #7f7f7f; text-decoration-color: #7f7f7f\">1210 </span><span style=\"color: #7f7f7f; text-decoration-color: #7f7f7f\">│   │   │   │   </span><span style=\"color: #808000; text-decoration-color: #808000\">\"no_channel\"</span> <span style=\"color: #0000ff; text-decoration-color: #0000ff\">if</span> <span style=\"color: #00ffff; text-decoration-color: #00ffff\">len</span>(data.shape) == <span style=\"color: #00ffff; text-decoration-color: #00ffff\">len</span>(header[MetaKeys.SPATIAL_SHAPE]) <span style=\"color: #0000ff; text-decoration-color: #0000ff\">e</span>  <span style=\"color: #800000; text-decoration-color: #800000\">│</span>\n",
       "<span style=\"color: #800000; text-decoration-color: #800000\">│</span>                                                                                                  <span style=\"color: #800000; text-decoration-color: #800000\">│</span>\n",
       "<span style=\"color: #800000; text-decoration-color: #800000\">│</span> <span style=\"color: #808000; text-decoration-color: #808000\">c:\\Users\\mo\\anaconda3\\envs\\ml_env\\lib\\site-packages\\PIL\\Image.py</span>:<span style=\"color: #0000ff; text-decoration-color: #0000ff\">701</span> in <span style=\"color: #00ff00; text-decoration-color: #00ff00\">__array_interface__</span>      <span style=\"color: #800000; text-decoration-color: #800000\">│</span>\n",
       "<span style=\"color: #800000; text-decoration-color: #800000\">│</span>                                                                                                  <span style=\"color: #800000; text-decoration-color: #800000\">│</span>\n",
       "<span style=\"color: #800000; text-decoration-color: #800000\">│</span>   <span style=\"color: #7f7f7f; text-decoration-color: #7f7f7f\"> 698 </span><span style=\"color: #7f7f7f; text-decoration-color: #7f7f7f\">│   │   │   │   </span><span style=\"color: #7f7f7f; text-decoration-color: #7f7f7f\"># See: https://github.com/python-pillow/Pillow/issues/350</span>                 <span style=\"color: #800000; text-decoration-color: #800000\">│</span>\n",
       "<span style=\"color: #800000; text-decoration-color: #800000\">│</span>   <span style=\"color: #7f7f7f; text-decoration-color: #7f7f7f\"> 699 </span><span style=\"color: #7f7f7f; text-decoration-color: #7f7f7f\">│   │   │   │   </span>new[<span style=\"color: #808000; text-decoration-color: #808000\">\"data\"</span>] = <span style=\"color: #00ffff; text-decoration-color: #00ffff\">self</span>.tobytes(<span style=\"color: #808000; text-decoration-color: #808000\">\"raw\"</span>, <span style=\"color: #808000; text-decoration-color: #808000\">\"L\"</span>)                                    <span style=\"color: #800000; text-decoration-color: #800000\">│</span>\n",
       "<span style=\"color: #800000; text-decoration-color: #800000\">│</span>   <span style=\"color: #7f7f7f; text-decoration-color: #7f7f7f\"> 700 </span><span style=\"color: #7f7f7f; text-decoration-color: #7f7f7f\">│   │   │   </span><span style=\"color: #0000ff; text-decoration-color: #0000ff\">else</span>:                                                                         <span style=\"color: #800000; text-decoration-color: #800000\">│</span>\n",
       "<span style=\"color: #800000; text-decoration-color: #800000\">│</span> <span style=\"color: #800000; text-decoration-color: #800000\">❱ </span> 701 <span style=\"color: #7f7f7f; text-decoration-color: #7f7f7f\">│   │   │   │   </span>new[<span style=\"color: #808000; text-decoration-color: #808000\">\"data\"</span>] = <span style=\"color: #00ffff; text-decoration-color: #00ffff\">self</span>.tobytes()                                              <span style=\"color: #800000; text-decoration-color: #800000\">│</span>\n",
       "<span style=\"color: #800000; text-decoration-color: #800000\">│</span>   <span style=\"color: #7f7f7f; text-decoration-color: #7f7f7f\"> 702 </span><span style=\"color: #7f7f7f; text-decoration-color: #7f7f7f\">│   │   </span><span style=\"color: #0000ff; text-decoration-color: #0000ff\">except</span> <span style=\"color: #00ffff; text-decoration-color: #00ffff\">Exception</span> <span style=\"color: #0000ff; text-decoration-color: #0000ff\">as</span> e:                                                            <span style=\"color: #800000; text-decoration-color: #800000\">│</span>\n",
       "<span style=\"color: #800000; text-decoration-color: #800000\">│</span>   <span style=\"color: #7f7f7f; text-decoration-color: #7f7f7f\"> 703 </span><span style=\"color: #7f7f7f; text-decoration-color: #7f7f7f\">│   │   │   </span><span style=\"color: #0000ff; text-decoration-color: #0000ff\">if</span> <span style=\"color: #ff00ff; text-decoration-color: #ff00ff\">not</span> <span style=\"color: #00ffff; text-decoration-color: #00ffff\">isinstance</span>(e, (<span style=\"color: #00ffff; text-decoration-color: #00ffff\">MemoryError</span>, <span style=\"color: #00ffff; text-decoration-color: #00ffff\">RecursionError</span>)):                          <span style=\"color: #800000; text-decoration-color: #800000\">│</span>\n",
       "<span style=\"color: #800000; text-decoration-color: #800000\">│</span>   <span style=\"color: #7f7f7f; text-decoration-color: #7f7f7f\"> 704 </span><span style=\"color: #7f7f7f; text-decoration-color: #7f7f7f\">│   │   │   │   </span><span style=\"color: #0000ff; text-decoration-color: #0000ff\">try</span>:                                                                      <span style=\"color: #800000; text-decoration-color: #800000\">│</span>\n",
       "<span style=\"color: #800000; text-decoration-color: #800000\">│</span>                                                                                                  <span style=\"color: #800000; text-decoration-color: #800000\">│</span>\n",
       "<span style=\"color: #800000; text-decoration-color: #800000\">│</span> <span style=\"color: #808000; text-decoration-color: #808000\">c:\\Users\\mo\\anaconda3\\envs\\ml_env\\lib\\site-packages\\PIL\\Image.py</span>:<span style=\"color: #0000ff; text-decoration-color: #0000ff\">758</span> in <span style=\"color: #00ff00; text-decoration-color: #00ff00\">tobytes</span>                  <span style=\"color: #800000; text-decoration-color: #800000\">│</span>\n",
       "<span style=\"color: #800000; text-decoration-color: #800000\">│</span>                                                                                                  <span style=\"color: #800000; text-decoration-color: #800000\">│</span>\n",
       "<span style=\"color: #800000; text-decoration-color: #800000\">│</span>   <span style=\"color: #7f7f7f; text-decoration-color: #7f7f7f\"> 755 </span><span style=\"color: #7f7f7f; text-decoration-color: #7f7f7f\">│   │   </span><span style=\"color: #0000ff; text-decoration-color: #0000ff\">if</span> encoder_name == <span style=\"color: #808000; text-decoration-color: #808000\">\"raw\"</span> <span style=\"color: #ff00ff; text-decoration-color: #ff00ff\">and</span> args == ():                                          <span style=\"color: #800000; text-decoration-color: #800000\">│</span>\n",
       "<span style=\"color: #800000; text-decoration-color: #800000\">│</span>   <span style=\"color: #7f7f7f; text-decoration-color: #7f7f7f\"> 756 </span><span style=\"color: #7f7f7f; text-decoration-color: #7f7f7f\">│   │   │   </span>args = <span style=\"color: #00ffff; text-decoration-color: #00ffff\">self</span>.mode                                                              <span style=\"color: #800000; text-decoration-color: #800000\">│</span>\n",
       "<span style=\"color: #800000; text-decoration-color: #800000\">│</span>   <span style=\"color: #7f7f7f; text-decoration-color: #7f7f7f\"> 757 </span><span style=\"color: #7f7f7f; text-decoration-color: #7f7f7f\">│   │   </span>                                                                                  <span style=\"color: #800000; text-decoration-color: #800000\">│</span>\n",
       "<span style=\"color: #800000; text-decoration-color: #800000\">│</span> <span style=\"color: #800000; text-decoration-color: #800000\">❱ </span> 758 <span style=\"color: #7f7f7f; text-decoration-color: #7f7f7f\">│   │   </span><span style=\"color: #00ffff; text-decoration-color: #00ffff\">self</span>.load()                                                                       <span style=\"color: #800000; text-decoration-color: #800000\">│</span>\n",
       "<span style=\"color: #800000; text-decoration-color: #800000\">│</span>   <span style=\"color: #7f7f7f; text-decoration-color: #7f7f7f\"> 759 </span><span style=\"color: #7f7f7f; text-decoration-color: #7f7f7f\">│   │   </span>                                                                                  <span style=\"color: #800000; text-decoration-color: #800000\">│</span>\n",
       "<span style=\"color: #800000; text-decoration-color: #800000\">│</span>   <span style=\"color: #7f7f7f; text-decoration-color: #7f7f7f\"> 760 </span><span style=\"color: #7f7f7f; text-decoration-color: #7f7f7f\">│   │   </span><span style=\"color: #0000ff; text-decoration-color: #0000ff\">if</span> <span style=\"color: #00ffff; text-decoration-color: #00ffff\">self</span>.width == <span style=\"color: #0000ff; text-decoration-color: #0000ff\">0</span> <span style=\"color: #ff00ff; text-decoration-color: #ff00ff\">or</span> <span style=\"color: #00ffff; text-decoration-color: #00ffff\">self</span>.height == <span style=\"color: #0000ff; text-decoration-color: #0000ff\">0</span>:                                           <span style=\"color: #800000; text-decoration-color: #800000\">│</span>\n",
       "<span style=\"color: #800000; text-decoration-color: #800000\">│</span>   <span style=\"color: #7f7f7f; text-decoration-color: #7f7f7f\"> 761 </span><span style=\"color: #7f7f7f; text-decoration-color: #7f7f7f\">│   │   │   </span><span style=\"color: #0000ff; text-decoration-color: #0000ff\">return</span> <span style=\"color: #808000; text-decoration-color: #808000\">b\"\"</span>                                                                    <span style=\"color: #800000; text-decoration-color: #800000\">│</span>\n",
       "<span style=\"color: #800000; text-decoration-color: #800000\">│</span>                                                                                                  <span style=\"color: #800000; text-decoration-color: #800000\">│</span>\n",
       "<span style=\"color: #800000; text-decoration-color: #800000\">│</span> <span style=\"color: #808000; text-decoration-color: #808000\">c:\\Users\\mo\\anaconda3\\envs\\ml_env\\lib\\site-packages\\PIL\\ImageFile.py</span>:<span style=\"color: #0000ff; text-decoration-color: #0000ff\">269</span> in <span style=\"color: #00ff00; text-decoration-color: #00ff00\">load</span>                 <span style=\"color: #800000; text-decoration-color: #800000\">│</span>\n",
       "<span style=\"color: #800000; text-decoration-color: #800000\">│</span>                                                                                                  <span style=\"color: #800000; text-decoration-color: #800000\">│</span>\n",
       "<span style=\"color: #800000; text-decoration-color: #800000\">│</span>   <span style=\"color: #7f7f7f; text-decoration-color: #7f7f7f\">266 </span><span style=\"color: #7f7f7f; text-decoration-color: #7f7f7f\">│   │   │   │   │   │   │   │   │   </span><span style=\"color: #0000ff; text-decoration-color: #0000ff\">raise</span> <span style=\"color: #00ffff; text-decoration-color: #00ffff\">OSError</span>(msg)                                     <span style=\"color: #800000; text-decoration-color: #800000\">│</span>\n",
       "<span style=\"color: #800000; text-decoration-color: #800000\">│</span>   <span style=\"color: #7f7f7f; text-decoration-color: #7f7f7f\">267 </span><span style=\"color: #7f7f7f; text-decoration-color: #7f7f7f\">│   │   │   │   │   │   │   </span>                                                               <span style=\"color: #800000; text-decoration-color: #800000\">│</span>\n",
       "<span style=\"color: #800000; text-decoration-color: #800000\">│</span>   <span style=\"color: #7f7f7f; text-decoration-color: #7f7f7f\">268 </span><span style=\"color: #7f7f7f; text-decoration-color: #7f7f7f\">│   │   │   │   │   │   │   </span>b = b + s                                                      <span style=\"color: #800000; text-decoration-color: #800000\">│</span>\n",
       "<span style=\"color: #800000; text-decoration-color: #800000\">│</span> <span style=\"color: #800000; text-decoration-color: #800000\">❱ </span>269 <span style=\"color: #7f7f7f; text-decoration-color: #7f7f7f\">│   │   │   │   │   │   │   </span>n, err_code = decoder.decode(b)                                <span style=\"color: #800000; text-decoration-color: #800000\">│</span>\n",
       "<span style=\"color: #800000; text-decoration-color: #800000\">│</span>   <span style=\"color: #7f7f7f; text-decoration-color: #7f7f7f\">270 </span><span style=\"color: #7f7f7f; text-decoration-color: #7f7f7f\">│   │   │   │   │   │   │   </span><span style=\"color: #0000ff; text-decoration-color: #0000ff\">if</span> n &lt; <span style=\"color: #0000ff; text-decoration-color: #0000ff\">0</span>:                                                      <span style=\"color: #800000; text-decoration-color: #800000\">│</span>\n",
       "<span style=\"color: #800000; text-decoration-color: #800000\">│</span>   <span style=\"color: #7f7f7f; text-decoration-color: #7f7f7f\">271 </span><span style=\"color: #7f7f7f; text-decoration-color: #7f7f7f\">│   │   │   │   │   │   │   │   </span><span style=\"color: #0000ff; text-decoration-color: #0000ff\">break</span>                                                      <span style=\"color: #800000; text-decoration-color: #800000\">│</span>\n",
       "<span style=\"color: #800000; text-decoration-color: #800000\">│</span>   <span style=\"color: #7f7f7f; text-decoration-color: #7f7f7f\">272 </span><span style=\"color: #7f7f7f; text-decoration-color: #7f7f7f\">│   │   │   │   │   │   │   </span>b = b[n:]                                                      <span style=\"color: #800000; text-decoration-color: #800000\">│</span>\n",
       "<span style=\"color: #800000; text-decoration-color: #800000\">╰──────────────────────────────────────────────────────────────────────────────────────────────────╯</span>\n",
       "<span style=\"color: #ff0000; text-decoration-color: #ff0000; font-weight: bold\">KeyboardInterrupt</span>\n",
       "</pre>\n"
      ],
      "text/plain": [
       "\u001B[31m╭─\u001B[0m\u001B[31m──────────────────────────────\u001B[0m\u001B[31m \u001B[0m\u001B[1;31mTraceback \u001B[0m\u001B[1;2;31m(most recent call last)\u001B[0m\u001B[31m \u001B[0m\u001B[31m───────────────────────────────\u001B[0m\u001B[31m─╮\u001B[0m\n",
       "\u001B[31m│\u001B[0m in \u001B[92m<module>\u001B[0m:\u001B[94m3\u001B[0m                                                                                    \u001B[31m│\u001B[0m\n",
       "\u001B[31m│\u001B[0m                                                                                                  \u001B[31m│\u001B[0m\n",
       "\u001B[31m│\u001B[0m   \u001B[2m 1 \u001B[0minit_experiment(config)                                                                     \u001B[31m│\u001B[0m\n",
       "\u001B[31m│\u001B[0m   \u001B[2m 2 \u001B[0m                                                                                            \u001B[31m│\u001B[0m\n",
       "\u001B[31m│\u001B[0m \u001B[31m❱ \u001B[0m 3 train_loss, test_loss, metrics = net.train(                                                 \u001B[31m│\u001B[0m\n",
       "\u001B[31m│\u001B[0m   \u001B[2m 4 \u001B[0m\u001B[2m│   \u001B[0mtrainloader=train_loader,                                                               \u001B[31m│\u001B[0m\n",
       "\u001B[31m│\u001B[0m   \u001B[2m 5 \u001B[0m\u001B[2m│   \u001B[0mvalloader=validation_loader,                                                            \u001B[31m│\u001B[0m\n",
       "\u001B[31m│\u001B[0m   \u001B[2m 6 \u001B[0m\u001B[2m│   \u001B[0mlog=log,                                                                                \u001B[31m│\u001B[0m\n",
       "\u001B[31m│\u001B[0m                                                                                                  \u001B[31m│\u001B[0m\n",
       "\u001B[31m│\u001B[0m \u001B[33mc:\\Users\\mo\\Documents\\Organisations\\RUG\\rug-hr\\modules\\segnet.py\u001B[0m:\u001B[94m193\u001B[0m in \u001B[92mtrain\u001B[0m                    \u001B[31m│\u001B[0m\n",
       "\u001B[31m│\u001B[0m                                                                                                  \u001B[31m│\u001B[0m\n",
       "\u001B[31m│\u001B[0m   \u001B[2m190 \u001B[0m\u001B[2m│   │   │   │   \u001B[0mbest_metric_score = metric                                                 \u001B[31m│\u001B[0m\n",
       "\u001B[31m│\u001B[0m   \u001B[2m191 \u001B[0m\u001B[2m│   │   │   │   \u001B[0m\u001B[96mself\u001B[0m.save_model()                                                          \u001B[31m│\u001B[0m\n",
       "\u001B[31m│\u001B[0m   \u001B[2m192 \u001B[0m\u001B[2m│   │   │   \u001B[0m                                                                               \u001B[31m│\u001B[0m\n",
       "\u001B[31m│\u001B[0m \u001B[31m❱ \u001B[0m193 \u001B[2m│   │   │   \u001B[0mavg_loss = \u001B[96mself\u001B[0m.one_epoch(net, optimizer, criterion, trainloader, scaler=gra   \u001B[31m│\u001B[0m\n",
       "\u001B[31m│\u001B[0m   \u001B[2m194 \u001B[0m\u001B[2m│   │   │   \u001B[0m                                                                               \u001B[31m│\u001B[0m\n",
       "\u001B[31m│\u001B[0m   \u001B[2m195 \u001B[0m\u001B[2m│   │   │   \u001B[0m\u001B[2m# Update scheduler \u001B[0m                                                            \u001B[31m│\u001B[0m\n",
       "\u001B[31m│\u001B[0m   \u001B[2m196 \u001B[0m\u001B[2m│   │   │   \u001B[0m\u001B[94mif\u001B[0m (schedule):                                                                 \u001B[31m│\u001B[0m\n",
       "\u001B[31m│\u001B[0m                                                                                                  \u001B[31m│\u001B[0m\n",
       "\u001B[31m│\u001B[0m \u001B[33mc:\\Users\\mo\\Documents\\Organisations\\RUG\\rug-hr\\modules\\segnet.py\u001B[0m:\u001B[94m111\u001B[0m in \u001B[92mone_epoch\u001B[0m                \u001B[31m│\u001B[0m\n",
       "\u001B[31m│\u001B[0m                                                                                                  \u001B[31m│\u001B[0m\n",
       "\u001B[31m│\u001B[0m   \u001B[2m108 \u001B[0m\u001B[2m│   │   \u001B[0m                                                                                   \u001B[31m│\u001B[0m\n",
       "\u001B[31m│\u001B[0m   \u001B[2m109 \u001B[0m\u001B[2m│   │   \u001B[0m\u001B[2m# Load batches and apply passes\u001B[0m                                                    \u001B[31m│\u001B[0m\n",
       "\u001B[31m│\u001B[0m   \u001B[2m110 \u001B[0m\u001B[2m│   │   \u001B[0mepoch_iterator = tqdm(loader, dynamic_ncols=\u001B[94mTrue\u001B[0m)                                  \u001B[31m│\u001B[0m\n",
       "\u001B[31m│\u001B[0m \u001B[31m❱ \u001B[0m111 \u001B[2m│   │   \u001B[0m\u001B[94mfor\u001B[0m step, batch \u001B[95min\u001B[0m \u001B[96menumerate\u001B[0m(epoch_iterator):                                      \u001B[31m│\u001B[0m\n",
       "\u001B[31m│\u001B[0m   \u001B[2m112 \u001B[0m\u001B[2m│   │   │   \u001B[0m                                                                               \u001B[31m│\u001B[0m\n",
       "\u001B[31m│\u001B[0m   \u001B[2m113 \u001B[0m\u001B[2m│   │   │   \u001B[0mimages, labels = batch[\u001B[33m\"\u001B[0m\u001B[33mimg\u001B[0m\u001B[33m\"\u001B[0m].to(\u001B[96mself\u001B[0m.device), batch[\u001B[33m\"\u001B[0m\u001B[33mseg\u001B[0m\u001B[33m\"\u001B[0m].to(\u001B[96mself\u001B[0m.device)    \u001B[31m│\u001B[0m\n",
       "\u001B[31m│\u001B[0m   \u001B[2m114 \u001B[0m\u001B[2m│   │   │   \u001B[0mlogits = net(images)                                                           \u001B[31m│\u001B[0m\n",
       "\u001B[31m│\u001B[0m                                                                                                  \u001B[31m│\u001B[0m\n",
       "\u001B[31m│\u001B[0m \u001B[33mc:\\Users\\mo\\anaconda3\\envs\\ml_env\\lib\\site-packages\\tqdm\\std.py\u001B[0m:\u001B[94m1178\u001B[0m in \u001B[92m__iter__\u001B[0m                 \u001B[31m│\u001B[0m\n",
       "\u001B[31m│\u001B[0m                                                                                                  \u001B[31m│\u001B[0m\n",
       "\u001B[31m│\u001B[0m   \u001B[2m1175 \u001B[0m\u001B[2m│   │   \u001B[0mtime = \u001B[96mself\u001B[0m._time                                                                 \u001B[31m│\u001B[0m\n",
       "\u001B[31m│\u001B[0m   \u001B[2m1176 \u001B[0m\u001B[2m│   │   \u001B[0m                                                                                  \u001B[31m│\u001B[0m\n",
       "\u001B[31m│\u001B[0m   \u001B[2m1177 \u001B[0m\u001B[2m│   │   \u001B[0m\u001B[94mtry\u001B[0m:                                                                              \u001B[31m│\u001B[0m\n",
       "\u001B[31m│\u001B[0m \u001B[31m❱ \u001B[0m1178 \u001B[2m│   │   │   \u001B[0m\u001B[94mfor\u001B[0m obj \u001B[95min\u001B[0m iterable:                                                          \u001B[31m│\u001B[0m\n",
       "\u001B[31m│\u001B[0m   \u001B[2m1179 \u001B[0m\u001B[2m│   │   │   │   \u001B[0m\u001B[94myield\u001B[0m obj                                                                 \u001B[31m│\u001B[0m\n",
       "\u001B[31m│\u001B[0m   \u001B[2m1180 \u001B[0m\u001B[2m│   │   │   │   \u001B[0m\u001B[2m# Update and possibly print the progressbar.\u001B[0m                              \u001B[31m│\u001B[0m\n",
       "\u001B[31m│\u001B[0m   \u001B[2m1181 \u001B[0m\u001B[2m│   │   │   │   \u001B[0m\u001B[2m# Note: does not call self.update(1) for speed optimisation.\u001B[0m              \u001B[31m│\u001B[0m\n",
       "\u001B[31m│\u001B[0m                                                                                                  \u001B[31m│\u001B[0m\n",
       "\u001B[31m│\u001B[0m \u001B[33mc:\\Users\\mo\\anaconda3\\envs\\ml_env\\lib\\site-packages\\torch\\utils\\data\\dataloader.py\u001B[0m:\u001B[94m633\u001B[0m in        \u001B[31m│\u001B[0m\n",
       "\u001B[31m│\u001B[0m \u001B[92m__next__\u001B[0m                                                                                         \u001B[31m│\u001B[0m\n",
       "\u001B[31m│\u001B[0m                                                                                                  \u001B[31m│\u001B[0m\n",
       "\u001B[31m│\u001B[0m   \u001B[2m 630 \u001B[0m\u001B[2m│   │   │   \u001B[0m\u001B[94mif\u001B[0m \u001B[96mself\u001B[0m._sampler_iter \u001B[95mis\u001B[0m \u001B[94mNone\u001B[0m:                                                \u001B[31m│\u001B[0m\n",
       "\u001B[31m│\u001B[0m   \u001B[2m 631 \u001B[0m\u001B[2m│   │   │   │   \u001B[0m\u001B[2m# TODO(https://github.com/pytorch/pytorch/issues/76750)\u001B[0m                   \u001B[31m│\u001B[0m\n",
       "\u001B[31m│\u001B[0m   \u001B[2m 632 \u001B[0m\u001B[2m│   │   │   │   \u001B[0m\u001B[96mself\u001B[0m._reset()  \u001B[2m# type: ignore[call-arg]\u001B[0m                                   \u001B[31m│\u001B[0m\n",
       "\u001B[31m│\u001B[0m \u001B[31m❱ \u001B[0m 633 \u001B[2m│   │   │   \u001B[0mdata = \u001B[96mself\u001B[0m._next_data()                                                      \u001B[31m│\u001B[0m\n",
       "\u001B[31m│\u001B[0m   \u001B[2m 634 \u001B[0m\u001B[2m│   │   │   \u001B[0m\u001B[96mself\u001B[0m._num_yielded += \u001B[94m1\u001B[0m                                                        \u001B[31m│\u001B[0m\n",
       "\u001B[31m│\u001B[0m   \u001B[2m 635 \u001B[0m\u001B[2m│   │   │   \u001B[0m\u001B[94mif\u001B[0m \u001B[96mself\u001B[0m._dataset_kind == _DatasetKind.Iterable \u001B[95mand\u001B[0m \\                          \u001B[31m│\u001B[0m\n",
       "\u001B[31m│\u001B[0m   \u001B[2m 636 \u001B[0m\u001B[2m│   │   │   │   │   \u001B[0m\u001B[96mself\u001B[0m._IterableDataset_len_called \u001B[95mis\u001B[0m \u001B[95mnot\u001B[0m \u001B[94mNone\u001B[0m \u001B[95mand\u001B[0m \\                    \u001B[31m│\u001B[0m\n",
       "\u001B[31m│\u001B[0m                                                                                                  \u001B[31m│\u001B[0m\n",
       "\u001B[31m│\u001B[0m \u001B[33mc:\\Users\\mo\\anaconda3\\envs\\ml_env\\lib\\site-packages\\torch\\utils\\data\\dataloader.py\u001B[0m:\u001B[94m677\u001B[0m in        \u001B[31m│\u001B[0m\n",
       "\u001B[31m│\u001B[0m \u001B[92m_next_data\u001B[0m                                                                                       \u001B[31m│\u001B[0m\n",
       "\u001B[31m│\u001B[0m                                                                                                  \u001B[31m│\u001B[0m\n",
       "\u001B[31m│\u001B[0m   \u001B[2m 674 \u001B[0m\u001B[2m│   \u001B[0m                                                                                      \u001B[31m│\u001B[0m\n",
       "\u001B[31m│\u001B[0m   \u001B[2m 675 \u001B[0m\u001B[2m│   \u001B[0m\u001B[94mdef\u001B[0m \u001B[92m_next_data\u001B[0m(\u001B[96mself\u001B[0m):                                                                 \u001B[31m│\u001B[0m\n",
       "\u001B[31m│\u001B[0m   \u001B[2m 676 \u001B[0m\u001B[2m│   │   \u001B[0mindex = \u001B[96mself\u001B[0m._next_index()  \u001B[2m# may raise StopIteration\u001B[0m                             \u001B[31m│\u001B[0m\n",
       "\u001B[31m│\u001B[0m \u001B[31m❱ \u001B[0m 677 \u001B[2m│   │   \u001B[0mdata = \u001B[96mself\u001B[0m._dataset_fetcher.fetch(index)  \u001B[2m# may raise StopIteration\u001B[0m              \u001B[31m│\u001B[0m\n",
       "\u001B[31m│\u001B[0m   \u001B[2m 678 \u001B[0m\u001B[2m│   │   \u001B[0m\u001B[94mif\u001B[0m \u001B[96mself\u001B[0m._pin_memory:                                                              \u001B[31m│\u001B[0m\n",
       "\u001B[31m│\u001B[0m   \u001B[2m 679 \u001B[0m\u001B[2m│   │   │   \u001B[0mdata = _utils.pin_memory.pin_memory(data, \u001B[96mself\u001B[0m._pin_memory_device)            \u001B[31m│\u001B[0m\n",
       "\u001B[31m│\u001B[0m   \u001B[2m 680 \u001B[0m\u001B[2m│   │   \u001B[0m\u001B[94mreturn\u001B[0m data                                                                       \u001B[31m│\u001B[0m\n",
       "\u001B[31m│\u001B[0m                                                                                                  \u001B[31m│\u001B[0m\n",
       "\u001B[31m│\u001B[0m \u001B[33mc:\\Users\\mo\\anaconda3\\envs\\ml_env\\lib\\site-packages\\torch\\utils\\data\\_utils\\fetch.py\u001B[0m:\u001B[94m51\u001B[0m in \u001B[92mfetch\u001B[0m \u001B[31m│\u001B[0m\n",
       "\u001B[31m│\u001B[0m                                                                                                  \u001B[31m│\u001B[0m\n",
       "\u001B[31m│\u001B[0m   \u001B[2m48 \u001B[0m\u001B[2m│   │   │   \u001B[0m\u001B[94mif\u001B[0m \u001B[96mhasattr\u001B[0m(\u001B[96mself\u001B[0m.dataset, \u001B[33m\"\u001B[0m\u001B[33m__getitems__\u001B[0m\u001B[33m\"\u001B[0m) \u001B[95mand\u001B[0m \u001B[96mself\u001B[0m.dataset.__getitems__:         \u001B[31m│\u001B[0m\n",
       "\u001B[31m│\u001B[0m   \u001B[2m49 \u001B[0m\u001B[2m│   │   │   │   \u001B[0mdata = \u001B[96mself\u001B[0m.dataset.__getitems__(possibly_batched_index)                    \u001B[31m│\u001B[0m\n",
       "\u001B[31m│\u001B[0m   \u001B[2m50 \u001B[0m\u001B[2m│   │   │   \u001B[0m\u001B[94melse\u001B[0m:                                                                           \u001B[31m│\u001B[0m\n",
       "\u001B[31m│\u001B[0m \u001B[31m❱ \u001B[0m51 \u001B[2m│   │   │   │   \u001B[0mdata = [\u001B[96mself\u001B[0m.dataset[idx] \u001B[94mfor\u001B[0m idx \u001B[95min\u001B[0m possibly_batched_index]                \u001B[31m│\u001B[0m\n",
       "\u001B[31m│\u001B[0m   \u001B[2m52 \u001B[0m\u001B[2m│   │   \u001B[0m\u001B[94melse\u001B[0m:                                                                               \u001B[31m│\u001B[0m\n",
       "\u001B[31m│\u001B[0m   \u001B[2m53 \u001B[0m\u001B[2m│   │   │   \u001B[0mdata = \u001B[96mself\u001B[0m.dataset[possibly_batched_index]                                     \u001B[31m│\u001B[0m\n",
       "\u001B[31m│\u001B[0m   \u001B[2m54 \u001B[0m\u001B[2m│   │   \u001B[0m\u001B[94mreturn\u001B[0m \u001B[96mself\u001B[0m.collate_fn(data)                                                        \u001B[31m│\u001B[0m\n",
       "\u001B[31m│\u001B[0m                                                                                                  \u001B[31m│\u001B[0m\n",
       "\u001B[31m│\u001B[0m \u001B[33mc:\\Users\\mo\\anaconda3\\envs\\ml_env\\lib\\site-packages\\torch\\utils\\data\\_utils\\fetch.py\u001B[0m:\u001B[94m51\u001B[0m in       \u001B[31m│\u001B[0m\n",
       "\u001B[31m│\u001B[0m \u001B[92m<listcomp>\u001B[0m                                                                                       \u001B[31m│\u001B[0m\n",
       "\u001B[31m│\u001B[0m                                                                                                  \u001B[31m│\u001B[0m\n",
       "\u001B[31m│\u001B[0m   \u001B[2m48 \u001B[0m\u001B[2m│   │   │   \u001B[0m\u001B[94mif\u001B[0m \u001B[96mhasattr\u001B[0m(\u001B[96mself\u001B[0m.dataset, \u001B[33m\"\u001B[0m\u001B[33m__getitems__\u001B[0m\u001B[33m\"\u001B[0m) \u001B[95mand\u001B[0m \u001B[96mself\u001B[0m.dataset.__getitems__:         \u001B[31m│\u001B[0m\n",
       "\u001B[31m│\u001B[0m   \u001B[2m49 \u001B[0m\u001B[2m│   │   │   │   \u001B[0mdata = \u001B[96mself\u001B[0m.dataset.__getitems__(possibly_batched_index)                    \u001B[31m│\u001B[0m\n",
       "\u001B[31m│\u001B[0m   \u001B[2m50 \u001B[0m\u001B[2m│   │   │   \u001B[0m\u001B[94melse\u001B[0m:                                                                           \u001B[31m│\u001B[0m\n",
       "\u001B[31m│\u001B[0m \u001B[31m❱ \u001B[0m51 \u001B[2m│   │   │   │   \u001B[0mdata = [\u001B[96mself\u001B[0m.dataset[idx] \u001B[94mfor\u001B[0m idx \u001B[95min\u001B[0m possibly_batched_index]                \u001B[31m│\u001B[0m\n",
       "\u001B[31m│\u001B[0m   \u001B[2m52 \u001B[0m\u001B[2m│   │   \u001B[0m\u001B[94melse\u001B[0m:                                                                               \u001B[31m│\u001B[0m\n",
       "\u001B[31m│\u001B[0m   \u001B[2m53 \u001B[0m\u001B[2m│   │   │   \u001B[0mdata = \u001B[96mself\u001B[0m.dataset[possibly_batched_index]                                     \u001B[31m│\u001B[0m\n",
       "\u001B[31m│\u001B[0m   \u001B[2m54 \u001B[0m\u001B[2m│   │   \u001B[0m\u001B[94mreturn\u001B[0m \u001B[96mself\u001B[0m.collate_fn(data)                                                        \u001B[31m│\u001B[0m\n",
       "\u001B[31m│\u001B[0m                                                                                                  \u001B[31m│\u001B[0m\n",
       "\u001B[31m│\u001B[0m \u001B[33mc:\\Users\\mo\\anaconda3\\envs\\ml_env\\lib\\site-packages\\monai\\data\\dataset.py\u001B[0m:\u001B[94m107\u001B[0m in \u001B[92m__getitem__\u001B[0m     \u001B[31m│\u001B[0m\n",
       "\u001B[31m│\u001B[0m                                                                                                  \u001B[31m│\u001B[0m\n",
       "\u001B[31m│\u001B[0m   \u001B[2m 104 \u001B[0m\u001B[2m│   │   \u001B[0m\u001B[94mif\u001B[0m \u001B[96misinstance\u001B[0m(index, collections.abc.Sequence):                                   \u001B[31m│\u001B[0m\n",
       "\u001B[31m│\u001B[0m   \u001B[2m 105 \u001B[0m\u001B[2m│   │   │   \u001B[0m\u001B[2m# dataset[[1, 3, 4]]\u001B[0m                                                          \u001B[31m│\u001B[0m\n",
       "\u001B[31m│\u001B[0m   \u001B[2m 106 \u001B[0m\u001B[2m│   │   │   \u001B[0m\u001B[94mreturn\u001B[0m Subset(dataset=\u001B[96mself\u001B[0m, indices=index)                                    \u001B[31m│\u001B[0m\n",
       "\u001B[31m│\u001B[0m \u001B[31m❱ \u001B[0m 107 \u001B[2m│   │   \u001B[0m\u001B[94mreturn\u001B[0m \u001B[96mself\u001B[0m._transform(index)                                                     \u001B[31m│\u001B[0m\n",
       "\u001B[31m│\u001B[0m   \u001B[2m 108 \u001B[0m                                                                                          \u001B[31m│\u001B[0m\n",
       "\u001B[31m│\u001B[0m   \u001B[2m 109 \u001B[0m                                                                                          \u001B[31m│\u001B[0m\n",
       "\u001B[31m│\u001B[0m   \u001B[2m 110 \u001B[0m\u001B[94mclass\u001B[0m \u001B[4;92mDatasetFunc\u001B[0m(Dataset):                                                               \u001B[31m│\u001B[0m\n",
       "\u001B[31m│\u001B[0m                                                                                                  \u001B[31m│\u001B[0m\n",
       "\u001B[31m│\u001B[0m \u001B[33mc:\\Users\\mo\\anaconda3\\envs\\ml_env\\lib\\site-packages\\monai\\data\\dataset.py\u001B[0m:\u001B[94m921\u001B[0m in \u001B[92m_transform\u001B[0m      \u001B[31m│\u001B[0m\n",
       "\u001B[31m│\u001B[0m                                                                                                  \u001B[31m│\u001B[0m\n",
       "\u001B[31m│\u001B[0m   \u001B[2m 918 \u001B[0m\u001B[2m│   │   │   │   │   \u001B[0mstart_run = \u001B[94mTrue\u001B[0m                                                      \u001B[31m│\u001B[0m\n",
       "\u001B[31m│\u001B[0m   \u001B[2m 919 \u001B[0m\u001B[2m│   │   │   │   │   \u001B[0m\u001B[94mif\u001B[0m \u001B[96mself\u001B[0m.copy_cache:                                                   \u001B[31m│\u001B[0m\n",
       "\u001B[31m│\u001B[0m   \u001B[2m 920 \u001B[0m\u001B[2m│   │   │   │   │   │   \u001B[0mdata = deepcopy(data)                                             \u001B[31m│\u001B[0m\n",
       "\u001B[31m│\u001B[0m \u001B[31m❱ \u001B[0m 921 \u001B[2m│   │   │   │   \u001B[0mdata = apply_transform(_transform, data)                                  \u001B[31m│\u001B[0m\n",
       "\u001B[31m│\u001B[0m   \u001B[2m 922 \u001B[0m\u001B[2m│   │   \u001B[0m\u001B[94mreturn\u001B[0m data                                                                       \u001B[31m│\u001B[0m\n",
       "\u001B[31m│\u001B[0m   \u001B[2m 923 \u001B[0m                                                                                          \u001B[31m│\u001B[0m\n",
       "\u001B[31m│\u001B[0m   \u001B[2m 924 \u001B[0m                                                                                          \u001B[31m│\u001B[0m\n",
       "\u001B[31m│\u001B[0m                                                                                                  \u001B[31m│\u001B[0m\n",
       "\u001B[31m│\u001B[0m \u001B[33mc:\\Users\\mo\\anaconda3\\envs\\ml_env\\lib\\site-packages\\monai\\transforms\\transform.py\u001B[0m:\u001B[94m102\u001B[0m in         \u001B[31m│\u001B[0m\n",
       "\u001B[31m│\u001B[0m \u001B[92mapply_transform\u001B[0m                                                                                  \u001B[31m│\u001B[0m\n",
       "\u001B[31m│\u001B[0m                                                                                                  \u001B[31m│\u001B[0m\n",
       "\u001B[31m│\u001B[0m   \u001B[2m 99 \u001B[0m\u001B[2m│   \u001B[0m\u001B[94mtry\u001B[0m:                                                                                   \u001B[31m│\u001B[0m\n",
       "\u001B[31m│\u001B[0m   \u001B[2m100 \u001B[0m\u001B[2m│   │   \u001B[0m\u001B[94mif\u001B[0m \u001B[96misinstance\u001B[0m(data, (\u001B[96mlist\u001B[0m, \u001B[96mtuple\u001B[0m)) \u001B[95mand\u001B[0m map_items:                                  \u001B[31m│\u001B[0m\n",
       "\u001B[31m│\u001B[0m   \u001B[2m101 \u001B[0m\u001B[2m│   │   │   \u001B[0m\u001B[94mreturn\u001B[0m [_apply_transform(transform, item, unpack_items) \u001B[94mfor\u001B[0m item \u001B[95min\u001B[0m data]      \u001B[31m│\u001B[0m\n",
       "\u001B[31m│\u001B[0m \u001B[31m❱ \u001B[0m102 \u001B[2m│   │   \u001B[0m\u001B[94mreturn\u001B[0m _apply_transform(transform, data, unpack_items)                             \u001B[31m│\u001B[0m\n",
       "\u001B[31m│\u001B[0m   \u001B[2m103 \u001B[0m\u001B[2m│   \u001B[0m\u001B[94mexcept\u001B[0m \u001B[96mException\u001B[0m \u001B[94mas\u001B[0m e:                                                                 \u001B[31m│\u001B[0m\n",
       "\u001B[31m│\u001B[0m   \u001B[2m104 \u001B[0m\u001B[2m│   │   \u001B[0m\u001B[2m# if in debug mode, don't swallow exception so that the breakpoint\u001B[0m                 \u001B[31m│\u001B[0m\n",
       "\u001B[31m│\u001B[0m   \u001B[2m105 \u001B[0m\u001B[2m│   │   \u001B[0m\u001B[2m# appears where the exception was raised.\u001B[0m                                          \u001B[31m│\u001B[0m\n",
       "\u001B[31m│\u001B[0m                                                                                                  \u001B[31m│\u001B[0m\n",
       "\u001B[31m│\u001B[0m \u001B[33mc:\\Users\\mo\\anaconda3\\envs\\ml_env\\lib\\site-packages\\monai\\transforms\\transform.py\u001B[0m:\u001B[94m66\u001B[0m in          \u001B[31m│\u001B[0m\n",
       "\u001B[31m│\u001B[0m \u001B[92m_apply_transform\u001B[0m                                                                                 \u001B[31m│\u001B[0m\n",
       "\u001B[31m│\u001B[0m                                                                                                  \u001B[31m│\u001B[0m\n",
       "\u001B[31m│\u001B[0m   \u001B[2m 63 \u001B[0m\u001B[2m│   \u001B[0m\u001B[94mif\u001B[0m \u001B[96misinstance\u001B[0m(parameters, \u001B[96mtuple\u001B[0m) \u001B[95mand\u001B[0m unpack_parameters:                                \u001B[31m│\u001B[0m\n",
       "\u001B[31m│\u001B[0m   \u001B[2m 64 \u001B[0m\u001B[2m│   │   \u001B[0m\u001B[94mreturn\u001B[0m transform(*parameters)                                                      \u001B[31m│\u001B[0m\n",
       "\u001B[31m│\u001B[0m   \u001B[2m 65 \u001B[0m\u001B[2m│   \u001B[0m                                                                                       \u001B[31m│\u001B[0m\n",
       "\u001B[31m│\u001B[0m \u001B[31m❱ \u001B[0m 66 \u001B[2m│   \u001B[0m\u001B[94mreturn\u001B[0m transform(parameters)                                                           \u001B[31m│\u001B[0m\n",
       "\u001B[31m│\u001B[0m   \u001B[2m 67 \u001B[0m                                                                                           \u001B[31m│\u001B[0m\n",
       "\u001B[31m│\u001B[0m   \u001B[2m 68 \u001B[0m                                                                                           \u001B[31m│\u001B[0m\n",
       "\u001B[31m│\u001B[0m   \u001B[2m 69 \u001B[0m\u001B[94mdef\u001B[0m \u001B[92mapply_transform\u001B[0m(                                                                       \u001B[31m│\u001B[0m\n",
       "\u001B[31m│\u001B[0m                                                                                                  \u001B[31m│\u001B[0m\n",
       "\u001B[31m│\u001B[0m \u001B[33mc:\\Users\\mo\\anaconda3\\envs\\ml_env\\lib\\site-packages\\monai\\transforms\\compose.py\u001B[0m:\u001B[94m174\u001B[0m in \u001B[92m__call__\u001B[0m  \u001B[31m│\u001B[0m\n",
       "\u001B[31m│\u001B[0m                                                                                                  \u001B[31m│\u001B[0m\n",
       "\u001B[31m│\u001B[0m   \u001B[2m171 \u001B[0m\u001B[2m│   \u001B[0m                                                                                       \u001B[31m│\u001B[0m\n",
       "\u001B[31m│\u001B[0m   \u001B[2m172 \u001B[0m\u001B[2m│   \u001B[0m\u001B[94mdef\u001B[0m \u001B[92m__call__\u001B[0m(\u001B[96mself\u001B[0m, input_):                                                            \u001B[31m│\u001B[0m\n",
       "\u001B[31m│\u001B[0m   \u001B[2m173 \u001B[0m\u001B[2m│   │   \u001B[0m\u001B[94mfor\u001B[0m _transform \u001B[95min\u001B[0m \u001B[96mself\u001B[0m.transforms:                                                 \u001B[31m│\u001B[0m\n",
       "\u001B[31m│\u001B[0m \u001B[31m❱ \u001B[0m174 \u001B[2m│   │   │   \u001B[0minput_ = apply_transform(_transform, input_, \u001B[96mself\u001B[0m.map_items, \u001B[96mself\u001B[0m.unpack_ite   \u001B[31m│\u001B[0m\n",
       "\u001B[31m│\u001B[0m   \u001B[2m175 \u001B[0m\u001B[2m│   │   \u001B[0m\u001B[94mreturn\u001B[0m input_                                                                      \u001B[31m│\u001B[0m\n",
       "\u001B[31m│\u001B[0m   \u001B[2m176 \u001B[0m\u001B[2m│   \u001B[0m                                                                                       \u001B[31m│\u001B[0m\n",
       "\u001B[31m│\u001B[0m   \u001B[2m177 \u001B[0m\u001B[2m│   \u001B[0m\u001B[94mdef\u001B[0m \u001B[92minverse\u001B[0m(\u001B[96mself\u001B[0m, data):                                                               \u001B[31m│\u001B[0m\n",
       "\u001B[31m│\u001B[0m                                                                                                  \u001B[31m│\u001B[0m\n",
       "\u001B[31m│\u001B[0m \u001B[33mc:\\Users\\mo\\anaconda3\\envs\\ml_env\\lib\\site-packages\\monai\\transforms\\transform.py\u001B[0m:\u001B[94m102\u001B[0m in         \u001B[31m│\u001B[0m\n",
       "\u001B[31m│\u001B[0m \u001B[92mapply_transform\u001B[0m                                                                                  \u001B[31m│\u001B[0m\n",
       "\u001B[31m│\u001B[0m                                                                                                  \u001B[31m│\u001B[0m\n",
       "\u001B[31m│\u001B[0m   \u001B[2m 99 \u001B[0m\u001B[2m│   \u001B[0m\u001B[94mtry\u001B[0m:                                                                                   \u001B[31m│\u001B[0m\n",
       "\u001B[31m│\u001B[0m   \u001B[2m100 \u001B[0m\u001B[2m│   │   \u001B[0m\u001B[94mif\u001B[0m \u001B[96misinstance\u001B[0m(data, (\u001B[96mlist\u001B[0m, \u001B[96mtuple\u001B[0m)) \u001B[95mand\u001B[0m map_items:                                  \u001B[31m│\u001B[0m\n",
       "\u001B[31m│\u001B[0m   \u001B[2m101 \u001B[0m\u001B[2m│   │   │   \u001B[0m\u001B[94mreturn\u001B[0m [_apply_transform(transform, item, unpack_items) \u001B[94mfor\u001B[0m item \u001B[95min\u001B[0m data]      \u001B[31m│\u001B[0m\n",
       "\u001B[31m│\u001B[0m \u001B[31m❱ \u001B[0m102 \u001B[2m│   │   \u001B[0m\u001B[94mreturn\u001B[0m _apply_transform(transform, data, unpack_items)                             \u001B[31m│\u001B[0m\n",
       "\u001B[31m│\u001B[0m   \u001B[2m103 \u001B[0m\u001B[2m│   \u001B[0m\u001B[94mexcept\u001B[0m \u001B[96mException\u001B[0m \u001B[94mas\u001B[0m e:                                                                 \u001B[31m│\u001B[0m\n",
       "\u001B[31m│\u001B[0m   \u001B[2m104 \u001B[0m\u001B[2m│   │   \u001B[0m\u001B[2m# if in debug mode, don't swallow exception so that the breakpoint\u001B[0m                 \u001B[31m│\u001B[0m\n",
       "\u001B[31m│\u001B[0m   \u001B[2m105 \u001B[0m\u001B[2m│   │   \u001B[0m\u001B[2m# appears where the exception was raised.\u001B[0m                                          \u001B[31m│\u001B[0m\n",
       "\u001B[31m│\u001B[0m                                                                                                  \u001B[31m│\u001B[0m\n",
       "\u001B[31m│\u001B[0m \u001B[33mc:\\Users\\mo\\anaconda3\\envs\\ml_env\\lib\\site-packages\\monai\\transforms\\transform.py\u001B[0m:\u001B[94m66\u001B[0m in          \u001B[31m│\u001B[0m\n",
       "\u001B[31m│\u001B[0m \u001B[92m_apply_transform\u001B[0m                                                                                 \u001B[31m│\u001B[0m\n",
       "\u001B[31m│\u001B[0m                                                                                                  \u001B[31m│\u001B[0m\n",
       "\u001B[31m│\u001B[0m   \u001B[2m 63 \u001B[0m\u001B[2m│   \u001B[0m\u001B[94mif\u001B[0m \u001B[96misinstance\u001B[0m(parameters, \u001B[96mtuple\u001B[0m) \u001B[95mand\u001B[0m unpack_parameters:                                \u001B[31m│\u001B[0m\n",
       "\u001B[31m│\u001B[0m   \u001B[2m 64 \u001B[0m\u001B[2m│   │   \u001B[0m\u001B[94mreturn\u001B[0m transform(*parameters)                                                      \u001B[31m│\u001B[0m\n",
       "\u001B[31m│\u001B[0m   \u001B[2m 65 \u001B[0m\u001B[2m│   \u001B[0m                                                                                       \u001B[31m│\u001B[0m\n",
       "\u001B[31m│\u001B[0m \u001B[31m❱ \u001B[0m 66 \u001B[2m│   \u001B[0m\u001B[94mreturn\u001B[0m transform(parameters)                                                           \u001B[31m│\u001B[0m\n",
       "\u001B[31m│\u001B[0m   \u001B[2m 67 \u001B[0m                                                                                           \u001B[31m│\u001B[0m\n",
       "\u001B[31m│\u001B[0m   \u001B[2m 68 \u001B[0m                                                                                           \u001B[31m│\u001B[0m\n",
       "\u001B[31m│\u001B[0m   \u001B[2m 69 \u001B[0m\u001B[94mdef\u001B[0m \u001B[92mapply_transform\u001B[0m(                                                                       \u001B[31m│\u001B[0m\n",
       "\u001B[31m│\u001B[0m                                                                                                  \u001B[31m│\u001B[0m\n",
       "\u001B[31m│\u001B[0m \u001B[33mc:\\Users\\mo\\anaconda3\\envs\\ml_env\\lib\\site-packages\\monai\\transforms\\io\\dictionary.py\u001B[0m:\u001B[94m154\u001B[0m in     \u001B[31m│\u001B[0m\n",
       "\u001B[31m│\u001B[0m \u001B[92m__call__\u001B[0m                                                                                         \u001B[31m│\u001B[0m\n",
       "\u001B[31m│\u001B[0m                                                                                                  \u001B[31m│\u001B[0m\n",
       "\u001B[31m│\u001B[0m   \u001B[2m151 \u001B[0m\u001B[2;33m│   │   \u001B[0m\u001B[33m\"\"\"\u001B[0m                                                                                \u001B[31m│\u001B[0m\n",
       "\u001B[31m│\u001B[0m   \u001B[2m152 \u001B[0m\u001B[2m│   │   \u001B[0md = \u001B[96mdict\u001B[0m(data)                                                                     \u001B[31m│\u001B[0m\n",
       "\u001B[31m│\u001B[0m   \u001B[2m153 \u001B[0m\u001B[2m│   │   \u001B[0m\u001B[94mfor\u001B[0m key, meta_key, meta_key_postfix \u001B[95min\u001B[0m \u001B[96mself\u001B[0m.key_iterator(d, \u001B[96mself\u001B[0m.meta_keys, \u001B[96mself\u001B[0m   \u001B[31m│\u001B[0m\n",
       "\u001B[31m│\u001B[0m \u001B[31m❱ \u001B[0m154 \u001B[2m│   │   │   \u001B[0mdata = \u001B[96mself\u001B[0m._loader(d[key], reader)                                            \u001B[31m│\u001B[0m\n",
       "\u001B[31m│\u001B[0m   \u001B[2m155 \u001B[0m\u001B[2m│   │   │   \u001B[0m\u001B[94mif\u001B[0m \u001B[96mself\u001B[0m._loader.image_only:                                                    \u001B[31m│\u001B[0m\n",
       "\u001B[31m│\u001B[0m   \u001B[2m156 \u001B[0m\u001B[2m│   │   │   │   \u001B[0md[key] = data                                                              \u001B[31m│\u001B[0m\n",
       "\u001B[31m│\u001B[0m   \u001B[2m157 \u001B[0m\u001B[2m│   │   │   \u001B[0m\u001B[94melse\u001B[0m:                                                                          \u001B[31m│\u001B[0m\n",
       "\u001B[31m│\u001B[0m                                                                                                  \u001B[31m│\u001B[0m\n",
       "\u001B[31m│\u001B[0m \u001B[33mc:\\Users\\mo\\anaconda3\\envs\\ml_env\\lib\\site-packages\\monai\\transforms\\io\\array.py\u001B[0m:\u001B[94m274\u001B[0m in \u001B[92m__call__\u001B[0m \u001B[31m│\u001B[0m\n",
       "\u001B[31m│\u001B[0m                                                                                                  \u001B[31m│\u001B[0m\n",
       "\u001B[31m│\u001B[0m   \u001B[2m271 \u001B[0m\u001B[2m│   │   │   \u001B[0m)                                                                              \u001B[31m│\u001B[0m\n",
       "\u001B[31m│\u001B[0m   \u001B[2m272 \u001B[0m\u001B[2m│   │   \u001B[0m                                                                                   \u001B[31m│\u001B[0m\n",
       "\u001B[31m│\u001B[0m   \u001B[2m273 \u001B[0m\u001B[2m│   │   \u001B[0mimg_array: NdarrayOrTensor                                                         \u001B[31m│\u001B[0m\n",
       "\u001B[31m│\u001B[0m \u001B[31m❱ \u001B[0m274 \u001B[2m│   │   \u001B[0mimg_array, meta_data = reader.get_data(img)                                        \u001B[31m│\u001B[0m\n",
       "\u001B[31m│\u001B[0m   \u001B[2m275 \u001B[0m\u001B[2m│   │   \u001B[0mimg_array = convert_to_dst_type(img_array, dst=img_array, dtype=\u001B[96mself\u001B[0m.dtype)[\u001B[94m0\u001B[0m]     \u001B[31m│\u001B[0m\n",
       "\u001B[31m│\u001B[0m   \u001B[2m276 \u001B[0m\u001B[2m│   │   \u001B[0m\u001B[94mif\u001B[0m \u001B[95mnot\u001B[0m \u001B[96misinstance\u001B[0m(meta_data, \u001B[96mdict\u001B[0m):                                                \u001B[31m│\u001B[0m\n",
       "\u001B[31m│\u001B[0m   \u001B[2m277 \u001B[0m\u001B[2m│   │   │   \u001B[0m\u001B[94mraise\u001B[0m \u001B[96mValueError\u001B[0m(\u001B[33m\"\u001B[0m\u001B[33m`meta_data` must be a dict.\u001B[0m\u001B[33m\"\u001B[0m)                                \u001B[31m│\u001B[0m\n",
       "\u001B[31m│\u001B[0m                                                                                                  \u001B[31m│\u001B[0m\n",
       "\u001B[31m│\u001B[0m \u001B[33mc:\\Users\\mo\\anaconda3\\envs\\ml_env\\lib\\site-packages\\monai\\data\\image_reader.py\u001B[0m:\u001B[94m1207\u001B[0m in \u001B[92mget_data\u001B[0m  \u001B[31m│\u001B[0m\n",
       "\u001B[31m│\u001B[0m                                                                                                  \u001B[31m│\u001B[0m\n",
       "\u001B[31m│\u001B[0m   \u001B[2m1204 \u001B[0m\u001B[2m│   │   \u001B[0m\u001B[94mfor\u001B[0m i \u001B[95min\u001B[0m ensure_tuple(img):                                                       \u001B[31m│\u001B[0m\n",
       "\u001B[31m│\u001B[0m   \u001B[2m1205 \u001B[0m\u001B[2m│   │   │   \u001B[0mheader = \u001B[96mself\u001B[0m._get_meta_dict(i)                                               \u001B[31m│\u001B[0m\n",
       "\u001B[31m│\u001B[0m   \u001B[2m1206 \u001B[0m\u001B[2m│   │   │   \u001B[0mheader[MetaKeys.SPATIAL_SHAPE] = \u001B[96mself\u001B[0m._get_spatial_shape(i)                   \u001B[31m│\u001B[0m\n",
       "\u001B[31m│\u001B[0m \u001B[31m❱ \u001B[0m1207 \u001B[2m│   │   │   \u001B[0mdata = np.moveaxis(np.asarray(i), \u001B[94m0\u001B[0m, \u001B[94m1\u001B[0m)                                       \u001B[31m│\u001B[0m\n",
       "\u001B[31m│\u001B[0m   \u001B[2m1208 \u001B[0m\u001B[2m│   │   │   \u001B[0mimg_array.append(data)                                                        \u001B[31m│\u001B[0m\n",
       "\u001B[31m│\u001B[0m   \u001B[2m1209 \u001B[0m\u001B[2m│   │   │   \u001B[0mheader[MetaKeys.ORIGINAL_CHANNEL_DIM] = (                                     \u001B[31m│\u001B[0m\n",
       "\u001B[31m│\u001B[0m   \u001B[2m1210 \u001B[0m\u001B[2m│   │   │   │   \u001B[0m\u001B[33m\"\u001B[0m\u001B[33mno_channel\u001B[0m\u001B[33m\"\u001B[0m \u001B[94mif\u001B[0m \u001B[96mlen\u001B[0m(data.shape) == \u001B[96mlen\u001B[0m(header[MetaKeys.SPATIAL_SHAPE]) \u001B[94me\u001B[0m  \u001B[31m│\u001B[0m\n",
       "\u001B[31m│\u001B[0m                                                                                                  \u001B[31m│\u001B[0m\n",
       "\u001B[31m│\u001B[0m \u001B[33mc:\\Users\\mo\\anaconda3\\envs\\ml_env\\lib\\site-packages\\PIL\\Image.py\u001B[0m:\u001B[94m701\u001B[0m in \u001B[92m__array_interface__\u001B[0m      \u001B[31m│\u001B[0m\n",
       "\u001B[31m│\u001B[0m                                                                                                  \u001B[31m│\u001B[0m\n",
       "\u001B[31m│\u001B[0m   \u001B[2m 698 \u001B[0m\u001B[2m│   │   │   │   \u001B[0m\u001B[2m# See: https://github.com/python-pillow/Pillow/issues/350\u001B[0m                 \u001B[31m│\u001B[0m\n",
       "\u001B[31m│\u001B[0m   \u001B[2m 699 \u001B[0m\u001B[2m│   │   │   │   \u001B[0mnew[\u001B[33m\"\u001B[0m\u001B[33mdata\u001B[0m\u001B[33m\"\u001B[0m] = \u001B[96mself\u001B[0m.tobytes(\u001B[33m\"\u001B[0m\u001B[33mraw\u001B[0m\u001B[33m\"\u001B[0m, \u001B[33m\"\u001B[0m\u001B[33mL\u001B[0m\u001B[33m\"\u001B[0m)                                    \u001B[31m│\u001B[0m\n",
       "\u001B[31m│\u001B[0m   \u001B[2m 700 \u001B[0m\u001B[2m│   │   │   \u001B[0m\u001B[94melse\u001B[0m:                                                                         \u001B[31m│\u001B[0m\n",
       "\u001B[31m│\u001B[0m \u001B[31m❱ \u001B[0m 701 \u001B[2m│   │   │   │   \u001B[0mnew[\u001B[33m\"\u001B[0m\u001B[33mdata\u001B[0m\u001B[33m\"\u001B[0m] = \u001B[96mself\u001B[0m.tobytes()                                              \u001B[31m│\u001B[0m\n",
       "\u001B[31m│\u001B[0m   \u001B[2m 702 \u001B[0m\u001B[2m│   │   \u001B[0m\u001B[94mexcept\u001B[0m \u001B[96mException\u001B[0m \u001B[94mas\u001B[0m e:                                                            \u001B[31m│\u001B[0m\n",
       "\u001B[31m│\u001B[0m   \u001B[2m 703 \u001B[0m\u001B[2m│   │   │   \u001B[0m\u001B[94mif\u001B[0m \u001B[95mnot\u001B[0m \u001B[96misinstance\u001B[0m(e, (\u001B[96mMemoryError\u001B[0m, \u001B[96mRecursionError\u001B[0m)):                          \u001B[31m│\u001B[0m\n",
       "\u001B[31m│\u001B[0m   \u001B[2m 704 \u001B[0m\u001B[2m│   │   │   │   \u001B[0m\u001B[94mtry\u001B[0m:                                                                      \u001B[31m│\u001B[0m\n",
       "\u001B[31m│\u001B[0m                                                                                                  \u001B[31m│\u001B[0m\n",
       "\u001B[31m│\u001B[0m \u001B[33mc:\\Users\\mo\\anaconda3\\envs\\ml_env\\lib\\site-packages\\PIL\\Image.py\u001B[0m:\u001B[94m758\u001B[0m in \u001B[92mtobytes\u001B[0m                  \u001B[31m│\u001B[0m\n",
       "\u001B[31m│\u001B[0m                                                                                                  \u001B[31m│\u001B[0m\n",
       "\u001B[31m│\u001B[0m   \u001B[2m 755 \u001B[0m\u001B[2m│   │   \u001B[0m\u001B[94mif\u001B[0m encoder_name == \u001B[33m\"\u001B[0m\u001B[33mraw\u001B[0m\u001B[33m\"\u001B[0m \u001B[95mand\u001B[0m args == ():                                          \u001B[31m│\u001B[0m\n",
       "\u001B[31m│\u001B[0m   \u001B[2m 756 \u001B[0m\u001B[2m│   │   │   \u001B[0margs = \u001B[96mself\u001B[0m.mode                                                              \u001B[31m│\u001B[0m\n",
       "\u001B[31m│\u001B[0m   \u001B[2m 757 \u001B[0m\u001B[2m│   │   \u001B[0m                                                                                  \u001B[31m│\u001B[0m\n",
       "\u001B[31m│\u001B[0m \u001B[31m❱ \u001B[0m 758 \u001B[2m│   │   \u001B[0m\u001B[96mself\u001B[0m.load()                                                                       \u001B[31m│\u001B[0m\n",
       "\u001B[31m│\u001B[0m   \u001B[2m 759 \u001B[0m\u001B[2m│   │   \u001B[0m                                                                                  \u001B[31m│\u001B[0m\n",
       "\u001B[31m│\u001B[0m   \u001B[2m 760 \u001B[0m\u001B[2m│   │   \u001B[0m\u001B[94mif\u001B[0m \u001B[96mself\u001B[0m.width == \u001B[94m0\u001B[0m \u001B[95mor\u001B[0m \u001B[96mself\u001B[0m.height == \u001B[94m0\u001B[0m:                                           \u001B[31m│\u001B[0m\n",
       "\u001B[31m│\u001B[0m   \u001B[2m 761 \u001B[0m\u001B[2m│   │   │   \u001B[0m\u001B[94mreturn\u001B[0m \u001B[33mb\u001B[0m\u001B[33m\"\u001B[0m\u001B[33m\"\u001B[0m                                                                    \u001B[31m│\u001B[0m\n",
       "\u001B[31m│\u001B[0m                                                                                                  \u001B[31m│\u001B[0m\n",
       "\u001B[31m│\u001B[0m \u001B[33mc:\\Users\\mo\\anaconda3\\envs\\ml_env\\lib\\site-packages\\PIL\\ImageFile.py\u001B[0m:\u001B[94m269\u001B[0m in \u001B[92mload\u001B[0m                 \u001B[31m│\u001B[0m\n",
       "\u001B[31m│\u001B[0m                                                                                                  \u001B[31m│\u001B[0m\n",
       "\u001B[31m│\u001B[0m   \u001B[2m266 \u001B[0m\u001B[2m│   │   │   │   │   │   │   │   │   \u001B[0m\u001B[94mraise\u001B[0m \u001B[96mOSError\u001B[0m(msg)                                     \u001B[31m│\u001B[0m\n",
       "\u001B[31m│\u001B[0m   \u001B[2m267 \u001B[0m\u001B[2m│   │   │   │   │   │   │   \u001B[0m                                                               \u001B[31m│\u001B[0m\n",
       "\u001B[31m│\u001B[0m   \u001B[2m268 \u001B[0m\u001B[2m│   │   │   │   │   │   │   \u001B[0mb = b + s                                                      \u001B[31m│\u001B[0m\n",
       "\u001B[31m│\u001B[0m \u001B[31m❱ \u001B[0m269 \u001B[2m│   │   │   │   │   │   │   \u001B[0mn, err_code = decoder.decode(b)                                \u001B[31m│\u001B[0m\n",
       "\u001B[31m│\u001B[0m   \u001B[2m270 \u001B[0m\u001B[2m│   │   │   │   │   │   │   \u001B[0m\u001B[94mif\u001B[0m n < \u001B[94m0\u001B[0m:                                                      \u001B[31m│\u001B[0m\n",
       "\u001B[31m│\u001B[0m   \u001B[2m271 \u001B[0m\u001B[2m│   │   │   │   │   │   │   │   \u001B[0m\u001B[94mbreak\u001B[0m                                                      \u001B[31m│\u001B[0m\n",
       "\u001B[31m│\u001B[0m   \u001B[2m272 \u001B[0m\u001B[2m│   │   │   │   │   │   │   \u001B[0mb = b[n:]                                                      \u001B[31m│\u001B[0m\n",
       "\u001B[31m╰──────────────────────────────────────────────────────────────────────────────────────────────────╯\u001B[0m\n",
       "\u001B[1;91mKeyboardInterrupt\u001B[0m\n"
      ]
     },
     "metadata": {},
     "output_type": "display_data"
    }
   ],
   "source": [
    "init_experiment(config)\n",
    "\n",
    "train_loss, test_loss, metrics = net.train(\n",
    "    trainloader=train_loader,\n",
    "    valloader=validation_loader,\n",
    "    log=log,\n",
    "    epochs=config.get(\"epochs\"),\n",
    "    learning_rate=config.get(\"learning_rate\"),\n",
    "    optimizer_name=\"adam\",\n",
    "    schedule=False,\n",
    ")\n",
    "\n",
    "terminate_experiment()"
   ]
  }
 ],
 "metadata": {
  "kernelspec": {
   "display_name": "base",
   "language": "python",
   "name": "python3"
  },
  "language_info": {
   "codemirror_mode": {
    "name": "ipython",
    "version": 3
   },
   "file_extension": ".py",
   "mimetype": "text/x-python",
   "name": "python",
   "nbconvert_exporter": "python",
   "pygments_lexer": "ipython3",
   "version": "3.9.16"
  },
  "orig_nbformat": 4
 },
 "nbformat": 4,
 "nbformat_minor": 2
}
