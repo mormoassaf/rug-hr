{
 "cells": [
  {
   "cell_type": "code",
   "execution_count": 1,
   "metadata": {},
   "outputs": [
    {
     "name": "stdout",
     "output_type": "stream",
     "text": [
      "c:\\Users\\mo\\Documents\\Organisations\\RUG\\rug-hr\\experiments\n",
      "c:\\Users\\mo\\Documents\\Organisations\\RUG\\rug-hr\n"
     ]
    }
   ],
   "source": [
    "%load_ext autoreload\n",
    "%autoreload 2\n",
    "from glob import glob\n",
    "from torch.utils.data import DataLoader\n",
    "import os\n",
    "import numpy as np\n",
    "import matplotlib.pyplot as plt\n",
    "import torch\n",
    "import random\n",
    "from tqdm import tqdm\n",
    "from monai.data import CacheDataset, Dataset, list_data_collate\n",
    "from monai.transforms import (\n",
    "    AsChannelFirstd,\n",
    "    AddChanneld,\n",
    "    AsDiscreted,\n",
    "    Compose,\n",
    "    CropForegroundd,\n",
    "    EnsureChannelFirstd,\n",
    "    LoadImaged,\n",
    "    RandCropByPosNegLabeld,\n",
    "    RandShiftIntensityd,\n",
    "    RandRotated,\n",
    "    RandZoomd,\n",
    "    Rotated,\n",
    "    ScaleIntensityd,\n",
    "    ScaleIntensityRanged,\n",
    "    ThresholdIntensityd,\n",
    "    Transposed,\n",
    "    EnsureTyped,\n",
    "    RandAffined,\n",
    "    Transform,\n",
    "    MapTransform,\n",
    "    RandGibbsNoised,\n",
    "    RandKSpaceSpikeNoised,\n",
    "    RandGaussianNoised,\n",
    "    RandCoarseDropoutd,\n",
    "    ResizeWithPadOrCropd,\n",
    "    RandSpatialCropd,\n",
    "    Lambdad\n",
    ")\n",
    "\n",
    "# ensure is in parent directory\n",
    "try:\n",
    "    print(os.getcwd())\n",
    "    os.chdir(\"../../rug-hr/\")\n",
    "    print(os.getcwd())\n",
    "except:\n",
    "    pass"
   ]
  },
  {
   "attachments": {},
   "cell_type": "markdown",
   "metadata": {},
   "source": [
    "## Experiment setup"
   ]
  },
  {
   "cell_type": "code",
   "execution_count": 2,
   "metadata": {},
   "outputs": [
    {
     "name": "stdout",
     "output_type": "stream",
     "text": [
      "Configuration:\n",
      "Output model name:  seglm-masked-v1-128x1024-iam.pt\n",
      "Using model:  UNETR\n",
      "Using dataset:  handwitten_manuscripts\n",
      "Using spatial size:  [128, 1024]\n",
      "Using splits:  [0.88, 0.08]\n",
      "Using learning rate:  0.0001\n",
      "Using batch size:  12\n",
      "Using epochs:  200\n",
      "Using pretrained model:  seglm-masked-v1-128x1024-iam.pt\n"
     ]
    }
   ],
   "source": [
    "SPATIAL_SIZE = [128, 1024]\n",
    "SPATIAL_ALIAS = \"x\".join([str(x) for x in SPATIAL_SIZE])\n",
    "VERSION = \"v1\"\n",
    "ALIAS = \"iam\"\n",
    "MODEL_OUTPUT_NAME = f\"seglm-masked-{VERSION}-{SPATIAL_ALIAS}-{ALIAS}.pt\"\n",
    "\n",
    "config = {\n",
    "    \"epochs\": 200,\n",
    "    \"batch_size\": 12,\n",
    "    \"learning_rate\": 1e-4,\n",
    "    \"architecture\": \"UNETR\",\n",
    "    \"dataset\": \"handwitten_manuscripts\",\n",
    "    \"spatial_size\": SPATIAL_SIZE,\n",
    "    \"splits\": [0.88, 0.08],\n",
    "    \"model_output_name\": MODEL_OUTPUT_NAME,\n",
    "    \"name\": \"IAM handwriting recognition\",\n",
    "    \"description\": \"Masked language model for handwriting recognition\",\n",
    "    \"pretrained_model\": MODEL_OUTPUT_NAME,\n",
    "    \"device\": \"cuda\" if torch.cuda.is_available() else \"cpu\",\n",
    "}\n",
    "\n",
    "# print summary\n",
    "print(\"Configuration:\")\n",
    "print(\"Output model name: \", config[\"model_output_name\"])\n",
    "print(\"Using model: \", config[\"architecture\"])\n",
    "print(\"Using dataset: \", config[\"dataset\"])\n",
    "print(\"Using spatial size: \", config[\"spatial_size\"])\n",
    "print(\"Using splits: \", config[\"splits\"])\n",
    "print(\"Using learning rate: \", config[\"learning_rate\"])\n",
    "print(\"Using batch size: \", config[\"batch_size\"])\n",
    "print(\"Using epochs: \", config[\"epochs\"])\n",
    "print(\"Using pretrained model: \", config[\"pretrained_model\"])"
   ]
  },
  {
   "cell_type": "code",
   "execution_count": 3,
   "metadata": {},
   "outputs": [],
   "source": [
    "import wandb \n",
    "def init_experiment(config=config):\n",
    "    wandb.init(\n",
    "        project=\"handwriting-recognition-iam\",\n",
    "        config=config,\n",
    "    )\n",
    "\n",
    "def terminate_experiment():\n",
    "    wandb.finish()\n",
    "\n",
    "def log(data):\n",
    "    wandb.log(data)"
   ]
  },
  {
   "attachments": {},
   "cell_type": "markdown",
   "metadata": {},
   "source": [
    "## Data setup\n",
    "\n",
    "Some notes:\n",
    "- Max height: 342; Max width: 2260\n",
    "- Min height: 44; Min width: 100\n",
    "- Mean height: 121.56060606060606; Mean width: 1693.719093590775\n",
    "- Max tokens: 27"
   ]
  },
  {
   "cell_type": "code",
   "execution_count": 4,
   "metadata": {},
   "outputs": [
    {
     "name": "stdout",
     "output_type": "stream",
     "text": [
      "Train: 23254; Validation: 2114; Test: 1057\n",
      "Example: {'img': './datasets/handwitten_manuscripts/Mutated\\\\41785_Alex Brush_118.png', 'seg': './datasets/handwitten_manuscripts/Raw\\\\41785_Alex Brush_118.png'}\n",
      "Number of classes: 95\n"
     ]
    }
   ],
   "source": [
    "dataset_name = config[\"dataset\"]\n",
    "segs = glob(f\"./datasets/{dataset_name}/Raw/*\")\n",
    "imgs = glob(f\"./datasets/{dataset_name}/Mutated/*\")\n",
    "fraction = 1\n",
    "\n",
    "metadata = [{\n",
    "    \"img\": p_img, \n",
    "    \"seg\": p_seg, \n",
    "} for p_img, p_seg in zip(imgs, segs)]\n",
    "\n",
    "random.shuffle(metadata)\n",
    "metadata = metadata[:int(len(metadata) * fraction)]\n",
    "\n",
    "# split into training, validation and test set\n",
    "split_train = int(len(metadata) * config[\"splits\"][0])\n",
    "split_validation = int(len(metadata) * (config[\"splits\"][1] + config[\"splits\"][0]))\n",
    "\n",
    "train_metadata = metadata[:split_train]\n",
    "validation_metadata = metadata[split_train:split_validation]\n",
    "test_metadata = metadata[split_validation:]\n",
    "\n",
    "print(f\"Train: {len(train_metadata)}; Validation: {len(validation_metadata)}; Test: {len(test_metadata)}\")\n",
    "print(f\"Example: {train_metadata[0]}\")\n",
    "n_classes = ord(\"~\") - ord(\" \") + 1\n",
    "print(f\"Number of classes: {n_classes}\")"
   ]
  },
  {
   "cell_type": "code",
   "execution_count": 5,
   "metadata": {},
   "outputs": [
    {
     "name": "stderr",
     "output_type": "stream",
     "text": [
      "c:\\Users\\mo\\anaconda3\\envs\\ml_env\\lib\\site-packages\\monai\\utils\\deprecate_utils.py:107: FutureWarning: <class 'monai.transforms.utility.array.AddChannel'>: Class `AddChannel` has been deprecated since version 0.8. please use MetaTensor data type and monai.transforms.EnsureChannelFirst instead.\n",
      "  warn_deprecated(obj, msg, warning_category)\n"
     ]
    }
   ],
   "source": [
    "\n",
    "from monai.config import KeysCollection\n",
    "\n",
    "\n",
    "class Invert(Transform):\n",
    "    def __call__(self, data, max_value=1.0, min_value=0.0):\n",
    "        return max_value - data + min_value\n",
    "\n",
    "class Invertd(MapTransform):\n",
    "    def __init__(self, keys):\n",
    "        super().__init__(keys)\n",
    "        self.invert = Invert()\n",
    "\n",
    "    def __call__(self, data):\n",
    "        d = dict(data)\n",
    "        for key in self.keys:\n",
    "            d[key] = self.invert(d[key])\n",
    "        return d\n",
    "    \n",
    "class AddMask(Transform):\n",
    "    \"\"\" Adds a mask channel to the image where \n",
    "    Args: \n",
    "        prob: probability of zeroing out a region\n",
    "        min_portion: minimum portion of the image to zero out in each dimension\n",
    "        max_portion: maximum portion of the image to zero out in each dimension\n",
    "    \"\"\"\n",
    "    def __init__(self, \n",
    "                 prob=0.5, \n",
    "                 min_portion=(0.1, 0.1), \n",
    "                 max_portion=(0.5, 0.5)):\n",
    "        self.prob = prob\n",
    "        self.min_portion = min_portion\n",
    "        self.max_portion = max_portion\n",
    "    \n",
    "    \"\"\"\n",
    "    Args:\n",
    "        image: (..., C, H, W)\n",
    "    Returns: with mask channel added\n",
    "        image: (..., C+1, H, W)\n",
    "    \"\"\"\n",
    "    def __call__(self, image):\n",
    "        C, H, W = image.shape[-3:]\n",
    "        mask = torch.ones((*image.shape[:-3], 1, H, W))\n",
    "        if random.random() < self.prob:\n",
    "            min_p_i, min_p_j = self.min_portion\n",
    "            max_p_i, max_p_j = self.max_portion\n",
    "            p_i = random.uniform(min_p_i, max_p_i)\n",
    "            p_j = random.uniform(min_p_j, max_p_j)\n",
    "            size_i = int(H * p_i)\n",
    "            size_j = int(W * p_j)\n",
    "            i_start = random.randint(0, H - size_i)\n",
    "            j_start = random.randint(0, W - size_j)\n",
    "            i_end = i_start + size_i\n",
    "            j_end = j_start + size_j   \n",
    "            mask[..., i_start:i_end, j_start:j_end] = 0\n",
    "        image *= mask\n",
    "        return torch.cat([image, mask], dim=-3)\n",
    "    \n",
    "class AddMaskd(MapTransform):\n",
    "    def __init__(self, keys: KeysCollection, allow_missing_keys: bool = False,  *argc, **argv) -> None:\n",
    "        super().__init__(keys, allow_missing_keys)\n",
    "        self.add_mask = AddMask(*argc, **argv)\n",
    "    \n",
    "    def __call__(self, data):\n",
    "        d = dict(data)\n",
    "        for key in self.keys:\n",
    "            d[key] = self.add_mask(d[key])\n",
    "        return d\n",
    "\n",
    "augmentation_transforms = Compose([\n",
    "    RandCoarseDropoutd(keys=[\"img\"], holes=128, spatial_size=(8, 8), max_holes=128, fill_value=0, prob=0.5),\n",
    "    RandGaussianNoised(keys=[\"img\"], mean=0.0, std=0.02, prob=0.7),\n",
    "    RandShiftIntensityd(keys=[\"img\"], offsets=0.1, prob=0.5),\n",
    "])\n",
    "\n",
    "input_transforms = Compose([\n",
    "    # Image transformations\n",
    "    LoadImaged(keys=[\"img\", \"seg\"]),\n",
    "    AddChanneld(keys=[\"img\", \"seg\"]),\n",
    "    EnsureTyped(keys=[\"img\", \"seg\"]),\n",
    "    Transposed(keys=[\"img\", \"seg\"], indices=[0, -1, -2]),\n",
    "    CropForegroundd(keys=[\"img\", \"seg\"], source_key=\"img\", ),\n",
    "    ResizeWithPadOrCropd(\n",
    "        keys=[\"img\", \"seg\"],\n",
    "        spatial_size=(256, 2048),\n",
    "        mode=\"constant\",\n",
    "    ),\n",
    "    ScaleIntensityRanged(keys=[\"img\"], a_min=0, a_max=1, b_min=0.0, b_max=1.0, clip=True),\n",
    "    # Augmentation\n",
    "    augmentation_transforms,\n",
    "    # Post processing\n",
    "    ScaleIntensityRanged(keys=[\"img\"], a_min=0, a_max=1, b_min=0.0, b_max=1.0, clip=True),\n",
    "    AddMaskd(\n",
    "        keys=[\"img\"], \n",
    "        prob=1.0, \n",
    "        min_portion=(0.8, 0.01), \n",
    "        max_portion=(0.9, 0.05),\n",
    "    ),\n",
    "    RandSpatialCropd(\n",
    "        keys=[\"img\", \"seg\"],\n",
    "        roi_size=config[\"spatial_size\"],\n",
    "        random_size=False,\n",
    "    ),\n",
    "    Lambdad(keys=[\"seg\"], func=lambda x: torch.clamp(x, 0, n_classes-1)),\n",
    "    EnsureTyped(keys=[\"img\", \"seg\"]),\n",
    "])\n",
    "\n",
    "train_transforms = Compose([\n",
    "    input_transforms,\n",
    "    EnsureTyped(keys=[\"img\", \"seg\"]),\n",
    "])\n",
    "\n",
    "validation_transforms = Compose([\n",
    "    input_transforms,\n",
    "    EnsureTyped(keys=[\"img\", \"seg\"]),\n",
    "])\n"
   ]
  },
  {
   "cell_type": "code",
   "execution_count": 6,
   "metadata": {},
   "outputs": [
    {
     "name": "stdout",
     "output_type": "stream",
     "text": [
      "image: torch.Size([2, 128, 1024])\n",
      "segmentation: torch.Size([1, 128, 1024])\n",
      "range(img): (tensor(0.), tensor(1.))\n",
      "range(img[1]): (tensor(0.), tensor(1.))\n",
      "range(seg): (tensor(0.), tensor(89.))\n"
     ]
    },
    {
     "data": {
      "image/png": "[encoded data removed]",
      "text/plain": [
       "<Figure size 1000x500 with 3 Axes>"
      ]
     },
     "metadata": {},
     "output_type": "display_data"
    }
   ],
   "source": [
    "\n",
    "# example\n",
    "choice = random.choice(train_metadata)\n",
    "output = train_transforms(choice)\n",
    "spatial_size = torch.zeros(config[\"spatial_size\"]).shape\n",
    "assert output[\"img\"][0].shape == spatial_size or print(output[\"img\"][0].shape, spatial_size)\n",
    "assert output[\"seg\"][0].shape == spatial_size or print(output[\"seg\"][0].shape, spatial_size)\n",
    "# ensuer seg is at max n_classes\n",
    "assert output[\"seg\"].max() < n_classes or print(\"wrong seg max\", output[\"seg\"].max())\n",
    "assert output[\"seg\"].min() >= 0 or print(\"wrong seg min\", output[\"seg\"].min())\n",
    "assert output[\"img\"].max() <= 1 or print(\"wrong img max\", output[\"img\"].max())\n",
    "assert output[\"img\"].min() >= 0 or print(\"wrong img min\", output[\"img\"].min())\n",
    "assert output[\"img\"].shape[0] == 2 or print(output[\"img\"].shape)\n",
    "assert output[\"seg\"].shape[0] == 1 or print(output[\"seg\"].shape)\n",
    "\n",
    " \n",
    "print(\"image:\", output[\"img\"].shape)\n",
    "print(\"segmentation:\", output[\"seg\"].shape)\n",
    "print(f\"range(img): ({output['img'].min()}, {output['img'].max()})\")\n",
    "print(f\"range(img[1]): ({output['img'][1].min()}, {output['img'][1].max()})\")\n",
    "print(f\"range(seg): ({output['seg'].min()}, {output['seg'].max()})\")\n",
    "fig, ax = plt.subplots(3, 1, figsize=(10, 5))\n",
    "ax[0].imshow(output[\"img\"][0], cmap=\"gray\")\n",
    "ax[1].imshow(output[\"img\"][1], cmap=\"gray\")\n",
    "ax[2].imshow(output[\"seg\"][0], cmap=\"gray\")\n",
    "plt.show()"
   ]
  },
  {
   "cell_type": "code",
   "execution_count": 7,
   "metadata": {},
   "outputs": [
    {
     "name": "stderr",
     "output_type": "stream",
     "text": [
      "Loading dataset: 100%|██████████| 23254/23254 [00:00<00:00, 2207358.56it/s]\n",
      "Loading dataset: 100%|██████████| 2114/2114 [00:00<00:00, 2115666.58it/s]\n"
     ]
    }
   ],
   "source": [
    "train_dataset = CacheDataset(data=train_metadata, transform=train_transforms)\n",
    "validation_dataset = CacheDataset(data=validation_metadata, transform=validation_transforms)\n",
    "test_dataset = Dataset(data=test_metadata, transform=input_transforms)\n",
    "train_loader = DataLoader(train_dataset, batch_size=config[\"batch_size\"])\n",
    "validation_loader = DataLoader(validation_dataset, batch_size=config[\"batch_size\"])\n",
    "test_loader = DataLoader(test_dataset, batch_size=config[\"batch_size\"])"
   ]
  },
  {
   "cell_type": "code",
   "execution_count": 8,
   "metadata": {},
   "outputs": [
    {
     "name": "stdout",
     "output_type": "stream",
     "text": [
      "device name NVIDIA GeForce RTX 3090\n",
      "model loaded\n",
      "number of trainable parameters in millions: 90.785727\n",
      "model size (MB) 346.32006454467773\n"
     ]
    }
   ],
   "source": [
    "\n",
    "from modules.segnet import SEGNET\n",
    "from monai.networks.nets import UNETR\n",
    "\n",
    "print(\"device name\", torch.cuda.get_device_name(0))\n",
    "\n",
    "device = torch.device(\"cuda:0\" if torch.cuda.is_available() else \"cpu\")\n",
    "# device = torch.device(\"cpu\")\n",
    "\n",
    "model_output_name = config.get(\"model_output_name\")\n",
    "\n",
    "hidden_size = 768\n",
    "model = UNETR(\n",
    "    in_channels=2,\n",
    "    out_channels=n_classes, \n",
    "    img_size=config[\"spatial_size\"],\n",
    "    feature_size=32,\n",
    "    num_heads=12,\n",
    "    hidden_size=hidden_size,\n",
    "    mlp_dim=4*hidden_size,\n",
    "    pos_embed=\"perceptron\",\n",
    "    norm_name=\"instance\",\n",
    "    res_block=True,\n",
    "    dropout_rate=0.1,\n",
    "    spatial_dims=2,\n",
    "    conv_block=False\n",
    ").to(device)\n",
    "\n",
    "net = SEGNET(\n",
    "    model_name=model_output_name,\n",
    "    device=device, \n",
    "    load=False,\n",
    "    model=model,\n",
    "    img_size=config[\"spatial_size\"],\n",
    "    n_classes=n_classes,\n",
    ")\n",
    "\n",
    "pre_trained_model = config.get(\"pretrained_model\", None)\n",
    "if pre_trained_model:\n",
    "    try:\n",
    "        net.load_model(\"artifacts/\" + pre_trained_model)\n",
    "        print(\"model loaded\")\n",
    "    except:\n",
    "        print(\"could not load model\")\n",
    "\n",
    "# print number of trainable parameters\n",
    "print(\"number of trainable parameters in millions:\", sum(p.numel() for p in model.parameters() if p.requires_grad) / 1000000)\n",
    "print(\"model size (MB)\", sum(p.numel() for p in model.parameters() if p.requires_grad) * 4 / 1024 / 1024)"
   ]
  },
  {
   "cell_type": "code",
   "execution_count": 9,
   "metadata": {},
   "outputs": [
    {
     "name": "stdout",
     "output_type": "stream",
     "text": [
      "2023-05-28 23:10:27,504 - Failed to detect the name of this notebook, you can set it manually with the WANDB_NOTEBOOK_NAME environment variable to enable code saving.\n"
     ]
    },
    {
     "name": "stderr",
     "output_type": "stream",
     "text": [
      "\u001b[34m\u001b[1mwandb\u001b[0m: Currently logged in as: \u001b[33mmassaf\u001b[0m (\u001b[33mrug-ai-group\u001b[0m). Use \u001b[1m`wandb login --relogin`\u001b[0m to force relogin\n"
     ]
    },
    {
     "data": {
      "text/html": [
       "wandb version 0.15.3 is available!  To upgrade, please run:\n",
       " $ pip install wandb --upgrade"
      ],
      "text/plain": [
       "<IPython.core.display.HTML object>"
      ]
     },
     "metadata": {},
     "output_type": "display_data"
    },
    {
     "data": {
      "text/html": [
       "Tracking run with wandb version 0.15.0"
      ],
      "text/plain": [
       "<IPython.core.display.HTML object>"
      ]
     },
     "metadata": {},
     "output_type": "display_data"
    },
    {
     "data": {
      "text/html": [
       "Run data is saved locally in <code>c:\\Users\\mo\\Documents\\Organisations\\RUG\\rug-hr\\wandb\\run-20230528_231029-cecbrpq0</code>"
      ],
      "text/plain": [
       "<IPython.core.display.HTML object>"
      ]
     },
     "metadata": {},
     "output_type": "display_data"
    },
    {
     "data": {
      "text/html": [
       "Syncing run <strong><a href='https://wandb.ai/rug-ai-group/handwriting-recognition-iam/runs/cecbrpq0' target=\"_blank\">breezy-snow-128</a></strong> to <a href='https://wandb.ai/rug-ai-group/handwriting-recognition-iam' target=\"_blank\">Weights & Biases</a> (<a href='https://wandb.me/run' target=\"_blank\">docs</a>)<br/>"
      ],
      "text/plain": [
       "<IPython.core.display.HTML object>"
      ]
     },
     "metadata": {},
     "output_type": "display_data"
    },
    {
     "data": {
      "text/html": [
       " View project at <a href='https://wandb.ai/rug-ai-group/handwriting-recognition-iam' target=\"_blank\">https://wandb.ai/rug-ai-group/handwriting-recognition-iam</a>"
      ],
      "text/plain": [
       "<IPython.core.display.HTML object>"
      ]
     },
     "metadata": {},
     "output_type": "display_data"
    },
    {
     "data": {
      "text/html": [
       " View run at <a href='https://wandb.ai/rug-ai-group/handwriting-recognition-iam/runs/cecbrpq0' target=\"_blank\">https://wandb.ai/rug-ai-group/handwriting-recognition-iam/runs/cecbrpq0</a>"
      ],
      "text/plain": [
       "<IPython.core.display.HTML object>"
      ]
     },
     "metadata": {},
     "output_type": "display_data"
    },
    {
     "name": "stdout",
     "output_type": "stream",
     "text": [
      "epochs=200; N=23254; batches=1938; learning_rate=0.0001\n"
     ]
    },
    {
     "name": "stderr",
     "output_type": "stream",
     "text": [
      "100%|██████████| 177/177 [01:55<00:00,  1.53it/s]\n",
      "100%|██████████| 1938/1938 [30:43<00:00,  1.05it/s]\n"
     ]
    },
    {
     "name": "stdout",
     "output_type": "stream",
     "text": [
      "epoch 1/200; train_loss=0.2679738558067626; test_loss=0.2683675202441081; lr=0.0001; metric=0.8693407773971558\n"
     ]
    },
    {
     "name": "stderr",
     "output_type": "stream",
     "text": [
      "100%|██████████| 177/177 [01:36<00:00,  1.83it/s]\n",
      "100%|██████████| 1938/1938 [27:39<00:00,  1.17it/s]\n"
     ]
    },
    {
     "name": "stdout",
     "output_type": "stream",
     "text": [
      "epoch 2/200; train_loss=0.2676601887779585; test_loss=0.26985224963581494; lr=0.0001; metric=0.8719177842140198\n"
     ]
    },
    {
     "name": "stderr",
     "output_type": "stream",
     "text": [
      "100%|██████████| 177/177 [01:36<00:00,  1.84it/s]\n",
      "100%|██████████| 1938/1938 [25:49<00:00,  1.25it/s]\n"
     ]
    },
    {
     "name": "stdout",
     "output_type": "stream",
     "text": [
      "epoch 3/200; train_loss=0.26667958815554227; test_loss=0.2738406880427215; lr=0.0001; metric=0.8639684915542603\n"
     ]
    },
    {
     "name": "stderr",
     "output_type": "stream",
     "text": [
      "100%|██████████| 177/177 [01:27<00:00,  2.01it/s]\n",
      "100%|██████████| 1938/1938 [25:16<00:00,  1.28it/s]\n"
     ]
    },
    {
     "name": "stdout",
     "output_type": "stream",
     "text": [
      "epoch 4/200; train_loss=0.265961676074809; test_loss=0.2730033886803072; lr=0.0001; metric=0.8662654757499695\n"
     ]
    },
    {
     "name": "stderr",
     "output_type": "stream",
     "text": [
      "100%|██████████| 177/177 [01:27<00:00,  2.01it/s]\n",
      "100%|██████████| 1938/1938 [25:07<00:00,  1.29it/s]\n"
     ]
    },
    {
     "name": "stdout",
     "output_type": "stream",
     "text": [
      "epoch 5/200; train_loss=0.24172157356736584; test_loss=0.2697823725346118; lr=0.0001; metric=0.8621998429298401\n"
     ]
    },
    {
     "name": "stderr",
     "output_type": "stream",
     "text": [
      "100%|██████████| 177/177 [01:28<00:00,  2.01it/s]\n",
      "100%|██████████| 1938/1938 [25:18<00:00,  1.28it/s]\n"
     ]
    },
    {
     "name": "stdout",
     "output_type": "stream",
     "text": [
      "epoch 6/200; train_loss=0.22294756264201873; test_loss=0.23866353407081237; lr=0.0001; metric=0.857801616191864\n"
     ]
    },
    {
     "name": "stderr",
     "output_type": "stream",
     "text": [
      "100%|██████████| 177/177 [01:28<00:00,  2.00it/s]\n",
      "100%|██████████| 1938/1938 [25:15<00:00,  1.28it/s]\n"
     ]
    },
    {
     "name": "stdout",
     "output_type": "stream",
     "text": [
      "epoch 7/200; train_loss=0.21918575289602496; test_loss=0.2291194290596213; lr=0.0001; metric=0.861437976360321\n"
     ]
    },
    {
     "name": "stderr",
     "output_type": "stream",
     "text": [
      "100%|██████████| 177/177 [01:28<00:00,  2.01it/s]\n",
      "100%|██████████| 1938/1938 [25:10<00:00,  1.28it/s]\n"
     ]
    },
    {
     "name": "stdout",
     "output_type": "stream",
     "text": [
      "epoch 8/200; train_loss=0.21796661895249034; test_loss=0.23141678932022913; lr=0.0001; metric=0.8636651039123535\n"
     ]
    },
    {
     "name": "stderr",
     "output_type": "stream",
     "text": [
      "100%|██████████| 177/177 [01:28<00:00,  2.01it/s]\n",
      "100%|██████████| 1938/1938 [25:11<00:00,  1.28it/s]\n"
     ]
    },
    {
     "name": "stdout",
     "output_type": "stream",
     "text": [
      "epoch 9/200; train_loss=0.21550940435429722; test_loss=0.22910374655561933; lr=0.0001; metric=0.8613517880439758\n"
     ]
    },
    {
     "name": "stderr",
     "output_type": "stream",
     "text": [
      "100%|██████████| 177/177 [01:27<00:00,  2.02it/s]\n",
      "100%|██████████| 1938/1938 [25:14<00:00,  1.28it/s]\n"
     ]
    },
    {
     "name": "stdout",
     "output_type": "stream",
     "text": [
      "epoch 10/200; train_loss=0.21342893656039508; test_loss=0.2291949478078023; lr=0.0001; metric=0.8593629598617554\n"
     ]
    },
    {
     "name": "stderr",
     "output_type": "stream",
     "text": [
      "100%|██████████| 177/177 [01:28<00:00,  2.01it/s]\n",
      "100%|██████████| 1938/1938 [25:15<00:00,  1.28it/s]\n"
     ]
    },
    {
     "name": "stdout",
     "output_type": "stream",
     "text": [
      "epoch 11/200; train_loss=0.21266688983906656; test_loss=0.22700960311175739; lr=0.0001; metric=0.8627818822860718\n"
     ]
    },
    {
     "name": "stderr",
     "output_type": "stream",
     "text": [
      "100%|██████████| 177/177 [01:28<00:00,  2.00it/s]\n",
      "100%|██████████| 1938/1938 [25:14<00:00,  1.28it/s]\n"
     ]
    },
    {
     "name": "stdout",
     "output_type": "stream",
     "text": [
      "epoch 12/200; train_loss=0.21317089236004064; test_loss=0.22641955484441445; lr=0.0001; metric=0.8599047064781189\n"
     ]
    },
    {
     "name": "stderr",
     "output_type": "stream",
     "text": [
      "100%|██████████| 177/177 [01:28<00:00,  2.00it/s]\n",
      "100%|██████████| 1938/1938 [25:07<00:00,  1.29it/s]\n"
     ]
    },
    {
     "name": "stdout",
     "output_type": "stream",
     "text": [
      "epoch 13/200; train_loss=0.21196305524976877; test_loss=0.2275957002983255; lr=0.0001; metric=0.8638669848442078\n"
     ]
    },
    {
     "name": "stderr",
     "output_type": "stream",
     "text": [
      "100%|██████████| 177/177 [01:27<00:00,  2.03it/s]\n",
      "100%|██████████| 1938/1938 [25:09<00:00,  1.28it/s]\n"
     ]
    },
    {
     "name": "stdout",
     "output_type": "stream",
     "text": [
      "epoch 14/200; train_loss=0.21211136473867545; test_loss=0.22830295099713707; lr=0.0001; metric=0.8587363362312317\n"
     ]
    },
    {
     "name": "stderr",
     "output_type": "stream",
     "text": [
      "100%|██████████| 177/177 [01:27<00:00,  2.02it/s]\n",
      "100%|██████████| 1938/1938 [25:05<00:00,  1.29it/s]\n"
     ]
    },
    {
     "name": "stdout",
     "output_type": "stream",
     "text": [
      "epoch 15/200; train_loss=0.20940463923848204; test_loss=0.225685095130387; lr=0.0001; metric=0.8610381484031677\n"
     ]
    },
    {
     "name": "stderr",
     "output_type": "stream",
     "text": [
      "100%|██████████| 177/177 [01:27<00:00,  2.02it/s]\n",
      "100%|██████████| 1938/1938 [25:05<00:00,  1.29it/s]\n"
     ]
    },
    {
     "name": "stdout",
     "output_type": "stream",
     "text": [
      "epoch 16/200; train_loss=0.2091193435208101; test_loss=0.22145886306708815; lr=0.0001; metric=0.8622386455535889\n"
     ]
    },
    {
     "name": "stderr",
     "output_type": "stream",
     "text": [
      "100%|██████████| 177/177 [01:27<00:00,  2.02it/s]\n",
      "100%|██████████| 1938/1938 [25:08<00:00,  1.28it/s]\n"
     ]
    },
    {
     "name": "stdout",
     "output_type": "stream",
     "text": [
      "epoch 17/200; train_loss=0.20787636330591514; test_loss=0.22675388521057063; lr=0.0001; metric=0.8606284856796265\n"
     ]
    },
    {
     "name": "stderr",
     "output_type": "stream",
     "text": [
      "100%|██████████| 177/177 [01:27<00:00,  2.02it/s]\n",
      "100%|██████████| 1938/1938 [25:05<00:00,  1.29it/s]\n"
     ]
    },
    {
     "name": "stdout",
     "output_type": "stream",
     "text": [
      "epoch 18/200; train_loss=0.2088822097478144; test_loss=0.2294480670980141; lr=0.0001; metric=0.8609503507614136\n"
     ]
    },
    {
     "name": "stderr",
     "output_type": "stream",
     "text": [
      "100%|██████████| 177/177 [01:29<00:00,  1.97it/s]\n",
      "100%|██████████| 1938/1938 [28:04<00:00,  1.15it/s]\n"
     ]
    },
    {
     "name": "stdout",
     "output_type": "stream",
     "text": [
      "epoch 19/200; train_loss=0.2074147035647472; test_loss=0.22640709158054179; lr=0.0001; metric=0.8617066740989685\n"
     ]
    },
    {
     "name": "stderr",
     "output_type": "stream",
     "text": [
      "100%|██████████| 177/177 [01:41<00:00,  1.74it/s]\n",
      "100%|██████████| 1938/1938 [28:01<00:00,  1.15it/s]\n"
     ]
    },
    {
     "name": "stdout",
     "output_type": "stream",
     "text": [
      "epoch 20/200; train_loss=0.2073308951668326; test_loss=0.23191212538608724; lr=0.0001; metric=0.8545793890953064\n"
     ]
    },
    {
     "name": "stderr",
     "output_type": "stream",
     "text": [
      "100%|██████████| 177/177 [01:41<00:00,  1.75it/s]\n",
      "100%|██████████| 1938/1938 [27:39<00:00,  1.17it/s]\n"
     ]
    },
    {
     "name": "stdout",
     "output_type": "stream",
     "text": [
      "epoch 21/200; train_loss=0.19935600571834142; test_loss=0.22166734571847538; lr=0.0001; metric=0.8603535294532776\n"
     ]
    },
    {
     "name": "stderr",
     "output_type": "stream",
     "text": [
      "100%|██████████| 177/177 [01:38<00:00,  1.80it/s]\n",
      "100%|██████████| 1938/1938 [27:39<00:00,  1.17it/s]\n"
     ]
    },
    {
     "name": "stdout",
     "output_type": "stream",
     "text": [
      "epoch 22/200; train_loss=0.18180226206671835; test_loss=0.2180429160342378; lr=0.0001; metric=0.8512328267097473\n"
     ]
    },
    {
     "name": "stderr",
     "output_type": "stream",
     "text": [
      "100%|██████████| 177/177 [01:41<00:00,  1.75it/s]\n",
      "100%|██████████| 1938/1938 [28:05<00:00,  1.15it/s]\n"
     ]
    },
    {
     "name": "stdout",
     "output_type": "stream",
     "text": [
      "epoch 23/200; train_loss=0.17388444145904974; test_loss=0.19710227005225792; lr=0.0001; metric=0.8562549352645874\n"
     ]
    },
    {
     "name": "stderr",
     "output_type": "stream",
     "text": [
      "100%|██████████| 177/177 [01:40<00:00,  1.76it/s]\n",
      "100%|██████████| 1938/1938 [27:52<00:00,  1.16it/s]\n"
     ]
    },
    {
     "name": "stdout",
     "output_type": "stream",
     "text": [
      "epoch 24/200; train_loss=0.16848519835063672; test_loss=0.19234326006160618; lr=0.0001; metric=0.8563789129257202\n"
     ]
    },
    {
     "name": "stderr",
     "output_type": "stream",
     "text": [
      "100%|██████████| 177/177 [01:39<00:00,  1.77it/s]\n",
      "100%|██████████| 1938/1938 [28:23<00:00,  1.14it/s]\n"
     ]
    },
    {
     "name": "stdout",
     "output_type": "stream",
     "text": [
      "epoch 25/200; train_loss=0.16464733809878582; test_loss=0.19139144683288314; lr=0.0001; metric=0.8516411781311035\n"
     ]
    },
    {
     "name": "stderr",
     "output_type": "stream",
     "text": [
      "100%|██████████| 177/177 [01:41<00:00,  1.75it/s]\n",
      "  3%|▎         | 52/1938 [00:45<26:42,  1.18it/s]"
     ]
    }
   ],
   "source": [
    "init_experiment(config)\n",
    "\n",
    "train_loss, test_loss, metrics = net.train(\n",
    "    trainloader=train_loader, \n",
    "    valloader=validation_loader,\n",
    "    log=log, \n",
    "    epochs=config.get(\"epochs\"), \n",
    "    learning_rate=config.get(\"learning_rate\"), \n",
    "    optimizer_name=\"adam\", \n",
    "    schedule=False,\n",
    ")\n",
    "\n",
    "terminate_experiment()"
   ]
  }
 ],
 "metadata": {
  "kernelspec": {
   "display_name": "base",
   "language": "python",
   "name": "python3"
  },
  "language_info": {
   "codemirror_mode": {
    "name": "ipython",
    "version": 3
   },
   "file_extension": ".py",
   "mimetype": "text/x-python",
   "name": "python",
   "nbconvert_exporter": "python",
   "pygments_lexer": "ipython3",
   "version": "3.9.16"
  },
  "orig_nbformat": 4
 },
 "nbformat": 4,
 "nbformat_minor": 2
}
