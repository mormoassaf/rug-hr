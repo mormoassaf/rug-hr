{
 "cells": [
  {
   "cell_type": "markdown",
   "metadata": {},
   "source": [
    "# Dataset loading"
   ]
  },
  {
   "cell_type": "code",
   "execution_count": 4,
   "metadata": {
    "pycharm": {
     "is_executing": true
    }
   },
   "outputs": [
    {
     "name": "stdout",
     "output_type": "stream",
     "text": [
      "The autoreload extension is already loaded. To reload it, use:\n",
      "  %reload_ext autoreload\n"
     ]
    }
   ],
   "source": [
    "%load_ext autoreload\n",
    "%autoreload 2\n",
    "from glob import glob\n",
    "from torch.utils.data import DataLoader\n",
    "\n",
    "import monai\n",
    "from monai.networks.nets import UNet, UNETR\n",
    "from monai.data import CacheDataset, Dataset, list_data_collate\n",
    "from monai.transforms import (\n",
    "    AsChannelFirstd,\n",
    "    AddChanneld,\n",
    "    AsDiscreted,\n",
    "    Compose,\n",
    "    CropForegroundd,\n",
    "    EnsureChannelFirstd,\n",
    "    LoadImaged,\n",
    "    RandCropByPosNegLabeld,\n",
    "    RandShiftIntensityd,\n",
    "    RandRotated,\n",
    "    RandZoomd,\n",
    "    Rotated,\n",
    "    ScaleIntensityd,\n",
    "    ScaleIntensityRanged,\n",
    "    EnsureTyped,\n",
    "    RandAffined,\n",
    "    Transform,\n",
    "    MapTransform,\n",
    "    RandGibbsNoised,\n",
    "    RandKSpaceSpikeNoised,\n",
    "    RandGaussianNoised,\n",
    "    RandCoarseDropoutd,\n",
    ")\n",
    "from monai.visualize import plot_2d_or_3d_image\n",
    "import os\n",
    "import numpy as np\n",
    "import matplotlib.pyplot as plt\n",
    "import wandb \n",
    "import torch\n",
    "\n",
    "# ensure is in parent directory\n",
    "try:\n",
    "    os.chdir(\"../../RUG-HandRec/\")\n",
    "except:\n",
    "    pass"
   ]
  },
  {
   "attachments": {},
   "cell_type": "markdown",
   "metadata": {},
   "source": [
    "### Setting up the experiment"
   ]
  },
  {
   "cell_type": "code",
   "execution_count": 6,
   "metadata": {},
   "outputs": [],
   "source": [
    "config = {\n",
    "    \"epochs\": 200,\n",
    "    \"batch_size\": 4,\n",
    "    \"learning_rate\": 1e-4,\n",
    "    \"architecture\": \"UNETR\",\n",
    "    \"dataset\": \"seascrolls\",\n",
    "    \"spatial_size\": [256, 256],\n",
    "    \"splits\": [0.7, 0.3],\n",
    "    \"model_output_name\": \"hebrew_unetr.pt\",\n",
    "    \"description\": \"Hebrew UNETR trained on artificial seascrolls dataset\",\n",
    "    \"pretrained_model\": None,\n",
    "    \"dataset\": \"generated_manuscripts_rtl\",\n",
    "    \"benchmark_dataset\": \"generated_manuscripts_rtl_benchmark\",\n",
    "}\n",
    "\n",
    "def init_experiment(config=config):\n",
    "    wandb.init(\n",
    "        project=\"handwriting-recognition-seascrolls\",\n",
    "        config=config,\n",
    "    )\n",
    "\n",
    "def terminate_experiment():\n",
    "    wandb.finish()\n",
    "\n",
    "def log(data):\n",
    "    wandb.log(data)"
   ]
  },
  {
   "attachments": {},
   "cell_type": "markdown",
   "metadata": {},
   "source": [
    "### Setting up the data"
   ]
  },
  {
   "cell_type": "code",
   "execution_count": 8,
   "metadata": {},
   "outputs": [
    {
     "name": "stdout",
     "output_type": "stream",
     "text": [
      "N_train = 1433; N_test = 615; N_val = 1024\n"
     ]
    }
   ],
   "source": [
    "# Load paths\n",
    "splits = config.get(\"splits\", [0.7, 0.3])\n",
    "training_dataset = config.get(\"dataset\")\n",
    "benchmark_dataset = config.get(\"benchmark_dataset\")\n",
    "fraction = 1\n",
    "\n",
    "train_images = sorted(glob(os.path.join(\"./datasets\", f\"{training_dataset}/Images/*\")))\n",
    "train_segs = sorted(glob(os.path.join(\"./datasets\", f\"{training_dataset}/Masks/*\")))\n",
    "train_images = train_images[:int(len(train_images)*fraction)]\n",
    "train_segs = train_segs[:int(len(train_segs)*fraction)]\n",
    "\n",
    "test_images = sorted(glob(os.path.join(\"./datasets\", f\"{benchmark_dataset}/Images/*\")))\n",
    "test_segs = sorted(glob(os.path.join(\"./datasets\", f\"{benchmark_dataset}/Masks/*\")))\n",
    "\n",
    "# Training and validation split\n",
    "split_i = int(len(train_images)*splits[0])\n",
    "train_files = [{\"img\": image_name, \"seg\": seg_name} for image_name, seg_name in zip(train_images[:split_i], train_segs[:split_i])]\n",
    "val_files = [{\"img\": image_name, \"seg\": seg_name} for image_name, seg_name in zip(train_images[split_i:], train_segs[split_i:])]\n",
    "test_files = [{\"img\": image_name, \"seg\": seg_name} for image_name, seg_name in zip(test_images, test_segs)]\n",
    "\n",
    "print(f\"N_train = {len(train_files)}; N_test = {len(val_files)}; N_val = {len(test_files)}\")"
   ]
  },
  {
   "attachments": {},
   "cell_type": "markdown",
   "metadata": {},
   "source": [
    "#### Transformations\n",
    "The data is transformed as follows:\n",
    "- A channel is added\n",
    "- Randomly intensity scale\n",
    "- Randomly crop with given spatial size\n",
    "- Random affine transformation and shearing"
   ]
  },
  {
   "cell_type": "code",
   "execution_count": 9,
   "metadata": {},
   "outputs": [],
   "source": [
    "# Create transformations\n",
    "spatial_size = config.get(\"spatial_size\")\n",
    "\n",
    "augmentation_transforms = [\n",
    "    RandAffined(\n",
    "        keys=[\"img\", \"seg\"],\n",
    "        shear_range=0.3,\n",
    "        mode=(\"bilinear\", \"nearest\"),\n",
    "        prob=1,\n",
    "        padding_mode=\"zeros\",\n",
    "    ),\n",
    "    RandGaussianNoised(\n",
    "        keys=[\"img\"],\n",
    "        prob=1,\n",
    "        mean=0.0,\n",
    "        std=0.2\n",
    "    ),\n",
    "    RandCoarseDropoutd(\n",
    "        keys=[\"img\"],\n",
    "        holes=512,\n",
    "        spatial_size=(16, 16),\n",
    "        max_holes=512,\n",
    "        prob=1,\n",
    "        fill_value=0,\n",
    "    ),\n",
    "    RandCropByPosNegLabeld(\n",
    "        keys=[\"img\", \"seg\"],\n",
    "        label_key=\"seg\",\n",
    "        spatial_size=spatial_size,\n",
    "        pos=1,\n",
    "        neg=1,\n",
    "        num_samples=4,\n",
    "        image_key=\"img\",\n",
    "        image_threshold=0,\n",
    "    ),\n",
    "    ScaleIntensityd(keys=[\"img\"]),\n",
    "]\n",
    "\n",
    "train_transforms = Compose([\n",
    "    LoadImaged(keys=[\"img\", \"seg\"]),\n",
    "    AddChanneld(keys=[\"img\", \"seg\"]),\n",
    "    # CropForegroundd(keys=[\"img\", \"seg\"], source_key=\"img\"),\n",
    "    ScaleIntensityd(keys=[\"img\"]),\n",
    "    # rotate by 90\n",
    "    # Rotated(keys=[\"img\", \"seg\"], angle=np.pi/2),\n",
    "    *augmentation_transforms,\n",
    "    EnsureTyped(keys=[\"img\", \"seg\"]),\n",
    "])\n",
    "\n",
    "val_transforms = Compose([\n",
    "    LoadImaged(keys=[\"img\", \"seg\"]),\n",
    "    AddChanneld(keys=[\"img\", \"seg\"]),\n",
    "    ScaleIntensityd(keys=[\"img\"]),\n",
    "    EnsureTyped(keys=[\"img\", \"seg\"]),\n",
    "])"
   ]
  },
  {
   "cell_type": "code",
   "execution_count": 15,
   "metadata": {},
   "outputs": [
    {
     "name": "stdout",
     "output_type": "stream",
     "text": [
      "torch.Size([256, 256]) tensor(0.) tensor(1.)\n",
      "torch.Size([256, 256]) tensor(0.) tensor(20.)\n"
     ]
    },
    {
     "data": {
      "image/png": "[encoded data removed]",
      "text/plain": [
       "<Figure size 1000x500 with 2 Axes>"
      ]
     },
     "metadata": {},
     "output_type": "display_data"
    }
   ],
   "source": [
    "# test train tansform on small sample\n",
    "choose = np.random.choice(len(train_files))\n",
    "cropped_sample = train_transforms(train_files[choose])[0]\n",
    "original = cropped_sample[\"img\"][0, :, :]\n",
    "label = cropped_sample[\"seg\"][0, :, :]\n",
    "print(original.shape, original.min(), original.max())\n",
    "print(label.shape, label.min(), label.max())\n",
    "\n",
    "# subplots\n",
    "fig, ax = plt.subplots(1, 2, figsize=(10, 5))\n",
    "ax[0].imshow(original[:, :], cmap=\"gray\")\n",
    "ax[1].imshow(28-label[:, :], cmap=\"RdBu_r\")\n",
    "plt.show()"
   ]
  },
  {
   "attachments": {},
   "cell_type": "markdown",
   "metadata": {},
   "source": [
    "#### Load the dataset"
   ]
  },
  {
   "cell_type": "code",
   "execution_count": 32,
   "metadata": {},
   "outputs": [
    {
     "name": "stderr",
     "output_type": "stream",
     "text": [
      "Loading dataset: 100%|██████████| 286/286 [00:05<00:00, 55.58it/s]\n"
     ]
    }
   ],
   "source": [
    "train_loader = DataLoader(\n",
    "    CacheDataset(data=train_files, transform=train_transforms, cache_rate=0.2),\n",
    "    shuffle=True,\n",
    "    batch_size=config.get(\"batch_size\"), \n",
    "    num_workers=4, \n",
    "    pin_memory=True,\n",
    "    collate_fn=list_data_collate,\n",
    ")\n",
    "\n",
    "val_loader = DataLoader(\n",
    "    Dataset(data=val_files, transform=val_transforms),\n",
    "    batch_size=config.get(\"batch_size\"), \n",
    "    num_workers=4, \n",
    "    pin_memory=True\n",
    ")\n",
    "\n",
    "test_loader = DataLoader(\n",
    "    Dataset(data=test_files, transform=val_transforms),\n",
    "    batch_size=config.get(\"batch_size\"),\n",
    "    num_workers=4,\n",
    "    pin_memory=True\n",
    ")"
   ]
  },
  {
   "attachments": {},
   "cell_type": "markdown",
   "metadata": {},
   "source": [
    "### Training experiment execution"
   ]
  },
  {
   "cell_type": "code",
   "execution_count": 16,
   "metadata": {},
   "outputs": [
    {
     "name": "stdout",
     "output_type": "stream",
     "text": [
      "device name NVIDIA GeForce RTX 3090\n",
      "number of trainable parameters 87315836\n"
     ]
    }
   ],
   "source": [
    "\n",
    "from modules.segnet import SEGNET\n",
    "from monai.networks.nets import AttentionUnet\n",
    "import torch\n",
    "\n",
    "print(\"device name\", torch.cuda.get_device_name(0))\n",
    "device = torch.device(\"cuda:0\" if torch.cuda.is_available() else \"cpu\")\n",
    "\n",
    "model_output_name = config.get(\"model_output_name\")\n",
    "\n",
    "model = UNETR(\n",
    "    in_channels=1,\n",
    "    out_channels=28,\n",
    "    img_size=spatial_size,\n",
    "    feature_size=16,\n",
    "    hidden_size=768,\n",
    "    mlp_dim=3072,\n",
    "    num_heads=12,\n",
    "    pos_embed=\"perceptron\",\n",
    "    norm_name=\"instance\",\n",
    "    res_block=True,\n",
    "    dropout_rate=0.3,\n",
    "    spatial_dims=2,\n",
    ").to(device)\n",
    "\n",
    "# model = UNet(\n",
    "#     spatial_dims=2,\n",
    "#     in_channels=1,\n",
    "#     out_channels=28,\n",
    "#     strides=(2, 2, 2, 2),\n",
    "#     num_res_units=1,\n",
    "#     dropout=0.4,\n",
    "# ).to(device)\n",
    "\n",
    "# model = AttentionUnet(\n",
    "#     spatial_dims=2,\n",
    "#     in_channels=1,\n",
    "#     out_channels=28,\n",
    "#     channels=(16, 32, 64, 128),\n",
    "#     strides=(2, 2, 2, 2),\n",
    "#     dropout=0.4,\n",
    "# ).to(device)\n",
    "\n",
    "net = SEGNET(\n",
    "    model_name=model_output_name,\n",
    "    device=device, \n",
    "    load=False,\n",
    "    model=model,\n",
    "    img_size=spatial_size\n",
    ")\n",
    "\n",
    "pre_trained_model = config.get(\"pretrained_model\", None)\n",
    "if pre_trained_model:\n",
    "    try:\n",
    "        net.load_model(pre_trained_model)\n",
    "        print(\"model loaded\")\n",
    "    except:\n",
    "        print(\"could not load model\")\n",
    "\n",
    "# print number of trainable parameters\n",
    "print(\"number of trainable parameters\", sum(p.numel() for p in model.parameters() if p.requires_grad))"
   ]
  },
  {
   "cell_type": "code",
   "execution_count": 8,
   "metadata": {},
   "outputs": [
    {
     "name": "stderr",
     "output_type": "stream",
     "text": [
      "Failed to detect the name of this notebook, you can set it manually with the WANDB_NOTEBOOK_NAME environment variable to enable code saving.\n",
      "\u001b[34m\u001b[1mwandb\u001b[0m: Currently logged in as: \u001b[33mmassaf\u001b[0m (\u001b[33mrug-ai-group\u001b[0m). Use \u001b[1m`wandb login --relogin`\u001b[0m to force relogin\n"
     ]
    },
    {
     "data": {
      "text/html": [
       "Tracking run with wandb version 0.15.0"
      ],
      "text/plain": [
       "<IPython.core.display.HTML object>"
      ]
     },
     "metadata": {},
     "output_type": "display_data"
    },
    {
     "data": {
      "text/html": [
       "Run data is saved locally in <code>c:\\Users\\mo\\Documents\\Organisations\\RUG\\RUG-HandRec\\wandb\\run-20230430_222014-w785n55q</code>"
      ],
      "text/plain": [
       "<IPython.core.display.HTML object>"
      ]
     },
     "metadata": {},
     "output_type": "display_data"
    },
    {
     "data": {
      "text/html": [
       "Syncing run <strong><a href='https://wandb.ai/rug-ai-group/handwriting-recognition-seascrolls/runs/w785n55q' target=\"_blank\">peachy-field-72</a></strong> to <a href='https://wandb.ai/rug-ai-group/handwriting-recognition-seascrolls' target=\"_blank\">Weights & Biases</a> (<a href='https://wandb.me/run' target=\"_blank\">docs</a>)<br/>"
      ],
      "text/plain": [
       "<IPython.core.display.HTML object>"
      ]
     },
     "metadata": {},
     "output_type": "display_data"
    },
    {
     "data": {
      "text/html": [
       " View project at <a href='https://wandb.ai/rug-ai-group/handwriting-recognition-seascrolls' target=\"_blank\">https://wandb.ai/rug-ai-group/handwriting-recognition-seascrolls</a>"
      ],
      "text/plain": [
       "<IPython.core.display.HTML object>"
      ]
     },
     "metadata": {},
     "output_type": "display_data"
    },
    {
     "data": {
      "text/html": [
       " View run at <a href='https://wandb.ai/rug-ai-group/handwriting-recognition-seascrolls/runs/w785n55q' target=\"_blank\">https://wandb.ai/rug-ai-group/handwriting-recognition-seascrolls/runs/w785n55q</a>"
      ],
      "text/plain": [
       "<IPython.core.display.HTML object>"
      ]
     },
     "metadata": {},
     "output_type": "display_data"
    },
    {
     "name": "stdout",
     "output_type": "stream",
     "text": [
      "epochs=200; N=1228; batches=307; learning_rate=0.0001\n"
     ]
    },
    {
     "name": "stderr",
     "output_type": "stream",
     "text": [
      "100%|██████████| 103/103 [04:28<00:00,  2.61s/it]\n"
     ]
    },
    {
     "name": "stdout",
     "output_type": "stream",
     "text": [
      "current best metric: 0.005599227733910084\n"
     ]
    },
    {
     "name": "stderr",
     "output_type": "stream",
     "text": [
      "100%|██████████| 307/307 [01:42<00:00,  3.00it/s]\n",
      "100%|██████████| 103/103 [04:29<00:00,  2.62s/it]\n"
     ]
    },
    {
     "name": "stdout",
     "output_type": "stream",
     "text": [
      "epoch 1/200; train_loss=3.7241336771253652; test_loss=3.2275803991891805; lr=0.0001; metric=0.05267677828669548\n"
     ]
    },
    {
     "name": "stderr",
     "output_type": "stream",
     "text": [
      "100%|██████████| 307/307 [01:42<00:00,  2.98it/s]\n",
      "100%|██████████| 103/103 [04:32<00:00,  2.64s/it]\n"
     ]
    },
    {
     "name": "stdout",
     "output_type": "stream",
     "text": [
      "epoch 2/200; train_loss=2.9435865009258158; test_loss=2.5684077068439963; lr=0.0001; metric=0.05569226294755936\n"
     ]
    },
    {
     "name": "stderr",
     "output_type": "stream",
     "text": [
      "100%|██████████| 307/307 [01:53<00:00,  2.71it/s]\n",
      "100%|██████████| 103/103 [04:32<00:00,  2.65s/it]\n"
     ]
    },
    {
     "name": "stdout",
     "output_type": "stream",
     "text": [
      "epoch 3/200; train_loss=2.3162417178821872; test_loss=1.9934156276647328; lr=0.0001; metric=0.061102211475372314\n"
     ]
    },
    {
     "name": "stderr",
     "output_type": "stream",
     "text": [
      "100%|██████████| 307/307 [01:45<00:00,  2.90it/s]\n",
      "100%|██████████| 103/103 [04:32<00:00,  2.65s/it]\n"
     ]
    },
    {
     "name": "stdout",
     "output_type": "stream",
     "text": [
      "epoch 4/200; train_loss=1.865450156239811; test_loss=1.629113341998128; lr=0.0001; metric=0.06073296070098877\n"
     ]
    },
    {
     "name": "stderr",
     "output_type": "stream",
     "text": [
      "100%|██████████| 307/307 [01:45<00:00,  2.91it/s]\n",
      "100%|██████████| 103/103 [04:33<00:00,  2.65s/it]\n"
     ]
    },
    {
     "name": "stdout",
     "output_type": "stream",
     "text": [
      "epoch 5/200; train_loss=1.5953461487052496; test_loss=1.4387686426199755; lr=0.0001; metric=0.06317511945962906\n"
     ]
    },
    {
     "name": "stderr",
     "output_type": "stream",
     "text": [
      "100%|██████████| 307/307 [01:45<00:00,  2.91it/s]\n",
      "100%|██████████| 103/103 [04:33<00:00,  2.65s/it]\n"
     ]
    },
    {
     "name": "stdout",
     "output_type": "stream",
     "text": [
      "epoch 6/200; train_loss=1.4536885357058398; test_loss=1.3189003872639924; lr=0.0001; metric=0.07643397152423859\n"
     ]
    },
    {
     "name": "stderr",
     "output_type": "stream",
     "text": [
      "100%|██████████| 307/307 [01:45<00:00,  2.90it/s]\n",
      "100%|██████████| 103/103 [04:32<00:00,  2.65s/it]\n"
     ]
    },
    {
     "name": "stdout",
     "output_type": "stream",
     "text": [
      "epoch 7/200; train_loss=1.3675843085062231; test_loss=1.2403158204069415; lr=0.0001; metric=0.07817161083221436\n"
     ]
    },
    {
     "name": "stderr",
     "output_type": "stream",
     "text": [
      "100%|██████████| 307/307 [01:45<00:00,  2.92it/s]\n",
      "100%|██████████| 103/103 [04:32<00:00,  2.65s/it]\n"
     ]
    },
    {
     "name": "stdout",
     "output_type": "stream",
     "text": [
      "epoch 8/200; train_loss=1.3094716029369093; test_loss=1.192195916638791; lr=0.0001; metric=0.09347926825284958\n"
     ]
    },
    {
     "name": "stderr",
     "output_type": "stream",
     "text": [
      "100%|██████████| 307/307 [01:45<00:00,  2.92it/s]\n",
      "100%|██████████| 103/103 [04:33<00:00,  2.65s/it]\n"
     ]
    },
    {
     "name": "stdout",
     "output_type": "stream",
     "text": [
      "epoch 9/200; train_loss=1.2711760314357397; test_loss=1.1597905922861933; lr=0.0001; metric=0.09858500212430954\n"
     ]
    },
    {
     "name": "stderr",
     "output_type": "stream",
     "text": [
      "100%|██████████| 307/307 [01:45<00:00,  2.92it/s]\n",
      "100%|██████████| 103/103 [04:33<00:00,  2.65s/it]\n"
     ]
    },
    {
     "name": "stdout",
     "output_type": "stream",
     "text": [
      "epoch 10/200; train_loss=1.248141705019078; test_loss=1.1284195138412771; lr=0.0001; metric=0.12451045215129852\n"
     ]
    },
    {
     "name": "stderr",
     "output_type": "stream",
     "text": [
      "100%|██████████| 307/307 [01:46<00:00,  2.88it/s]\n",
      "100%|██████████| 103/103 [04:33<00:00,  2.65s/it]\n"
     ]
    },
    {
     "name": "stdout",
     "output_type": "stream",
     "text": [
      "epoch 11/200; train_loss=1.2216842943371702; test_loss=1.098241753948545; lr=0.0001; metric=0.14164014160633087\n"
     ]
    },
    {
     "name": "stderr",
     "output_type": "stream",
     "text": [
      "100%|██████████| 307/307 [01:45<00:00,  2.91it/s]\n",
      "100%|██████████| 103/103 [04:33<00:00,  2.65s/it]\n"
     ]
    },
    {
     "name": "stdout",
     "output_type": "stream",
     "text": [
      "epoch 12/200; train_loss=1.2001582473419388; test_loss=1.0771908308695821; lr=0.0001; metric=0.16173775494098663\n"
     ]
    },
    {
     "name": "stderr",
     "output_type": "stream",
     "text": [
      "100%|██████████| 307/307 [01:45<00:00,  2.91it/s]\n",
      "100%|██████████| 103/103 [04:32<00:00,  2.65s/it]\n"
     ]
    },
    {
     "name": "stdout",
     "output_type": "stream",
     "text": [
      "epoch 13/200; train_loss=1.1836279362731337; test_loss=1.0571086406707764; lr=0.0001; metric=0.17636707425117493\n"
     ]
    },
    {
     "name": "stderr",
     "output_type": "stream",
     "text": [
      "100%|██████████| 307/307 [01:45<00:00,  2.92it/s]\n",
      "100%|██████████| 103/103 [04:33<00:00,  2.65s/it]\n"
     ]
    },
    {
     "name": "stdout",
     "output_type": "stream",
     "text": [
      "epoch 14/200; train_loss=1.171031039778495; test_loss=1.0381330870887608; lr=0.0001; metric=0.19070307910442352\n"
     ]
    },
    {
     "name": "stderr",
     "output_type": "stream",
     "text": [
      "100%|██████████| 307/307 [01:45<00:00,  2.92it/s]\n",
      "100%|██████████| 103/103 [04:32<00:00,  2.65s/it]\n"
     ]
    },
    {
     "name": "stdout",
     "output_type": "stream",
     "text": [
      "epoch 15/200; train_loss=1.1569087043258965; test_loss=1.0187263239934607; lr=0.0001; metric=0.21637335419654846\n"
     ]
    },
    {
     "name": "stderr",
     "output_type": "stream",
     "text": [
      "100%|██████████| 307/307 [01:45<00:00,  2.91it/s]\n",
      "100%|██████████| 103/103 [04:33<00:00,  2.65s/it]\n"
     ]
    },
    {
     "name": "stdout",
     "output_type": "stream",
     "text": [
      "epoch 16/200; train_loss=1.1439500480210743; test_loss=1.003927623183982; lr=0.0001; metric=0.2176208645105362\n"
     ]
    },
    {
     "name": "stderr",
     "output_type": "stream",
     "text": [
      "100%|██████████| 307/307 [01:46<00:00,  2.90it/s]\n",
      "100%|██████████| 103/103 [04:32<00:00,  2.65s/it]\n"
     ]
    },
    {
     "name": "stdout",
     "output_type": "stream",
     "text": [
      "epoch 17/200; train_loss=1.1308211476484418; test_loss=0.9833887225215875; lr=0.0001; metric=0.2679632902145386\n"
     ]
    },
    {
     "name": "stderr",
     "output_type": "stream",
     "text": [
      "100%|██████████| 307/307 [01:44<00:00,  2.93it/s]\n",
      "100%|██████████| 103/103 [04:32<00:00,  2.65s/it]\n"
     ]
    },
    {
     "name": "stdout",
     "output_type": "stream",
     "text": [
      "epoch 18/200; train_loss=1.1175753821767502; test_loss=0.9548181063920549; lr=0.0001; metric=0.2909119725227356\n"
     ]
    },
    {
     "name": "stderr",
     "output_type": "stream",
     "text": [
      "100%|██████████| 307/307 [01:44<00:00,  2.93it/s]\n",
      "100%|██████████| 103/103 [04:32<00:00,  2.65s/it]\n"
     ]
    },
    {
     "name": "stdout",
     "output_type": "stream",
     "text": [
      "epoch 19/200; train_loss=1.1040601536194743; test_loss=0.9307816312151048; lr=0.0001; metric=0.2978319823741913\n"
     ]
    },
    {
     "name": "stderr",
     "output_type": "stream",
     "text": [
      "100%|██████████| 307/307 [01:44<00:00,  2.93it/s]\n",
      "100%|██████████| 103/103 [04:33<00:00,  2.65s/it]\n"
     ]
    },
    {
     "name": "stdout",
     "output_type": "stream",
     "text": [
      "epoch 20/200; train_loss=1.0899571801629828; test_loss=0.9074320550103789; lr=0.0001; metric=0.30248722434043884\n"
     ]
    },
    {
     "name": "stderr",
     "output_type": "stream",
     "text": [
      "100%|██████████| 307/307 [01:45<00:00,  2.92it/s]\n",
      "100%|██████████| 103/103 [04:32<00:00,  2.65s/it]\n"
     ]
    },
    {
     "name": "stdout",
     "output_type": "stream",
     "text": [
      "epoch 21/200; train_loss=1.0780696356335369; test_loss=0.8968614687040014; lr=0.0001; metric=0.3348284363746643\n"
     ]
    },
    {
     "name": "stderr",
     "output_type": "stream",
     "text": [
      "100%|██████████| 307/307 [01:45<00:00,  2.92it/s]\n",
      "100%|██████████| 103/103 [04:33<00:00,  2.65s/it]\n"
     ]
    },
    {
     "name": "stdout",
     "output_type": "stream",
     "text": [
      "epoch 22/200; train_loss=1.064917635063395; test_loss=0.8659640110812141; lr=0.0001; metric=0.3801533877849579\n"
     ]
    },
    {
     "name": "stderr",
     "output_type": "stream",
     "text": [
      "100%|██████████| 307/307 [01:44<00:00,  2.94it/s]\n",
      "100%|██████████| 103/103 [04:32<00:00,  2.65s/it]\n"
     ]
    },
    {
     "name": "stdout",
     "output_type": "stream",
     "text": [
      "epoch 23/200; train_loss=1.0521245965740191; test_loss=0.8516526499998223; lr=0.0001; metric=0.3997350037097931\n"
     ]
    },
    {
     "name": "stderr",
     "output_type": "stream",
     "text": [
      "100%|██████████| 307/307 [01:45<00:00,  2.92it/s]\n",
      "100%|██████████| 103/103 [04:32<00:00,  2.65s/it]\n"
     ]
    },
    {
     "name": "stdout",
     "output_type": "stream",
     "text": [
      "epoch 24/200; train_loss=1.0408189908301015; test_loss=0.8254740267123991; lr=0.0001; metric=0.42980727553367615\n"
     ]
    },
    {
     "name": "stderr",
     "output_type": "stream",
     "text": [
      "100%|██████████| 307/307 [01:45<00:00,  2.92it/s]\n",
      "100%|██████████| 103/103 [04:33<00:00,  2.65s/it]\n"
     ]
    },
    {
     "name": "stdout",
     "output_type": "stream",
     "text": [
      "epoch 25/200; train_loss=1.0293666460226725; test_loss=0.8004501641375347; lr=0.0001; metric=0.438807874917984\n"
     ]
    },
    {
     "name": "stderr",
     "output_type": "stream",
     "text": [
      "100%|██████████| 307/307 [01:45<00:00,  2.90it/s]\n",
      "100%|██████████| 103/103 [04:33<00:00,  2.65s/it]\n"
     ]
    },
    {
     "name": "stdout",
     "output_type": "stream",
     "text": [
      "epoch 26/200; train_loss=1.019768498231223; test_loss=0.7868520524895307; lr=0.0001; metric=0.44983699917793274\n"
     ]
    },
    {
     "name": "stderr",
     "output_type": "stream",
     "text": [
      "100%|██████████| 307/307 [01:45<00:00,  2.90it/s]\n",
      "100%|██████████| 103/103 [04:32<00:00,  2.65s/it]\n"
     ]
    },
    {
     "name": "stdout",
     "output_type": "stream",
     "text": [
      "epoch 27/200; train_loss=1.012440258012144; test_loss=0.7811500557418009; lr=0.0001; metric=0.450695276260376\n"
     ]
    },
    {
     "name": "stderr",
     "output_type": "stream",
     "text": [
      "100%|██████████| 307/307 [01:45<00:00,  2.92it/s]\n",
      "100%|██████████| 103/103 [04:32<00:00,  2.65s/it]\n"
     ]
    },
    {
     "name": "stdout",
     "output_type": "stream",
     "text": [
      "epoch 28/200; train_loss=1.0059127980412412; test_loss=0.7580418679320696; lr=0.0001; metric=0.4688049256801605\n"
     ]
    },
    {
     "name": "stderr",
     "output_type": "stream",
     "text": [
      "100%|██████████| 307/307 [01:44<00:00,  2.93it/s]\n",
      "100%|██████████| 103/103 [04:32<00:00,  2.65s/it]\n"
     ]
    },
    {
     "name": "stdout",
     "output_type": "stream",
     "text": [
      "epoch 29/200; train_loss=0.9978652526578996; test_loss=0.7470025009321934; lr=0.0001; metric=0.47300779819488525\n"
     ]
    },
    {
     "name": "stderr",
     "output_type": "stream",
     "text": [
      "100%|██████████| 307/307 [01:45<00:00,  2.91it/s]\n",
      "100%|██████████| 103/103 [04:32<00:00,  2.65s/it]\n"
     ]
    },
    {
     "name": "stdout",
     "output_type": "stream",
     "text": [
      "epoch 30/200; train_loss=0.9902924186631988; test_loss=0.7286336919636403; lr=0.0001; metric=0.4808633327484131\n"
     ]
    },
    {
     "name": "stderr",
     "output_type": "stream",
     "text": [
      "100%|██████████| 307/307 [01:44<00:00,  2.93it/s]\n",
      "100%|██████████| 103/103 [04:32<00:00,  2.65s/it]\n"
     ]
    },
    {
     "name": "stdout",
     "output_type": "stream",
     "text": [
      "epoch 31/200; train_loss=0.9879630112880993; test_loss=0.7280552578203886; lr=0.0001; metric=0.48398545384407043\n"
     ]
    },
    {
     "name": "stderr",
     "output_type": "stream",
     "text": [
      "100%|██████████| 307/307 [01:44<00:00,  2.93it/s]\n",
      "100%|██████████| 103/103 [04:33<00:00,  2.65s/it]\n"
     ]
    },
    {
     "name": "stdout",
     "output_type": "stream",
     "text": [
      "epoch 32/200; train_loss=0.9810526662230104; test_loss=0.7157681271867845; lr=0.0001; metric=0.4889635145664215\n"
     ]
    },
    {
     "name": "stderr",
     "output_type": "stream",
     "text": [
      "100%|██████████| 307/307 [01:45<00:00,  2.92it/s]\n",
      "100%|██████████| 103/103 [04:33<00:00,  2.65s/it]\n"
     ]
    },
    {
     "name": "stdout",
     "output_type": "stream",
     "text": [
      "epoch 33/200; train_loss=0.9768785603271634; test_loss=0.7122733448315592; lr=0.0001; metric=0.4784996509552002\n"
     ]
    },
    {
     "name": "stderr",
     "output_type": "stream",
     "text": [
      "100%|██████████| 307/307 [01:44<00:00,  2.93it/s]\n",
      "100%|██████████| 103/103 [04:32<00:00,  2.65s/it]\n"
     ]
    },
    {
     "name": "stdout",
     "output_type": "stream",
     "text": [
      "epoch 34/200; train_loss=0.9751383590387599; test_loss=0.7010696223638591; lr=0.0001; metric=0.5021825432777405\n"
     ]
    },
    {
     "name": "stderr",
     "output_type": "stream",
     "text": [
      "100%|██████████| 307/307 [01:44<00:00,  2.93it/s]\n",
      "100%|██████████| 103/103 [04:33<00:00,  2.66s/it]\n"
     ]
    },
    {
     "name": "stdout",
     "output_type": "stream",
     "text": [
      "epoch 35/200; train_loss=0.9713335351757584; test_loss=0.6935392213099211; lr=0.0001; metric=0.5115465521812439\n"
     ]
    },
    {
     "name": "stderr",
     "output_type": "stream",
     "text": [
      "100%|██████████| 307/307 [01:44<00:00,  2.93it/s]\n",
      "100%|██████████| 103/103 [04:33<00:00,  2.65s/it]\n"
     ]
    },
    {
     "name": "stdout",
     "output_type": "stream",
     "text": [
      "epoch 36/200; train_loss=0.9695183539623546; test_loss=0.6889623449844064; lr=0.0001; metric=0.5314882397651672\n"
     ]
    },
    {
     "name": "stderr",
     "output_type": "stream",
     "text": [
      "100%|██████████| 307/307 [01:44<00:00,  2.93it/s]\n",
      "100%|██████████| 103/103 [04:33<00:00,  2.65s/it]\n"
     ]
    },
    {
     "name": "stdout",
     "output_type": "stream",
     "text": [
      "epoch 37/200; train_loss=0.9633735171746741; test_loss=0.6826851969783746; lr=0.0001; metric=0.5492783188819885\n"
     ]
    },
    {
     "name": "stderr",
     "output_type": "stream",
     "text": [
      "100%|██████████| 307/307 [01:45<00:00,  2.92it/s]\n",
      "100%|██████████| 103/103 [04:32<00:00,  2.65s/it]\n"
     ]
    },
    {
     "name": "stdout",
     "output_type": "stream",
     "text": [
      "epoch 38/200; train_loss=0.9608175599225569; test_loss=0.6628944891170391; lr=0.0001; metric=0.5693674683570862\n"
     ]
    },
    {
     "name": "stderr",
     "output_type": "stream",
     "text": [
      "100%|██████████| 307/307 [01:44<00:00,  2.93it/s]\n",
      "100%|██████████| 103/103 [04:32<00:00,  2.65s/it]\n"
     ]
    },
    {
     "name": "stdout",
     "output_type": "stream",
     "text": [
      "epoch 39/200; train_loss=0.9573670897499358; test_loss=0.6601829233678799; lr=0.0001; metric=0.5823289155960083\n"
     ]
    },
    {
     "name": "stderr",
     "output_type": "stream",
     "text": [
      "100%|██████████| 307/307 [01:44<00:00,  2.94it/s]\n",
      "100%|██████████| 103/103 [04:32<00:00,  2.65s/it]\n"
     ]
    },
    {
     "name": "stdout",
     "output_type": "stream",
     "text": [
      "epoch 40/200; train_loss=0.9553141590050067; test_loss=0.6713107396098017; lr=0.0001; metric=0.5738322734832764\n"
     ]
    },
    {
     "name": "stderr",
     "output_type": "stream",
     "text": [
      "100%|██████████| 307/307 [01:44<00:00,  2.94it/s]\n",
      "100%|██████████| 103/103 [04:32<00:00,  2.65s/it]\n"
     ]
    },
    {
     "name": "stdout",
     "output_type": "stream",
     "text": [
      "epoch 41/200; train_loss=0.9517070231686198; test_loss=0.6431613246214043; lr=0.0001; metric=0.6111608147621155\n"
     ]
    },
    {
     "name": "stderr",
     "output_type": "stream",
     "text": [
      "100%|██████████| 307/307 [01:44<00:00,  2.94it/s]\n",
      "100%|██████████| 103/103 [04:32<00:00,  2.65s/it]\n"
     ]
    },
    {
     "name": "stdout",
     "output_type": "stream",
     "text": [
      "epoch 42/200; train_loss=0.947620206236451; test_loss=0.6495780366138347; lr=0.0001; metric=0.6044411063194275\n"
     ]
    },
    {
     "name": "stderr",
     "output_type": "stream",
     "text": [
      "100%|██████████| 307/307 [01:44<00:00,  2.93it/s]\n",
      "100%|██████████| 103/103 [04:32<00:00,  2.65s/it]\n"
     ]
    },
    {
     "name": "stdout",
     "output_type": "stream",
     "text": [
      "epoch 43/200; train_loss=0.9458198465819467; test_loss=0.634609854915767; lr=0.0001; metric=0.6239306330680847\n"
     ]
    },
    {
     "name": "stderr",
     "output_type": "stream",
     "text": [
      "100%|██████████| 307/307 [01:45<00:00,  2.92it/s]\n",
      "100%|██████████| 103/103 [04:32<00:00,  2.65s/it]\n"
     ]
    },
    {
     "name": "stdout",
     "output_type": "stream",
     "text": [
      "epoch 44/200; train_loss=0.9431941150065742; test_loss=0.6169438159581527; lr=0.0001; metric=0.6290949583053589\n"
     ]
    },
    {
     "name": "stderr",
     "output_type": "stream",
     "text": [
      "100%|██████████| 307/307 [01:44<00:00,  2.92it/s]\n",
      "100%|██████████| 103/103 [04:32<00:00,  2.65s/it]\n"
     ]
    },
    {
     "name": "stdout",
     "output_type": "stream",
     "text": [
      "epoch 45/200; train_loss=0.9400843717764565; test_loss=0.6312485701829484; lr=0.0001; metric=0.6487303376197815\n"
     ]
    },
    {
     "name": "stderr",
     "output_type": "stream",
     "text": [
      "100%|██████████| 307/307 [01:42<00:00,  2.99it/s]\n",
      "100%|██████████| 103/103 [04:32<00:00,  2.65s/it]\n"
     ]
    },
    {
     "name": "stdout",
     "output_type": "stream",
     "text": [
      "epoch 46/200; train_loss=0.9379157635598695; test_loss=0.617876099151315; lr=0.0001; metric=0.6576828956604004\n"
     ]
    },
    {
     "name": "stderr",
     "output_type": "stream",
     "text": [
      "100%|██████████| 307/307 [01:42<00:00,  3.00it/s]\n",
      "100%|██████████| 103/103 [04:33<00:00,  2.65s/it]\n"
     ]
    },
    {
     "name": "stdout",
     "output_type": "stream",
     "text": [
      "epoch 47/200; train_loss=0.9337608090052776; test_loss=0.5993923272901368; lr=0.0001; metric=0.6625241041183472\n"
     ]
    },
    {
     "name": "stderr",
     "output_type": "stream",
     "text": [
      "100%|██████████| 307/307 [01:42<00:00,  3.00it/s]\n",
      "100%|██████████| 103/103 [04:33<00:00,  2.65s/it]\n"
     ]
    },
    {
     "name": "stdout",
     "output_type": "stream",
     "text": [
      "epoch 48/200; train_loss=0.9299461439688742; test_loss=0.5988086768724386; lr=0.0001; metric=0.6841437220573425\n"
     ]
    },
    {
     "name": "stderr",
     "output_type": "stream",
     "text": [
      "100%|██████████| 307/307 [01:42<00:00,  2.99it/s]\n",
      "100%|██████████| 103/103 [04:32<00:00,  2.65s/it]\n"
     ]
    },
    {
     "name": "stdout",
     "output_type": "stream",
     "text": [
      "epoch 49/200; train_loss=0.9263132313563691; test_loss=0.5803973917822236; lr=0.0001; metric=0.6960524916648865\n"
     ]
    },
    {
     "name": "stderr",
     "output_type": "stream",
     "text": [
      "100%|██████████| 307/307 [01:42<00:00,  3.00it/s]\n",
      "100%|██████████| 103/103 [04:32<00:00,  2.65s/it]\n"
     ]
    },
    {
     "name": "stdout",
     "output_type": "stream",
     "text": [
      "epoch 50/200; train_loss=0.9253068719702358; test_loss=0.5777269231462941; lr=0.0001; metric=0.6890178322792053\n"
     ]
    },
    {
     "name": "stderr",
     "output_type": "stream",
     "text": [
      "100%|██████████| 307/307 [01:43<00:00,  2.98it/s]\n",
      "100%|██████████| 103/103 [04:33<00:00,  2.65s/it]\n"
     ]
    },
    {
     "name": "stdout",
     "output_type": "stream",
     "text": [
      "epoch 51/200; train_loss=0.9221877246027272; test_loss=0.5559650098235862; lr=0.0001; metric=0.7132377028465271\n"
     ]
    },
    {
     "name": "stderr",
     "output_type": "stream",
     "text": [
      "100%|██████████| 307/307 [01:42<00:00,  2.98it/s]\n",
      "100%|██████████| 103/103 [04:33<00:00,  2.65s/it]\n"
     ]
    },
    {
     "name": "stdout",
     "output_type": "stream",
     "text": [
      "epoch 52/200; train_loss=0.9196322137059141; test_loss=0.5526775330015756; lr=0.0001; metric=0.7235587239265442\n"
     ]
    },
    {
     "name": "stderr",
     "output_type": "stream",
     "text": [
      "100%|██████████| 307/307 [01:42<00:00,  2.99it/s]\n",
      "100%|██████████| 103/103 [04:33<00:00,  2.65s/it]\n"
     ]
    },
    {
     "name": "stdout",
     "output_type": "stream",
     "text": [
      "epoch 53/200; train_loss=0.9184969572368584; test_loss=0.5675062676077908; lr=0.0001; metric=0.7093840837478638\n"
     ]
    },
    {
     "name": "stderr",
     "output_type": "stream",
     "text": [
      "100%|██████████| 307/307 [01:42<00:00,  2.99it/s]\n",
      "100%|██████████| 103/103 [04:33<00:00,  2.66s/it]\n"
     ]
    },
    {
     "name": "stdout",
     "output_type": "stream",
     "text": [
      "epoch 54/200; train_loss=0.9183292817991797; test_loss=0.5471655978161154; lr=0.0001; metric=0.7283914685249329\n"
     ]
    },
    {
     "name": "stderr",
     "output_type": "stream",
     "text": [
      "100%|██████████| 307/307 [01:43<00:00,  2.98it/s]\n",
      "100%|██████████| 103/103 [04:33<00:00,  2.65s/it]\n"
     ]
    },
    {
     "name": "stdout",
     "output_type": "stream",
     "text": [
      "epoch 55/200; train_loss=0.9143931015306653; test_loss=0.5314922057887883; lr=0.0001; metric=0.7362030744552612\n"
     ]
    },
    {
     "name": "stderr",
     "output_type": "stream",
     "text": [
      "100%|██████████| 307/307 [01:42<00:00,  3.00it/s]\n",
      "100%|██████████| 103/103 [04:33<00:00,  2.65s/it]\n"
     ]
    },
    {
     "name": "stdout",
     "output_type": "stream",
     "text": [
      "epoch 56/200; train_loss=0.9126727848953844; test_loss=0.5245658882613321; lr=0.0001; metric=0.7467818260192871\n"
     ]
    },
    {
     "name": "stderr",
     "output_type": "stream",
     "text": [
      "100%|██████████| 307/307 [01:42<00:00,  3.00it/s]\n",
      "100%|██████████| 103/103 [04:33<00:00,  2.65s/it]\n"
     ]
    },
    {
     "name": "stdout",
     "output_type": "stream",
     "text": [
      "epoch 57/200; train_loss=0.9121958153255599; test_loss=0.5016423709762906; lr=0.0001; metric=0.7713979482650757\n"
     ]
    },
    {
     "name": "stderr",
     "output_type": "stream",
     "text": [
      "100%|██████████| 307/307 [01:42<00:00,  3.00it/s]\n",
      "100%|██████████| 103/103 [04:33<00:00,  2.65s/it]\n"
     ]
    },
    {
     "name": "stdout",
     "output_type": "stream",
     "text": [
      "epoch 58/200; train_loss=0.9100332456225293; test_loss=0.522893912005193; lr=0.0001; metric=0.7527729272842407\n"
     ]
    },
    {
     "name": "stderr",
     "output_type": "stream",
     "text": [
      "100%|██████████| 307/307 [01:42<00:00,  3.00it/s]\n",
      "100%|██████████| 103/103 [04:31<00:00,  2.63s/it]\n"
     ]
    },
    {
     "name": "stdout",
     "output_type": "stream",
     "text": [
      "epoch 59/200; train_loss=0.908596836782822; test_loss=0.5357760219898039; lr=0.0001; metric=0.741491973400116\n"
     ]
    },
    {
     "name": "stderr",
     "output_type": "stream",
     "text": [
      "100%|██████████| 307/307 [01:42<00:00,  3.00it/s]\n",
      "100%|██████████| 103/103 [04:31<00:00,  2.64s/it]\n"
     ]
    },
    {
     "name": "stdout",
     "output_type": "stream",
     "text": [
      "epoch 60/200; train_loss=0.9083310620015917; test_loss=0.520944793826168; lr=0.0001; metric=0.7630323171615601\n"
     ]
    },
    {
     "name": "stderr",
     "output_type": "stream",
     "text": [
      "100%|██████████| 307/307 [01:42<00:00,  2.99it/s]\n",
      "100%|██████████| 103/103 [04:31<00:00,  2.64s/it]\n"
     ]
    },
    {
     "name": "stdout",
     "output_type": "stream",
     "text": [
      "epoch 61/200; train_loss=0.90547428981489; test_loss=0.5242819103222449; lr=0.0001; metric=0.7590069770812988\n"
     ]
    },
    {
     "name": "stderr",
     "output_type": "stream",
     "text": [
      "100%|██████████| 307/307 [01:42<00:00,  2.99it/s]\n",
      "100%|██████████| 103/103 [04:31<00:00,  2.64s/it]\n"
     ]
    },
    {
     "name": "stdout",
     "output_type": "stream",
     "text": [
      "epoch 62/200; train_loss=0.9032176059309746; test_loss=0.5209532845946192; lr=0.0001; metric=0.7546409964561462\n"
     ]
    },
    {
     "name": "stderr",
     "output_type": "stream",
     "text": [
      "100%|██████████| 307/307 [01:42<00:00,  3.00it/s]\n",
      "100%|██████████| 103/103 [04:31<00:00,  2.64s/it]\n"
     ]
    },
    {
     "name": "stdout",
     "output_type": "stream",
     "text": [
      "epoch 63/200; train_loss=0.9025260580867431; test_loss=0.5154201961258082; lr=0.0001; metric=0.7738353610038757\n"
     ]
    },
    {
     "name": "stderr",
     "output_type": "stream",
     "text": [
      "100%|██████████| 307/307 [01:42<00:00,  2.99it/s]\n",
      "100%|██████████| 103/103 [04:33<00:00,  2.65s/it]\n"
     ]
    },
    {
     "name": "stdout",
     "output_type": "stream",
     "text": [
      "epoch 64/200; train_loss=0.90124981119889; test_loss=0.5012850159580268; lr=0.0001; metric=0.7767167091369629\n"
     ]
    },
    {
     "name": "stderr",
     "output_type": "stream",
     "text": [
      "100%|██████████| 307/307 [01:42<00:00,  3.01it/s]\n",
      "100%|██████████| 103/103 [04:31<00:00,  2.64s/it]\n"
     ]
    },
    {
     "name": "stdout",
     "output_type": "stream",
     "text": [
      "epoch 65/200; train_loss=0.9012436888116967; test_loss=0.50468222406304; lr=0.0001; metric=0.7791897654533386\n"
     ]
    },
    {
     "name": "stderr",
     "output_type": "stream",
     "text": [
      "100%|██████████| 307/307 [01:42<00:00,  2.99it/s]\n",
      "100%|██████████| 103/103 [04:31<00:00,  2.64s/it]\n"
     ]
    },
    {
     "name": "stdout",
     "output_type": "stream",
     "text": [
      "epoch 66/200; train_loss=0.8985485850017312; test_loss=0.4937487030492246; lr=0.0001; metric=0.7817690968513489\n"
     ]
    },
    {
     "name": "stderr",
     "output_type": "stream",
     "text": [
      "100%|██████████| 307/307 [01:42<00:00,  3.00it/s]\n",
      "100%|██████████| 103/103 [04:31<00:00,  2.64s/it]\n"
     ]
    },
    {
     "name": "stdout",
     "output_type": "stream",
     "text": [
      "epoch 67/200; train_loss=0.8996894153787569; test_loss=0.4968124694615892; lr=0.0001; metric=0.7835103273391724\n"
     ]
    },
    {
     "name": "stderr",
     "output_type": "stream",
     "text": [
      "100%|██████████| 307/307 [01:42<00:00,  2.99it/s]\n",
      "100%|██████████| 103/103 [04:31<00:00,  2.63s/it]\n"
     ]
    },
    {
     "name": "stdout",
     "output_type": "stream",
     "text": [
      "epoch 68/200; train_loss=0.898870971575622; test_loss=0.5090470481844782; lr=0.0001; metric=0.7814105749130249\n"
     ]
    },
    {
     "name": "stderr",
     "output_type": "stream",
     "text": [
      "100%|██████████| 307/307 [01:43<00:00,  2.98it/s]\n",
      "100%|██████████| 103/103 [04:31<00:00,  2.64s/it]\n"
     ]
    },
    {
     "name": "stdout",
     "output_type": "stream",
     "text": [
      "epoch 69/200; train_loss=0.8961203806951691; test_loss=0.49404198857187065; lr=0.0001; metric=0.7889280915260315\n"
     ]
    },
    {
     "name": "stderr",
     "output_type": "stream",
     "text": [
      "100%|██████████| 307/307 [01:42<00:00,  2.99it/s]\n",
      "100%|██████████| 103/103 [04:31<00:00,  2.64s/it]\n"
     ]
    },
    {
     "name": "stdout",
     "output_type": "stream",
     "text": [
      "epoch 70/200; train_loss=0.8971818438958655; test_loss=0.500785610050831; lr=0.0001; metric=0.7786970734596252\n"
     ]
    },
    {
     "name": "stderr",
     "output_type": "stream",
     "text": [
      "100%|██████████| 307/307 [01:42<00:00,  2.98it/s]\n",
      "100%|██████████| 103/103 [04:31<00:00,  2.63s/it]\n"
     ]
    },
    {
     "name": "stdout",
     "output_type": "stream",
     "text": [
      "epoch 71/200; train_loss=0.8949234689485754; test_loss=0.4855030213744895; lr=0.0001; metric=0.8056015372276306\n"
     ]
    },
    {
     "name": "stderr",
     "output_type": "stream",
     "text": [
      "100%|██████████| 307/307 [01:42<00:00,  2.98it/s]\n",
      "100%|██████████| 103/103 [04:31<00:00,  2.64s/it]\n"
     ]
    },
    {
     "name": "stdout",
     "output_type": "stream",
     "text": [
      "epoch 72/200; train_loss=0.8950743855793235; test_loss=0.4910789438821737; lr=0.0001; metric=0.7970739603042603\n"
     ]
    },
    {
     "name": "stderr",
     "output_type": "stream",
     "text": [
      "100%|██████████| 307/307 [01:42<00:00,  3.01it/s]\n",
      "100%|██████████| 103/103 [04:34<00:00,  2.66s/it]\n"
     ]
    },
    {
     "name": "stdout",
     "output_type": "stream",
     "text": [
      "epoch 73/200; train_loss=0.8925482597723846; test_loss=0.491733873932107; lr=0.0001; metric=0.7958869934082031\n"
     ]
    },
    {
     "name": "stderr",
     "output_type": "stream",
     "text": [
      "100%|██████████| 307/307 [01:42<00:00,  2.99it/s]\n",
      "100%|██████████| 103/103 [04:33<00:00,  2.66s/it]\n"
     ]
    },
    {
     "name": "stdout",
     "output_type": "stream",
     "text": [
      "epoch 74/200; train_loss=0.8923135112473554; test_loss=0.48555337167480617; lr=0.0001; metric=0.804767906665802\n"
     ]
    },
    {
     "name": "stderr",
     "output_type": "stream",
     "text": [
      "100%|██████████| 307/307 [01:41<00:00,  3.02it/s]\n",
      "100%|██████████| 103/103 [04:33<00:00,  2.65s/it]\n"
     ]
    },
    {
     "name": "stdout",
     "output_type": "stream",
     "text": [
      "epoch 75/200; train_loss=0.89076616903858; test_loss=0.47160916421019916; lr=0.0001; metric=0.8024019598960876\n"
     ]
    },
    {
     "name": "stderr",
     "output_type": "stream",
     "text": [
      "100%|██████████| 307/307 [01:42<00:00,  3.01it/s]\n",
      "100%|██████████| 103/103 [04:33<00:00,  2.65s/it]\n"
     ]
    },
    {
     "name": "stdout",
     "output_type": "stream",
     "text": [
      "epoch 76/200; train_loss=0.8895633049818903; test_loss=0.4799868267716713; lr=0.0001; metric=0.8043856024742126\n"
     ]
    },
    {
     "name": "stderr",
     "output_type": "stream",
     "text": [
      "100%|██████████| 307/307 [01:42<00:00,  3.00it/s]\n",
      "100%|██████████| 103/103 [04:33<00:00,  2.66s/it]\n"
     ]
    },
    {
     "name": "stdout",
     "output_type": "stream",
     "text": [
      "epoch 77/200; train_loss=0.8886070055371387; test_loss=0.48658228904298206; lr=0.0001; metric=0.7995491027832031\n"
     ]
    },
    {
     "name": "stderr",
     "output_type": "stream",
     "text": [
      "100%|██████████| 307/307 [01:42<00:00,  2.99it/s]\n",
      "100%|██████████| 103/103 [04:31<00:00,  2.63s/it]\n"
     ]
    },
    {
     "name": "stdout",
     "output_type": "stream",
     "text": [
      "epoch 78/200; train_loss=0.8898428105764358; test_loss=0.4637790038747695; lr=0.0001; metric=0.8146412968635559\n"
     ]
    },
    {
     "name": "stderr",
     "output_type": "stream",
     "text": [
      "100%|██████████| 307/307 [01:42<00:00,  2.98it/s]\n",
      "100%|██████████| 103/103 [04:31<00:00,  2.64s/it]\n"
     ]
    },
    {
     "name": "stdout",
     "output_type": "stream",
     "text": [
      "epoch 79/200; train_loss=0.889429035132405; test_loss=0.45097324367865776; lr=0.0001; metric=0.8287439942359924\n"
     ]
    },
    {
     "name": "stderr",
     "output_type": "stream",
     "text": [
      "100%|██████████| 307/307 [01:42<00:00,  3.00it/s]\n",
      "100%|██████████| 103/103 [04:31<00:00,  2.64s/it]\n"
     ]
    },
    {
     "name": "stdout",
     "output_type": "stream",
     "text": [
      "epoch 80/200; train_loss=0.8869322969393155; test_loss=0.4385717302850149; lr=0.0001; metric=0.8389749526977539\n"
     ]
    },
    {
     "name": "stderr",
     "output_type": "stream",
     "text": [
      "100%|██████████| 307/307 [01:42<00:00,  2.99it/s]\n",
      "100%|██████████| 103/103 [04:31<00:00,  2.64s/it]\n"
     ]
    },
    {
     "name": "stdout",
     "output_type": "stream",
     "text": [
      "epoch 81/200; train_loss=0.8865118690733024; test_loss=0.45193394526694586; lr=0.0001; metric=0.8179894685745239\n"
     ]
    },
    {
     "name": "stderr",
     "output_type": "stream",
     "text": [
      "100%|██████████| 307/307 [01:42<00:00,  2.99it/s]\n",
      "100%|██████████| 103/103 [04:33<00:00,  2.65s/it]\n"
     ]
    },
    {
     "name": "stdout",
     "output_type": "stream",
     "text": [
      "epoch 82/200; train_loss=0.88510040390375; test_loss=0.4526237541610755; lr=0.0001; metric=0.8189868330955505\n"
     ]
    },
    {
     "name": "stderr",
     "output_type": "stream",
     "text": [
      "100%|██████████| 307/307 [01:41<00:00,  3.01it/s]\n",
      "100%|██████████| 103/103 [04:32<00:00,  2.64s/it]\n"
     ]
    },
    {
     "name": "stdout",
     "output_type": "stream",
     "text": [
      "epoch 83/200; train_loss=0.8851075620915292; test_loss=0.4543296460387776; lr=0.0001; metric=0.8164005875587463\n"
     ]
    },
    {
     "name": "stderr",
     "output_type": "stream",
     "text": [
      "100%|██████████| 307/307 [01:50<00:00,  2.77it/s]\n",
      "100%|██████████| 103/103 [04:27<00:00,  2.60s/it]\n"
     ]
    },
    {
     "name": "stdout",
     "output_type": "stream",
     "text": [
      "epoch 84/200; train_loss=0.885556511653751; test_loss=0.4639888093309495; lr=0.0001; metric=0.8157549500465393\n"
     ]
    },
    {
     "name": "stderr",
     "output_type": "stream",
     "text": [
      "100%|██████████| 307/307 [01:51<00:00,  2.76it/s]\n",
      "100%|██████████| 103/103 [04:27<00:00,  2.60s/it]\n"
     ]
    },
    {
     "name": "stdout",
     "output_type": "stream",
     "text": [
      "epoch 85/200; train_loss=0.8832343385739901; test_loss=0.450860159489715; lr=0.0001; metric=0.8271832466125488\n"
     ]
    },
    {
     "name": "stderr",
     "output_type": "stream",
     "text": [
      "100%|██████████| 307/307 [01:51<00:00,  2.76it/s]\n",
      "100%|██████████| 103/103 [04:27<00:00,  2.60s/it]\n"
     ]
    },
    {
     "name": "stdout",
     "output_type": "stream",
     "text": [
      "epoch 86/200; train_loss=0.8846836992894399; test_loss=0.4653541277913214; lr=0.0001; metric=0.8142086863517761\n"
     ]
    },
    {
     "name": "stderr",
     "output_type": "stream",
     "text": [
      "100%|██████████| 307/307 [01:50<00:00,  2.78it/s]\n",
      "100%|██████████| 103/103 [04:27<00:00,  2.60s/it]\n"
     ]
    },
    {
     "name": "stdout",
     "output_type": "stream",
     "text": [
      "epoch 87/200; train_loss=0.8825490952314694; test_loss=0.46395337263357295; lr=0.0001; metric=0.8152185678482056\n"
     ]
    },
    {
     "name": "stderr",
     "output_type": "stream",
     "text": [
      "100%|██████████| 307/307 [01:51<00:00,  2.76it/s]\n",
      "100%|██████████| 103/103 [04:27<00:00,  2.60s/it]\n"
     ]
    },
    {
     "name": "stdout",
     "output_type": "stream",
     "text": [
      "epoch 88/200; train_loss=0.8805950184986724; test_loss=0.4395709659868074; lr=0.0001; metric=0.8310237526893616\n"
     ]
    },
    {
     "name": "stderr",
     "output_type": "stream",
     "text": [
      "100%|██████████| 307/307 [01:50<00:00,  2.78it/s]\n",
      "100%|██████████| 103/103 [04:27<00:00,  2.60s/it]\n"
     ]
    },
    {
     "name": "stdout",
     "output_type": "stream",
     "text": [
      "epoch 89/200; train_loss=0.8808112321148478; test_loss=0.4504032395418408; lr=0.0001; metric=0.8253660798072815\n"
     ]
    },
    {
     "name": "stderr",
     "output_type": "stream",
     "text": [
      "100%|██████████| 307/307 [01:50<00:00,  2.77it/s]\n",
      "100%|██████████| 103/103 [04:27<00:00,  2.60s/it]\n"
     ]
    },
    {
     "name": "stdout",
     "output_type": "stream",
     "text": [
      "epoch 90/200; train_loss=0.8827027657132972; test_loss=0.4681646149714016; lr=0.0001; metric=0.8109979629516602\n"
     ]
    },
    {
     "name": "stderr",
     "output_type": "stream",
     "text": [
      "100%|██████████| 307/307 [01:51<00:00,  2.76it/s]\n",
      "100%|██████████| 103/103 [04:27<00:00,  2.60s/it]\n"
     ]
    },
    {
     "name": "stdout",
     "output_type": "stream",
     "text": [
      "epoch 91/200; train_loss=0.8818417583692346; test_loss=0.4605062331968141; lr=0.0001; metric=0.81715327501297\n"
     ]
    },
    {
     "name": "stderr",
     "output_type": "stream",
     "text": [
      "100%|██████████| 307/307 [01:50<00:00,  2.77it/s]\n",
      "100%|██████████| 103/103 [04:27<00:00,  2.60s/it]\n"
     ]
    },
    {
     "name": "stdout",
     "output_type": "stream",
     "text": [
      "epoch 92/200; train_loss=0.8800978973168115; test_loss=0.43227945890241454; lr=0.0001; metric=0.8329249024391174\n"
     ]
    },
    {
     "name": "stderr",
     "output_type": "stream",
     "text": [
      "100%|██████████| 307/307 [01:50<00:00,  2.78it/s]\n",
      "100%|██████████| 103/103 [04:27<00:00,  2.60s/it]\n"
     ]
    },
    {
     "name": "stdout",
     "output_type": "stream",
     "text": [
      "epoch 93/200; train_loss=0.8785214309583658; test_loss=0.4536244359988611; lr=0.0001; metric=0.824881374835968\n"
     ]
    },
    {
     "name": "stderr",
     "output_type": "stream",
     "text": [
      "100%|██████████| 307/307 [01:50<00:00,  2.77it/s]\n",
      "100%|██████████| 103/103 [04:27<00:00,  2.60s/it]\n"
     ]
    },
    {
     "name": "stdout",
     "output_type": "stream",
     "text": [
      "epoch 94/200; train_loss=0.8801634047629391; test_loss=0.41638848764225117; lr=0.0001; metric=0.8520061373710632\n"
     ]
    },
    {
     "name": "stderr",
     "output_type": "stream",
     "text": [
      "100%|██████████| 307/307 [01:50<00:00,  2.79it/s]\n",
      "100%|██████████| 103/103 [04:27<00:00,  2.60s/it]\n"
     ]
    },
    {
     "name": "stdout",
     "output_type": "stream",
     "text": [
      "epoch 95/200; train_loss=0.8771448609106703; test_loss=0.43116104139865025; lr=0.0001; metric=0.842779815196991\n"
     ]
    },
    {
     "name": "stderr",
     "output_type": "stream",
     "text": [
      "100%|██████████| 307/307 [01:50<00:00,  2.78it/s]\n",
      "100%|██████████| 103/103 [04:27<00:00,  2.60s/it]\n"
     ]
    },
    {
     "name": "stdout",
     "output_type": "stream",
     "text": [
      "epoch 96/200; train_loss=0.8778105884887496; test_loss=0.45279112053148957; lr=0.0001; metric=0.8228207230567932\n"
     ]
    },
    {
     "name": "stderr",
     "output_type": "stream",
     "text": [
      "100%|██████████| 307/307 [01:51<00:00,  2.76it/s]\n",
      "100%|██████████| 103/103 [04:27<00:00,  2.60s/it]\n"
     ]
    },
    {
     "name": "stdout",
     "output_type": "stream",
     "text": [
      "epoch 97/200; train_loss=0.8783422850242267; test_loss=0.4578826612639196; lr=0.0001; metric=0.8246666193008423\n"
     ]
    },
    {
     "name": "stderr",
     "output_type": "stream",
     "text": [
      "100%|██████████| 307/307 [01:50<00:00,  2.77it/s]\n",
      "100%|██████████| 103/103 [04:27<00:00,  2.60s/it]\n"
     ]
    },
    {
     "name": "stdout",
     "output_type": "stream",
     "text": [
      "epoch 98/200; train_loss=0.8775370260791592; test_loss=0.4468536246748804; lr=0.0001; metric=0.8288463950157166\n"
     ]
    },
    {
     "name": "stderr",
     "output_type": "stream",
     "text": [
      "100%|██████████| 307/307 [01:50<00:00,  2.78it/s]\n",
      "100%|██████████| 103/103 [04:27<00:00,  2.60s/it]\n"
     ]
    },
    {
     "name": "stdout",
     "output_type": "stream",
     "text": [
      "epoch 99/200; train_loss=0.87691908841801; test_loss=0.4294385235865139; lr=0.0001; metric=0.8402138352394104\n"
     ]
    },
    {
     "name": "stderr",
     "output_type": "stream",
     "text": [
      "100%|██████████| 307/307 [01:50<00:00,  2.77it/s]\n",
      "100%|██████████| 103/103 [04:27<00:00,  2.60s/it]\n"
     ]
    },
    {
     "name": "stdout",
     "output_type": "stream",
     "text": [
      "epoch 100/200; train_loss=0.874755214790568; test_loss=0.48904322970260694; lr=0.0001; metric=0.8062393069267273\n"
     ]
    },
    {
     "name": "stderr",
     "output_type": "stream",
     "text": [
      "100%|██████████| 307/307 [01:50<00:00,  2.78it/s]\n",
      "100%|██████████| 103/103 [04:27<00:00,  2.60s/it]\n"
     ]
    },
    {
     "name": "stdout",
     "output_type": "stream",
     "text": [
      "epoch 101/200; train_loss=0.8763236708283813; test_loss=0.4284317672831341; lr=0.0001; metric=0.8436614871025085\n"
     ]
    },
    {
     "name": "stderr",
     "output_type": "stream",
     "text": [
      "100%|██████████| 307/307 [01:50<00:00,  2.78it/s]\n",
      "100%|██████████| 103/103 [04:28<00:00,  2.60s/it]\n"
     ]
    },
    {
     "name": "stdout",
     "output_type": "stream",
     "text": [
      "epoch 102/200; train_loss=0.8749087685870813; test_loss=0.4597120805851464; lr=0.0001; metric=0.8192294836044312\n"
     ]
    },
    {
     "name": "stderr",
     "output_type": "stream",
     "text": [
      "100%|██████████| 307/307 [01:51<00:00,  2.77it/s]\n",
      "100%|██████████| 103/103 [04:27<00:00,  2.60s/it]\n"
     ]
    },
    {
     "name": "stdout",
     "output_type": "stream",
     "text": [
      "epoch 103/200; train_loss=0.875892153197857; test_loss=0.43521327359005085; lr=0.0001; metric=0.8325029611587524\n"
     ]
    },
    {
     "name": "stderr",
     "output_type": "stream",
     "text": [
      "100%|██████████| 307/307 [01:50<00:00,  2.77it/s]\n",
      "100%|██████████| 103/103 [04:27<00:00,  2.60s/it]\n"
     ]
    },
    {
     "name": "stdout",
     "output_type": "stream",
     "text": [
      "epoch 104/200; train_loss=0.8752649038156392; test_loss=0.41836067108274666; lr=0.0001; metric=0.8394820094108582\n"
     ]
    },
    {
     "name": "stderr",
     "output_type": "stream",
     "text": [
      "100%|██████████| 307/307 [01:50<00:00,  2.78it/s]\n",
      "100%|██████████| 103/103 [04:27<00:00,  2.60s/it]\n"
     ]
    },
    {
     "name": "stdout",
     "output_type": "stream",
     "text": [
      "epoch 105/200; train_loss=0.8734217163794203; test_loss=0.4166181729835214; lr=0.0001; metric=0.8534207344055176\n"
     ]
    },
    {
     "name": "stderr",
     "output_type": "stream",
     "text": [
      "100%|██████████| 307/307 [01:50<00:00,  2.77it/s]\n",
      "100%|██████████| 103/103 [04:27<00:00,  2.60s/it]\n"
     ]
    },
    {
     "name": "stdout",
     "output_type": "stream",
     "text": [
      "epoch 106/200; train_loss=0.8750326656751601; test_loss=0.4558795163932356; lr=0.0001; metric=0.8187246322631836\n"
     ]
    },
    {
     "name": "stderr",
     "output_type": "stream",
     "text": [
      "100%|██████████| 307/307 [01:50<00:00,  2.79it/s]\n",
      "100%|██████████| 103/103 [04:33<00:00,  2.66s/it]\n"
     ]
    },
    {
     "name": "stdout",
     "output_type": "stream",
     "text": [
      "epoch 107/200; train_loss=0.8723024314311895; test_loss=0.4353192086937358; lr=0.0001; metric=0.8375400900840759\n"
     ]
    },
    {
     "name": "stderr",
     "output_type": "stream",
     "text": [
      "100%|██████████| 307/307 [01:47<00:00,  2.85it/s]\n",
      "100%|██████████| 103/103 [04:27<00:00,  2.60s/it]\n"
     ]
    },
    {
     "name": "stdout",
     "output_type": "stream",
     "text": [
      "epoch 108/200; train_loss=0.8723934463646978; test_loss=0.445654507979606; lr=0.0001; metric=0.829364538192749\n"
     ]
    },
    {
     "name": "stderr",
     "output_type": "stream",
     "text": [
      "100%|██████████| 307/307 [01:50<00:00,  2.77it/s]\n",
      "100%|██████████| 103/103 [04:26<00:00,  2.59s/it]\n"
     ]
    },
    {
     "name": "stdout",
     "output_type": "stream",
     "text": [
      "epoch 109/200; train_loss=0.8720195299251072; test_loss=0.430336635089615; lr=0.0001; metric=0.8400427103042603\n"
     ]
    },
    {
     "name": "stderr",
     "output_type": "stream",
     "text": [
      "100%|██████████| 307/307 [01:51<00:00,  2.76it/s]\n",
      "100%|██████████| 103/103 [04:27<00:00,  2.59s/it]\n"
     ]
    },
    {
     "name": "stdout",
     "output_type": "stream",
     "text": [
      "epoch 110/200; train_loss=0.8698255677953217; test_loss=0.4040686366627517; lr=0.0001; metric=0.8517202734947205\n"
     ]
    },
    {
     "name": "stderr",
     "output_type": "stream",
     "text": [
      "100%|██████████| 307/307 [01:50<00:00,  2.77it/s]\n",
      "100%|██████████| 103/103 [04:28<00:00,  2.60s/it]\n"
     ]
    },
    {
     "name": "stdout",
     "output_type": "stream",
     "text": [
      "epoch 111/200; train_loss=0.8714095952068167; test_loss=0.41658868430887613; lr=0.0001; metric=0.846201479434967\n"
     ]
    },
    {
     "name": "stderr",
     "output_type": "stream",
     "text": [
      "100%|██████████| 307/307 [01:50<00:00,  2.78it/s]\n",
      "100%|██████████| 103/103 [04:27<00:00,  2.60s/it]\n"
     ]
    },
    {
     "name": "stdout",
     "output_type": "stream",
     "text": [
      "epoch 112/200; train_loss=0.8704052183061158; test_loss=0.40622934293978424; lr=0.0001; metric=0.860034167766571\n"
     ]
    },
    {
     "name": "stderr",
     "output_type": "stream",
     "text": [
      "100%|██████████| 307/307 [01:50<00:00,  2.78it/s]\n",
      "100%|██████████| 103/103 [04:27<00:00,  2.60s/it]\n"
     ]
    },
    {
     "name": "stdout",
     "output_type": "stream",
     "text": [
      "epoch 113/200; train_loss=0.8695009632296982; test_loss=0.41389976369524467; lr=0.0001; metric=0.8509810566902161\n"
     ]
    },
    {
     "name": "stderr",
     "output_type": "stream",
     "text": [
      "100%|██████████| 307/307 [01:51<00:00,  2.77it/s]\n",
      "100%|██████████| 103/103 [04:27<00:00,  2.60s/it]\n"
     ]
    },
    {
     "name": "stdout",
     "output_type": "stream",
     "text": [
      "epoch 114/200; train_loss=0.8700374291075169; test_loss=0.4326504549933869; lr=0.0001; metric=0.8339657783508301\n"
     ]
    },
    {
     "name": "stderr",
     "output_type": "stream",
     "text": [
      "100%|██████████| 307/307 [01:41<00:00,  3.01it/s]\n",
      "100%|██████████| 103/103 [04:28<00:00,  2.60s/it]\n"
     ]
    },
    {
     "name": "stdout",
     "output_type": "stream",
     "text": [
      "epoch 115/200; train_loss=0.8706063700032933; test_loss=0.4386209226349025; lr=0.0001; metric=0.8364341855049133\n"
     ]
    },
    {
     "name": "stderr",
     "output_type": "stream",
     "text": [
      "100%|██████████| 307/307 [01:42<00:00,  3.01it/s]\n",
      "100%|██████████| 103/103 [04:27<00:00,  2.60s/it]\n"
     ]
    },
    {
     "name": "stdout",
     "output_type": "stream",
     "text": [
      "epoch 116/200; train_loss=0.8692041536495818; test_loss=0.41099602823118564; lr=0.0001; metric=0.8503499627113342\n"
     ]
    },
    {
     "name": "stderr",
     "output_type": "stream",
     "text": [
      "100%|██████████| 307/307 [01:41<00:00,  3.02it/s]\n",
      "100%|██████████| 103/103 [04:27<00:00,  2.60s/it]\n"
     ]
    },
    {
     "name": "stdout",
     "output_type": "stream",
     "text": [
      "epoch 117/200; train_loss=0.8693376956234538; test_loss=0.40015259848057644; lr=0.0001; metric=0.8585917949676514\n"
     ]
    },
    {
     "name": "stderr",
     "output_type": "stream",
     "text": [
      "100%|██████████| 307/307 [01:41<00:00,  3.01it/s]\n",
      "100%|██████████| 103/103 [04:27<00:00,  2.60s/it]\n"
     ]
    },
    {
     "name": "stdout",
     "output_type": "stream",
     "text": [
      "epoch 118/200; train_loss=0.8680921785217931; test_loss=0.4575748397308646; lr=0.0001; metric=0.8184857368469238\n"
     ]
    },
    {
     "name": "stderr",
     "output_type": "stream",
     "text": [
      "100%|██████████| 307/307 [01:41<00:00,  3.01it/s]\n",
      "100%|██████████| 103/103 [04:27<00:00,  2.60s/it]\n"
     ]
    },
    {
     "name": "stdout",
     "output_type": "stream",
     "text": [
      "epoch 119/200; train_loss=0.8701563749328887; test_loss=0.41006532456110983; lr=0.0001; metric=0.8469898700714111\n"
     ]
    },
    {
     "name": "stderr",
     "output_type": "stream",
     "text": [
      "100%|██████████| 307/307 [01:41<00:00,  3.02it/s]\n",
      "100%|██████████| 103/103 [04:29<00:00,  2.62s/it]\n"
     ]
    },
    {
     "name": "stdout",
     "output_type": "stream",
     "text": [
      "epoch 120/200; train_loss=0.8680234862072849; test_loss=0.41816827539101387; lr=0.0001; metric=0.8460342288017273\n"
     ]
    },
    {
     "name": "stderr",
     "output_type": "stream",
     "text": [
      "100%|██████████| 307/307 [01:43<00:00,  2.96it/s]\n",
      "100%|██████████| 103/103 [04:28<00:00,  2.60s/it]\n"
     ]
    },
    {
     "name": "stdout",
     "output_type": "stream",
     "text": [
      "epoch 121/200; train_loss=0.868758400410705; test_loss=0.41880243090749947; lr=0.0001; metric=0.8396061658859253\n"
     ]
    },
    {
     "name": "stderr",
     "output_type": "stream",
     "text": [
      "100%|██████████| 307/307 [01:49<00:00,  2.79it/s]\n",
      "100%|██████████| 103/103 [04:27<00:00,  2.59s/it]\n"
     ]
    },
    {
     "name": "stdout",
     "output_type": "stream",
     "text": [
      "epoch 122/200; train_loss=0.8680492911354338; test_loss=0.3942617623551378; lr=0.0001; metric=0.865013599395752\n"
     ]
    },
    {
     "name": "stderr",
     "output_type": "stream",
     "text": [
      "100%|██████████| 307/307 [01:49<00:00,  2.80it/s]\n",
      "100%|██████████| 103/103 [04:27<00:00,  2.59s/it]\n"
     ]
    },
    {
     "name": "stdout",
     "output_type": "stream",
     "text": [
      "epoch 123/200; train_loss=0.8660691755214033; test_loss=0.41680397397106134; lr=0.0001; metric=0.8486989140510559\n"
     ]
    },
    {
     "name": "stderr",
     "output_type": "stream",
     "text": [
      "100%|██████████| 307/307 [01:50<00:00,  2.78it/s]\n",
      "100%|██████████| 103/103 [04:27<00:00,  2.60s/it]\n"
     ]
    },
    {
     "name": "stdout",
     "output_type": "stream",
     "text": [
      "epoch 124/200; train_loss=0.8672757241935606; test_loss=0.4101918475720489; lr=0.0001; metric=0.8498650789260864\n"
     ]
    },
    {
     "name": "stderr",
     "output_type": "stream",
     "text": [
      "100%|██████████| 307/307 [01:50<00:00,  2.79it/s]\n",
      "100%|██████████| 103/103 [04:27<00:00,  2.60s/it]\n"
     ]
    },
    {
     "name": "stdout",
     "output_type": "stream",
     "text": [
      "epoch 125/200; train_loss=0.8669066229161688; test_loss=0.40119038218433417; lr=0.0001; metric=0.8610771298408508\n"
     ]
    },
    {
     "name": "stderr",
     "output_type": "stream",
     "text": [
      "100%|██████████| 307/307 [01:50<00:00,  2.77it/s]\n",
      "100%|██████████| 103/103 [04:27<00:00,  2.60s/it]\n"
     ]
    },
    {
     "name": "stdout",
     "output_type": "stream",
     "text": [
      "epoch 126/200; train_loss=0.8669062196625948; test_loss=0.41440909493316724; lr=0.0001; metric=0.8435881733894348\n"
     ]
    },
    {
     "name": "stderr",
     "output_type": "stream",
     "text": [
      "100%|██████████| 307/307 [01:50<00:00,  2.79it/s]\n",
      "100%|██████████| 103/103 [04:27<00:00,  2.60s/it]\n"
     ]
    },
    {
     "name": "stdout",
     "output_type": "stream",
     "text": [
      "epoch 127/200; train_loss=0.8657484613723009; test_loss=0.41921644042996525; lr=0.0001; metric=0.8485432863235474\n"
     ]
    },
    {
     "name": "stderr",
     "output_type": "stream",
     "text": [
      "100%|██████████| 307/307 [01:50<00:00,  2.77it/s]\n",
      "100%|██████████| 103/103 [04:27<00:00,  2.60s/it]\n"
     ]
    },
    {
     "name": "stdout",
     "output_type": "stream",
     "text": [
      "epoch 128/200; train_loss=0.8659327833970906; test_loss=0.41389342390217826; lr=0.0001; metric=0.8495674133300781\n"
     ]
    },
    {
     "name": "stderr",
     "output_type": "stream",
     "text": [
      "100%|██████████| 307/307 [01:50<00:00,  2.77it/s]\n",
      "100%|██████████| 103/103 [04:27<00:00,  2.60s/it]\n"
     ]
    },
    {
     "name": "stdout",
     "output_type": "stream",
     "text": [
      "epoch 129/200; train_loss=0.8664603470202766; test_loss=0.4022380770410149; lr=0.0001; metric=0.8623259663581848\n"
     ]
    },
    {
     "name": "stderr",
     "output_type": "stream",
     "text": [
      "100%|██████████| 307/307 [01:50<00:00,  2.79it/s]\n",
      "100%|██████████| 103/103 [04:27<00:00,  2.60s/it]\n"
     ]
    },
    {
     "name": "stdout",
     "output_type": "stream",
     "text": [
      "epoch 130/200; train_loss=0.8653972030462582; test_loss=0.40183855057920065; lr=0.0001; metric=0.8598694801330566\n"
     ]
    },
    {
     "name": "stderr",
     "output_type": "stream",
     "text": [
      "100%|██████████| 307/307 [01:50<00:00,  2.79it/s]\n",
      "100%|██████████| 103/103 [04:27<00:00,  2.60s/it]\n"
     ]
    },
    {
     "name": "stdout",
     "output_type": "stream",
     "text": [
      "epoch 131/200; train_loss=0.8644384415607888; test_loss=0.459679694430342; lr=0.0001; metric=0.8149999976158142\n"
     ]
    },
    {
     "name": "stderr",
     "output_type": "stream",
     "text": [
      "100%|██████████| 307/307 [01:50<00:00,  2.78it/s]\n",
      "100%|██████████| 103/103 [04:27<00:00,  2.59s/it]\n"
     ]
    },
    {
     "name": "stdout",
     "output_type": "stream",
     "text": [
      "epoch 132/200; train_loss=0.8642671378117043; test_loss=0.4076296690019589; lr=0.0001; metric=0.8542513847351074\n"
     ]
    },
    {
     "name": "stderr",
     "output_type": "stream",
     "text": [
      "100%|██████████| 307/307 [01:50<00:00,  2.77it/s]\n",
      "100%|██████████| 103/103 [04:27<00:00,  2.60s/it]\n"
     ]
    },
    {
     "name": "stdout",
     "output_type": "stream",
     "text": [
      "epoch 133/200; train_loss=0.8638518598258301; test_loss=0.4348455994453245; lr=0.0001; metric=0.8331609964370728\n"
     ]
    },
    {
     "name": "stderr",
     "output_type": "stream",
     "text": [
      "100%|██████████| 307/307 [01:50<00:00,  2.77it/s]\n",
      "100%|██████████| 103/103 [04:27<00:00,  2.60s/it]\n"
     ]
    },
    {
     "name": "stdout",
     "output_type": "stream",
     "text": [
      "epoch 134/200; train_loss=0.8633681254200516; test_loss=0.3990931597728174; lr=0.0001; metric=0.8604239821434021\n"
     ]
    },
    {
     "name": "stderr",
     "output_type": "stream",
     "text": [
      "100%|██████████| 307/307 [01:50<00:00,  2.77it/s]\n",
      "100%|██████████| 103/103 [04:28<00:00,  2.60s/it]\n"
     ]
    },
    {
     "name": "stdout",
     "output_type": "stream",
     "text": [
      "epoch 135/200; train_loss=0.8634499781294832; test_loss=0.39082233564367574; lr=0.0001; metric=0.863657534122467\n"
     ]
    },
    {
     "name": "stderr",
     "output_type": "stream",
     "text": [
      "100%|██████████| 307/307 [01:50<00:00,  2.78it/s]\n",
      "100%|██████████| 103/103 [04:27<00:00,  2.60s/it]\n"
     ]
    },
    {
     "name": "stdout",
     "output_type": "stream",
     "text": [
      "epoch 136/200; train_loss=0.8634294914112028; test_loss=0.41725733760491157; lr=0.0001; metric=0.8469284176826477\n"
     ]
    },
    {
     "name": "stderr",
     "output_type": "stream",
     "text": [
      "100%|██████████| 307/307 [01:50<00:00,  2.77it/s]\n",
      "100%|██████████| 103/103 [04:27<00:00,  2.60s/it]\n"
     ]
    },
    {
     "name": "stdout",
     "output_type": "stream",
     "text": [
      "epoch 137/200; train_loss=0.8638434353791153; test_loss=0.4151209358451436; lr=0.0001; metric=0.8500690460205078\n"
     ]
    },
    {
     "name": "stderr",
     "output_type": "stream",
     "text": [
      "100%|██████████| 307/307 [01:49<00:00,  2.79it/s]\n",
      "100%|██████████| 103/103 [04:27<00:00,  2.60s/it]\n"
     ]
    },
    {
     "name": "stdout",
     "output_type": "stream",
     "text": [
      "epoch 138/200; train_loss=0.8632098424706475; test_loss=0.3833403839069663; lr=0.0001; metric=0.8757139444351196\n"
     ]
    },
    {
     "name": "stderr",
     "output_type": "stream",
     "text": [
      "100%|██████████| 307/307 [01:50<00:00,  2.79it/s]\n",
      "100%|██████████| 103/103 [04:27<00:00,  2.60s/it]\n"
     ]
    },
    {
     "name": "stdout",
     "output_type": "stream",
     "text": [
      "epoch 139/200; train_loss=0.862727090861976; test_loss=0.41648830690430205; lr=0.0001; metric=0.8537235856056213\n"
     ]
    },
    {
     "name": "stderr",
     "output_type": "stream",
     "text": [
      "100%|██████████| 307/307 [01:50<00:00,  2.78it/s]\n",
      "100%|██████████| 103/103 [04:28<00:00,  2.60s/it]\n"
     ]
    },
    {
     "name": "stdout",
     "output_type": "stream",
     "text": [
      "epoch 140/200; train_loss=0.8611033275383692; test_loss=0.4026664197444916; lr=0.0001; metric=0.8598476052284241\n"
     ]
    },
    {
     "name": "stderr",
     "output_type": "stream",
     "text": [
      "100%|██████████| 307/307 [01:50<00:00,  2.79it/s]\n",
      "100%|██████████| 103/103 [04:27<00:00,  2.60s/it]\n"
     ]
    },
    {
     "name": "stdout",
     "output_type": "stream",
     "text": [
      "epoch 141/200; train_loss=0.8612807783319429; test_loss=0.38956008692389554; lr=0.0001; metric=0.8748940825462341\n"
     ]
    },
    {
     "name": "stderr",
     "output_type": "stream",
     "text": [
      "100%|██████████| 307/307 [01:51<00:00,  2.77it/s]\n",
      "100%|██████████| 103/103 [04:27<00:00,  2.60s/it]\n"
     ]
    },
    {
     "name": "stdout",
     "output_type": "stream",
     "text": [
      "epoch 142/200; train_loss=0.8615221342357051; test_loss=0.39636633291985224; lr=0.0001; metric=0.8675252795219421\n"
     ]
    },
    {
     "name": "stderr",
     "output_type": "stream",
     "text": [
      "100%|██████████| 307/307 [01:50<00:00,  2.78it/s]\n",
      "100%|██████████| 103/103 [04:27<00:00,  2.60s/it]\n"
     ]
    },
    {
     "name": "stdout",
     "output_type": "stream",
     "text": [
      "epoch 143/200; train_loss=0.8624482391711555; test_loss=0.4029390056735104; lr=0.0001; metric=0.8574955463409424\n"
     ]
    },
    {
     "name": "stderr",
     "output_type": "stream",
     "text": [
      "100%|██████████| 307/307 [01:50<00:00,  2.77it/s]\n",
      "100%|██████████| 103/103 [04:27<00:00,  2.60s/it]\n"
     ]
    },
    {
     "name": "stdout",
     "output_type": "stream",
     "text": [
      "epoch 144/200; train_loss=0.8613126635163149; test_loss=0.4083781551967547; lr=0.0001; metric=0.8502103686332703\n"
     ]
    },
    {
     "name": "stderr",
     "output_type": "stream",
     "text": [
      "100%|██████████| 307/307 [01:50<00:00,  2.77it/s]\n",
      "100%|██████████| 103/103 [04:27<00:00,  2.60s/it]\n"
     ]
    },
    {
     "name": "stdout",
     "output_type": "stream",
     "text": [
      "epoch 145/200; train_loss=0.8620501193627472; test_loss=0.41327546985404007; lr=0.0001; metric=0.8552467823028564\n"
     ]
    },
    {
     "name": "stderr",
     "output_type": "stream",
     "text": [
      "100%|██████████| 307/307 [01:50<00:00,  2.77it/s]\n",
      "100%|██████████| 103/103 [04:27<00:00,  2.60s/it]\n"
     ]
    },
    {
     "name": "stdout",
     "output_type": "stream",
     "text": [
      "epoch 146/200; train_loss=0.8610793317179727; test_loss=0.39364215847357964; lr=0.0001; metric=0.8694345355033875\n"
     ]
    },
    {
     "name": "stderr",
     "output_type": "stream",
     "text": [
      "100%|██████████| 307/307 [01:50<00:00,  2.79it/s]\n",
      "100%|██████████| 103/103 [04:27<00:00,  2.60s/it]\n"
     ]
    },
    {
     "name": "stdout",
     "output_type": "stream",
     "text": [
      "epoch 147/200; train_loss=0.8607336834121605; test_loss=0.4140340787114449; lr=0.0001; metric=0.8562206625938416\n"
     ]
    },
    {
     "name": "stderr",
     "output_type": "stream",
     "text": [
      "100%|██████████| 307/307 [01:50<00:00,  2.77it/s]\n",
      "100%|██████████| 103/103 [04:27<00:00,  2.60s/it]\n"
     ]
    },
    {
     "name": "stdout",
     "output_type": "stream",
     "text": [
      "epoch 148/200; train_loss=0.8605588313422684; test_loss=0.4022680249028993; lr=0.0001; metric=0.8682041764259338\n"
     ]
    },
    {
     "name": "stderr",
     "output_type": "stream",
     "text": [
      "100%|██████████| 307/307 [01:51<00:00,  2.76it/s]\n",
      "100%|██████████| 103/103 [04:27<00:00,  2.59s/it]\n"
     ]
    },
    {
     "name": "stdout",
     "output_type": "stream",
     "text": [
      "epoch 149/200; train_loss=0.8601396736182296; test_loss=0.378669127098565; lr=0.0001; metric=0.8781507611274719\n"
     ]
    },
    {
     "name": "stderr",
     "output_type": "stream",
     "text": [
      "100%|██████████| 307/307 [01:51<00:00,  2.76it/s]\n",
      "100%|██████████| 103/103 [04:27<00:00,  2.60s/it]\n"
     ]
    },
    {
     "name": "stdout",
     "output_type": "stream",
     "text": [
      "epoch 150/200; train_loss=0.8607697884888913; test_loss=0.39999369886314984; lr=0.0001; metric=0.8641321659088135\n"
     ]
    },
    {
     "name": "stderr",
     "output_type": "stream",
     "text": [
      "100%|██████████| 307/307 [01:50<00:00,  2.77it/s]\n",
      "100%|██████████| 103/103 [04:27<00:00,  2.59s/it]\n"
     ]
    },
    {
     "name": "stdout",
     "output_type": "stream",
     "text": [
      "epoch 151/200; train_loss=0.8591557236370124; test_loss=0.39130640377118747; lr=0.0001; metric=0.8642711639404297\n"
     ]
    },
    {
     "name": "stderr",
     "output_type": "stream",
     "text": [
      "100%|██████████| 307/307 [01:50<00:00,  2.77it/s]\n",
      " 59%|█████▉    | 61/103 [02:42<01:51,  2.66s/it]\n"
     ]
    },
    {
     "ename": "KeyboardInterrupt",
     "evalue": "",
     "output_type": "error",
     "traceback": [
      "\u001b[1;31m---------------------------------------------------------------------------\u001b[0m",
      "\u001b[1;31mKeyboardInterrupt\u001b[0m                         Traceback (most recent call last)",
      "Cell \u001b[1;32mIn[8], line 2\u001b[0m\n\u001b[0;32m      1\u001b[0m init_experiment(config)\n\u001b[1;32m----> 2\u001b[0m train_loss, test_loss, metrics \u001b[39m=\u001b[39m net\u001b[39m.\u001b[39;49mtrain(\n\u001b[0;32m      3\u001b[0m     trainloader\u001b[39m=\u001b[39;49mtrain_loader, \n\u001b[0;32m      4\u001b[0m     valloader\u001b[39m=\u001b[39;49mval_loader,\n\u001b[0;32m      5\u001b[0m     log\u001b[39m=\u001b[39;49mlog, \n\u001b[0;32m      6\u001b[0m     epochs\u001b[39m=\u001b[39;49mconfig\u001b[39m.\u001b[39;49mget(\u001b[39m\"\u001b[39;49m\u001b[39mepochs\u001b[39;49m\u001b[39m\"\u001b[39;49m), \n\u001b[0;32m      7\u001b[0m     learning_rate\u001b[39m=\u001b[39;49mconfig\u001b[39m.\u001b[39;49mget(\u001b[39m\"\u001b[39;49m\u001b[39mlearning_rate\u001b[39;49m\u001b[39m\"\u001b[39;49m), \n\u001b[0;32m      8\u001b[0m     optimizer_name\u001b[39m=\u001b[39;49m\u001b[39m\"\u001b[39;49m\u001b[39madam\u001b[39;49m\u001b[39m\"\u001b[39;49m, \n\u001b[0;32m      9\u001b[0m     schedule\u001b[39m=\u001b[39;49m\u001b[39mFalse\u001b[39;49;00m,\n\u001b[0;32m     10\u001b[0m )\n\u001b[0;32m     11\u001b[0m terminate_experiment()\n",
      "File \u001b[1;32mc:\\Users\\mo\\Documents\\Organisations\\RUG\\RUG-HandRec\\modules\\segnet.py:156\u001b[0m, in \u001b[0;36mSEGNET.train\u001b[1;34m(self, trainloader, valloader, log, epochs, learning_rate, checkpoints, schedule, optimizer_name)\u001b[0m\n\u001b[0;32m    153\u001b[0m avg_loss \u001b[39m/\u001b[39m\u001b[39m=\u001b[39m n\n\u001b[0;32m    155\u001b[0m \u001b[39m# Evaluate\u001b[39;00m\n\u001b[1;32m--> 156\u001b[0m test_loss, metric \u001b[39m=\u001b[39m \u001b[39mself\u001b[39;49m\u001b[39m.\u001b[39;49mvalidate(valloader)\n\u001b[0;32m    157\u001b[0m train_losses\u001b[39m.\u001b[39mappend(avg_loss)\n\u001b[0;32m    158\u001b[0m val_losses\u001b[39m.\u001b[39mappend(test_loss)\n",
      "File \u001b[1;32mc:\\Users\\mo\\Documents\\Organisations\\RUG\\RUG-HandRec\\modules\\segnet.py:198\u001b[0m, in \u001b[0;36mSEGNET.validate\u001b[1;34m(self, valloader)\u001b[0m\n\u001b[0;32m    195\u001b[0m \u001b[39mfor\u001b[39;00m i, batch \u001b[39min\u001b[39;00m tqdm(\u001b[39menumerate\u001b[39m(valloader), total\u001b[39m=\u001b[39m\u001b[39mlen\u001b[39m(valloader)):\n\u001b[0;32m    197\u001b[0m     images, labels \u001b[39m=\u001b[39m batch[\u001b[39m\"\u001b[39m\u001b[39mimg\u001b[39m\u001b[39m\"\u001b[39m]\u001b[39m.\u001b[39mto(\u001b[39mself\u001b[39m\u001b[39m.\u001b[39mdevice), batch[\u001b[39m\"\u001b[39m\u001b[39mseg\u001b[39m\u001b[39m\"\u001b[39m]\u001b[39m.\u001b[39mto(\u001b[39mself\u001b[39m\u001b[39m.\u001b[39mdevice)\n\u001b[1;32m--> 198\u001b[0m     logits \u001b[39m=\u001b[39m \u001b[39mself\u001b[39;49m\u001b[39m.\u001b[39;49minfere(images)\n\u001b[0;32m    199\u001b[0m     loss \u001b[39m+\u001b[39m\u001b[39m=\u001b[39m criterion(logits, labels)\u001b[39m.\u001b[39mitem()\n\u001b[0;32m    201\u001b[0m     val_labels_list \u001b[39m=\u001b[39m decollate_batch(labels)\n",
      "File \u001b[1;32mc:\\Users\\mo\\Documents\\Organisations\\RUG\\RUG-HandRec\\modules\\segnet.py:94\u001b[0m, in \u001b[0;36mSEGNET.infere\u001b[1;34m(self, x, batch_size)\u001b[0m\n\u001b[0;32m     93\u001b[0m \u001b[39mdef\u001b[39;00m \u001b[39minfere\u001b[39m(\u001b[39mself\u001b[39m, x: torch\u001b[39m.\u001b[39mTensor, batch_size\u001b[39m=\u001b[39m\u001b[39m4\u001b[39m):\n\u001b[1;32m---> 94\u001b[0m     \u001b[39mreturn\u001b[39;00m sliding_window_inference(x, \u001b[39mself\u001b[39;49m\u001b[39m.\u001b[39;49mimg_size, batch_size, \u001b[39mself\u001b[39;49m\u001b[39m.\u001b[39;49mmodel, overlap\u001b[39m=\u001b[39;49m\u001b[39m0.6\u001b[39;49m)\n",
      "File \u001b[1;32m~\\AppData\\Roaming\\Python\\Python39\\site-packages\\monai\\inferers\\utils.py:134\u001b[0m, in \u001b[0;36msliding_window_inference\u001b[1;34m(inputs, roi_size, sw_batch_size, predictor, overlap, mode, sigma_scale, padding_mode, cval, sw_device, device, progress, *args, **kwargs)\u001b[0m\n\u001b[0;32m    129\u001b[0m unravel_slice \u001b[39m=\u001b[39m [\n\u001b[0;32m    130\u001b[0m     [\u001b[39mslice\u001b[39m(\u001b[39mint\u001b[39m(idx \u001b[39m/\u001b[39m num_win), \u001b[39mint\u001b[39m(idx \u001b[39m/\u001b[39m num_win) \u001b[39m+\u001b[39m \u001b[39m1\u001b[39m), \u001b[39mslice\u001b[39m(\u001b[39mNone\u001b[39;00m)] \u001b[39m+\u001b[39m \u001b[39mlist\u001b[39m(slices[idx \u001b[39m%\u001b[39m num_win])\n\u001b[0;32m    131\u001b[0m     \u001b[39mfor\u001b[39;00m idx \u001b[39min\u001b[39;00m slice_range\n\u001b[0;32m    132\u001b[0m ]\n\u001b[0;32m    133\u001b[0m window_data \u001b[39m=\u001b[39m torch\u001b[39m.\u001b[39mcat([inputs[win_slice] \u001b[39mfor\u001b[39;00m win_slice \u001b[39min\u001b[39;00m unravel_slice])\u001b[39m.\u001b[39mto(sw_device)\n\u001b[1;32m--> 134\u001b[0m seg_prob \u001b[39m=\u001b[39m predictor(window_data, \u001b[39m*\u001b[39margs, \u001b[39m*\u001b[39m\u001b[39m*\u001b[39mkwargs)\u001b[39m.\u001b[39mto(device)  \u001b[39m# batched patch segmentation\u001b[39;00m\n\u001b[0;32m    136\u001b[0m \u001b[39mif\u001b[39;00m \u001b[39mnot\u001b[39;00m _initialized:  \u001b[39m# init. buffer at the first iteration\u001b[39;00m\n\u001b[0;32m    137\u001b[0m     output_classes \u001b[39m=\u001b[39m seg_prob\u001b[39m.\u001b[39mshape[\u001b[39m1\u001b[39m]\n",
      "File \u001b[1;32mc:\\Users\\mo\\anaconda3\\envs\\ml_env\\lib\\site-packages\\torch\\nn\\modules\\module.py:1501\u001b[0m, in \u001b[0;36mModule._call_impl\u001b[1;34m(self, *args, **kwargs)\u001b[0m\n\u001b[0;32m   1496\u001b[0m \u001b[39m# If we don't have any hooks, we want to skip the rest of the logic in\u001b[39;00m\n\u001b[0;32m   1497\u001b[0m \u001b[39m# this function, and just call forward.\u001b[39;00m\n\u001b[0;32m   1498\u001b[0m \u001b[39mif\u001b[39;00m \u001b[39mnot\u001b[39;00m (\u001b[39mself\u001b[39m\u001b[39m.\u001b[39m_backward_hooks \u001b[39mor\u001b[39;00m \u001b[39mself\u001b[39m\u001b[39m.\u001b[39m_backward_pre_hooks \u001b[39mor\u001b[39;00m \u001b[39mself\u001b[39m\u001b[39m.\u001b[39m_forward_hooks \u001b[39mor\u001b[39;00m \u001b[39mself\u001b[39m\u001b[39m.\u001b[39m_forward_pre_hooks\n\u001b[0;32m   1499\u001b[0m         \u001b[39mor\u001b[39;00m _global_backward_pre_hooks \u001b[39mor\u001b[39;00m _global_backward_hooks\n\u001b[0;32m   1500\u001b[0m         \u001b[39mor\u001b[39;00m _global_forward_hooks \u001b[39mor\u001b[39;00m _global_forward_pre_hooks):\n\u001b[1;32m-> 1501\u001b[0m     \u001b[39mreturn\u001b[39;00m forward_call(\u001b[39m*\u001b[39margs, \u001b[39m*\u001b[39m\u001b[39m*\u001b[39mkwargs)\n\u001b[0;32m   1502\u001b[0m \u001b[39m# Do not call functions when jit is used\u001b[39;00m\n\u001b[0;32m   1503\u001b[0m full_backward_hooks, non_full_backward_hooks \u001b[39m=\u001b[39m [], []\n",
      "File \u001b[1;32m~\\AppData\\Roaming\\Python\\Python39\\site-packages\\monai\\networks\\nets\\unetr.py:192\u001b[0m, in \u001b[0;36mUNETR.forward\u001b[1;34m(self, x_in)\u001b[0m\n\u001b[0;32m    191\u001b[0m \u001b[39mdef\u001b[39;00m \u001b[39mforward\u001b[39m(\u001b[39mself\u001b[39m, x_in):\n\u001b[1;32m--> 192\u001b[0m     x, hidden_states_out \u001b[39m=\u001b[39m \u001b[39mself\u001b[39;49m\u001b[39m.\u001b[39;49mvit(x_in)\n\u001b[0;32m    193\u001b[0m     enc1 \u001b[39m=\u001b[39m \u001b[39mself\u001b[39m\u001b[39m.\u001b[39mencoder1(x_in)\n\u001b[0;32m    194\u001b[0m     x2 \u001b[39m=\u001b[39m hidden_states_out[\u001b[39m3\u001b[39m]\n",
      "File \u001b[1;32mc:\\Users\\mo\\anaconda3\\envs\\ml_env\\lib\\site-packages\\torch\\nn\\modules\\module.py:1501\u001b[0m, in \u001b[0;36mModule._call_impl\u001b[1;34m(self, *args, **kwargs)\u001b[0m\n\u001b[0;32m   1496\u001b[0m \u001b[39m# If we don't have any hooks, we want to skip the rest of the logic in\u001b[39;00m\n\u001b[0;32m   1497\u001b[0m \u001b[39m# this function, and just call forward.\u001b[39;00m\n\u001b[0;32m   1498\u001b[0m \u001b[39mif\u001b[39;00m \u001b[39mnot\u001b[39;00m (\u001b[39mself\u001b[39m\u001b[39m.\u001b[39m_backward_hooks \u001b[39mor\u001b[39;00m \u001b[39mself\u001b[39m\u001b[39m.\u001b[39m_backward_pre_hooks \u001b[39mor\u001b[39;00m \u001b[39mself\u001b[39m\u001b[39m.\u001b[39m_forward_hooks \u001b[39mor\u001b[39;00m \u001b[39mself\u001b[39m\u001b[39m.\u001b[39m_forward_pre_hooks\n\u001b[0;32m   1499\u001b[0m         \u001b[39mor\u001b[39;00m _global_backward_pre_hooks \u001b[39mor\u001b[39;00m _global_backward_hooks\n\u001b[0;32m   1500\u001b[0m         \u001b[39mor\u001b[39;00m _global_forward_hooks \u001b[39mor\u001b[39;00m _global_forward_pre_hooks):\n\u001b[1;32m-> 1501\u001b[0m     \u001b[39mreturn\u001b[39;00m forward_call(\u001b[39m*\u001b[39margs, \u001b[39m*\u001b[39m\u001b[39m*\u001b[39mkwargs)\n\u001b[0;32m   1502\u001b[0m \u001b[39m# Do not call functions when jit is used\u001b[39;00m\n\u001b[0;32m   1503\u001b[0m full_backward_hooks, non_full_backward_hooks \u001b[39m=\u001b[39m [], []\n",
      "File \u001b[1;32m~\\AppData\\Roaming\\Python\\Python39\\site-packages\\monai\\networks\\nets\\vit.py:109\u001b[0m, in \u001b[0;36mViT.forward\u001b[1;34m(self, x)\u001b[0m\n\u001b[0;32m    107\u001b[0m hidden_states_out \u001b[39m=\u001b[39m []\n\u001b[0;32m    108\u001b[0m \u001b[39mfor\u001b[39;00m blk \u001b[39min\u001b[39;00m \u001b[39mself\u001b[39m\u001b[39m.\u001b[39mblocks:\n\u001b[1;32m--> 109\u001b[0m     x \u001b[39m=\u001b[39m blk(x)\n\u001b[0;32m    110\u001b[0m     hidden_states_out\u001b[39m.\u001b[39mappend(x)\n\u001b[0;32m    111\u001b[0m x \u001b[39m=\u001b[39m \u001b[39mself\u001b[39m\u001b[39m.\u001b[39mnorm(x)\n",
      "File \u001b[1;32mc:\\Users\\mo\\anaconda3\\envs\\ml_env\\lib\\site-packages\\torch\\nn\\modules\\module.py:1501\u001b[0m, in \u001b[0;36mModule._call_impl\u001b[1;34m(self, *args, **kwargs)\u001b[0m\n\u001b[0;32m   1496\u001b[0m \u001b[39m# If we don't have any hooks, we want to skip the rest of the logic in\u001b[39;00m\n\u001b[0;32m   1497\u001b[0m \u001b[39m# this function, and just call forward.\u001b[39;00m\n\u001b[0;32m   1498\u001b[0m \u001b[39mif\u001b[39;00m \u001b[39mnot\u001b[39;00m (\u001b[39mself\u001b[39m\u001b[39m.\u001b[39m_backward_hooks \u001b[39mor\u001b[39;00m \u001b[39mself\u001b[39m\u001b[39m.\u001b[39m_backward_pre_hooks \u001b[39mor\u001b[39;00m \u001b[39mself\u001b[39m\u001b[39m.\u001b[39m_forward_hooks \u001b[39mor\u001b[39;00m \u001b[39mself\u001b[39m\u001b[39m.\u001b[39m_forward_pre_hooks\n\u001b[0;32m   1499\u001b[0m         \u001b[39mor\u001b[39;00m _global_backward_pre_hooks \u001b[39mor\u001b[39;00m _global_backward_hooks\n\u001b[0;32m   1500\u001b[0m         \u001b[39mor\u001b[39;00m _global_forward_hooks \u001b[39mor\u001b[39;00m _global_forward_pre_hooks):\n\u001b[1;32m-> 1501\u001b[0m     \u001b[39mreturn\u001b[39;00m forward_call(\u001b[39m*\u001b[39margs, \u001b[39m*\u001b[39m\u001b[39m*\u001b[39mkwargs)\n\u001b[0;32m   1502\u001b[0m \u001b[39m# Do not call functions when jit is used\u001b[39;00m\n\u001b[0;32m   1503\u001b[0m full_backward_hooks, non_full_backward_hooks \u001b[39m=\u001b[39m [], []\n",
      "File \u001b[1;32m~\\AppData\\Roaming\\Python\\Python39\\site-packages\\monai\\networks\\blocks\\transformerblock.py:48\u001b[0m, in \u001b[0;36mTransformerBlock.forward\u001b[1;34m(self, x)\u001b[0m\n\u001b[0;32m     47\u001b[0m \u001b[39mdef\u001b[39;00m \u001b[39mforward\u001b[39m(\u001b[39mself\u001b[39m, x):\n\u001b[1;32m---> 48\u001b[0m     x \u001b[39m=\u001b[39m x \u001b[39m+\u001b[39m \u001b[39mself\u001b[39;49m\u001b[39m.\u001b[39;49mattn(\u001b[39mself\u001b[39;49m\u001b[39m.\u001b[39;49mnorm1(x))\n\u001b[0;32m     49\u001b[0m     x \u001b[39m=\u001b[39m x \u001b[39m+\u001b[39m \u001b[39mself\u001b[39m\u001b[39m.\u001b[39mmlp(\u001b[39mself\u001b[39m\u001b[39m.\u001b[39mnorm2(x))\n\u001b[0;32m     50\u001b[0m     \u001b[39mreturn\u001b[39;00m x\n",
      "File \u001b[1;32mc:\\Users\\mo\\anaconda3\\envs\\ml_env\\lib\\site-packages\\torch\\nn\\modules\\module.py:1501\u001b[0m, in \u001b[0;36mModule._call_impl\u001b[1;34m(self, *args, **kwargs)\u001b[0m\n\u001b[0;32m   1496\u001b[0m \u001b[39m# If we don't have any hooks, we want to skip the rest of the logic in\u001b[39;00m\n\u001b[0;32m   1497\u001b[0m \u001b[39m# this function, and just call forward.\u001b[39;00m\n\u001b[0;32m   1498\u001b[0m \u001b[39mif\u001b[39;00m \u001b[39mnot\u001b[39;00m (\u001b[39mself\u001b[39m\u001b[39m.\u001b[39m_backward_hooks \u001b[39mor\u001b[39;00m \u001b[39mself\u001b[39m\u001b[39m.\u001b[39m_backward_pre_hooks \u001b[39mor\u001b[39;00m \u001b[39mself\u001b[39m\u001b[39m.\u001b[39m_forward_hooks \u001b[39mor\u001b[39;00m \u001b[39mself\u001b[39m\u001b[39m.\u001b[39m_forward_pre_hooks\n\u001b[0;32m   1499\u001b[0m         \u001b[39mor\u001b[39;00m _global_backward_pre_hooks \u001b[39mor\u001b[39;00m _global_backward_hooks\n\u001b[0;32m   1500\u001b[0m         \u001b[39mor\u001b[39;00m _global_forward_hooks \u001b[39mor\u001b[39;00m _global_forward_pre_hooks):\n\u001b[1;32m-> 1501\u001b[0m     \u001b[39mreturn\u001b[39;00m forward_call(\u001b[39m*\u001b[39margs, \u001b[39m*\u001b[39m\u001b[39m*\u001b[39mkwargs)\n\u001b[0;32m   1502\u001b[0m \u001b[39m# Do not call functions when jit is used\u001b[39;00m\n\u001b[0;32m   1503\u001b[0m full_backward_hooks, non_full_backward_hooks \u001b[39m=\u001b[39m [], []\n",
      "File \u001b[1;32m~\\AppData\\Roaming\\Python\\Python39\\site-packages\\monai\\networks\\blocks\\selfattention.py:56\u001b[0m, in \u001b[0;36mSABlock.forward\u001b[1;34m(self, x)\u001b[0m\n\u001b[0;32m     54\u001b[0m output \u001b[39m=\u001b[39m \u001b[39mself\u001b[39m\u001b[39m.\u001b[39minput_rearrange(\u001b[39mself\u001b[39m\u001b[39m.\u001b[39mqkv(x))\n\u001b[0;32m     55\u001b[0m q, k, v \u001b[39m=\u001b[39m output[\u001b[39m0\u001b[39m], output[\u001b[39m1\u001b[39m], output[\u001b[39m2\u001b[39m]\n\u001b[1;32m---> 56\u001b[0m att_mat \u001b[39m=\u001b[39m (torch\u001b[39m.\u001b[39;49meinsum(\u001b[39m\"\u001b[39;49m\u001b[39mblxd,blyd->blxy\u001b[39;49m\u001b[39m\"\u001b[39;49m, q, k) \u001b[39m*\u001b[39m \u001b[39mself\u001b[39m\u001b[39m.\u001b[39mscale)\u001b[39m.\u001b[39msoftmax(dim\u001b[39m=\u001b[39m\u001b[39m-\u001b[39m\u001b[39m1\u001b[39m)\n\u001b[0;32m     57\u001b[0m att_mat \u001b[39m=\u001b[39m \u001b[39mself\u001b[39m\u001b[39m.\u001b[39mdrop_weights(att_mat)\n\u001b[0;32m     58\u001b[0m x \u001b[39m=\u001b[39m torch\u001b[39m.\u001b[39meinsum(\u001b[39m\"\u001b[39m\u001b[39mbhxy,bhyd->bhxd\u001b[39m\u001b[39m\"\u001b[39m, att_mat, v)\n",
      "File \u001b[1;32mc:\\Users\\mo\\anaconda3\\envs\\ml_env\\lib\\site-packages\\torch\\functional.py:378\u001b[0m, in \u001b[0;36meinsum\u001b[1;34m(*args)\u001b[0m\n\u001b[0;32m    373\u001b[0m     \u001b[39mreturn\u001b[39;00m einsum(equation, \u001b[39m*\u001b[39m_operands)\n\u001b[0;32m    375\u001b[0m \u001b[39mif\u001b[39;00m \u001b[39mlen\u001b[39m(operands) \u001b[39m<\u001b[39m\u001b[39m=\u001b[39m \u001b[39m2\u001b[39m \u001b[39mor\u001b[39;00m \u001b[39mnot\u001b[39;00m opt_einsum\u001b[39m.\u001b[39menabled:\n\u001b[0;32m    376\u001b[0m     \u001b[39m# the path for contracting 0 or 1 time(s) is already optimized\u001b[39;00m\n\u001b[0;32m    377\u001b[0m     \u001b[39m# or the user has disabled using opt_einsum\u001b[39;00m\n\u001b[1;32m--> 378\u001b[0m     \u001b[39mreturn\u001b[39;00m _VF\u001b[39m.\u001b[39;49meinsum(equation, operands)  \u001b[39m# type: ignore[attr-defined]\u001b[39;00m\n\u001b[0;32m    380\u001b[0m path \u001b[39m=\u001b[39m \u001b[39mNone\u001b[39;00m\n\u001b[0;32m    381\u001b[0m \u001b[39mif\u001b[39;00m opt_einsum\u001b[39m.\u001b[39mis_available():\n",
      "\u001b[1;31mKeyboardInterrupt\u001b[0m: "
     ]
    }
   ],
   "source": [
    "init_experiment(config)\n",
    "train_loss, test_loss, metrics = net.train(\n",
    "    trainloader=train_loader, \n",
    "    valloader=val_loader,\n",
    "    log=log, \n",
    "    epochs=config.get(\"epochs\"), \n",
    "    learning_rate=config.get(\"learning_rate\"), \n",
    "    optimizer_name=\"adam\", \n",
    "    schedule=False,\n",
    ")\n",
    "terminate_experiment()"
   ]
  },
  {
   "cell_type": "code",
   "execution_count": 17,
   "metadata": {},
   "outputs": [],
   "source": [
    "# load the best model\n",
    "net.load_model(f\"./models/{model_output_name}\");"
   ]
  },
  {
   "cell_type": "code",
   "execution_count": 28,
   "metadata": {},
   "outputs": [
    {
     "name": "stdout",
     "output_type": "stream",
     "text": [
      "(1512, 1024)\n"
     ]
    },
    {
     "data": {
      "image/png": "[encoded data removed]",
      "text/plain": [
       "<Figure size 1200x800 with 4 Axes>"
      ]
     },
     "metadata": {},
     "output_type": "display_data"
    }
   ],
   "source": [
    "choice = np.random.choice(len(test_files))\n",
    "sample = val_transforms(test_files[choice])\n",
    "x, y = sample[\"img\"], sample[\"seg\"]\n",
    "x.shape\n",
    "\n",
    "# Predict\n",
    "with torch.no_grad():\n",
    "    yhat = x.cuda()\n",
    "    yhat = torch.unsqueeze(yhat, 0)\n",
    "    yhat = net.infere(yhat)\n",
    "    yhat = torch.squeeze(yhat, 0)\n",
    "    yhat = torch.argmax(yhat, dim=0)\n",
    "    yhat = yhat.cpu().numpy()\n",
    "    \n",
    "    print(yhat.shape)\n",
    "\n",
    "diff = yhat - y.cpu().numpy().squeeze(0)\n",
    "\n",
    "# Plot original, ground truth and prediction\n",
    "fig, axes = plt.subplots(1, 4, figsize=(12, 8))\n",
    "axes[0].imshow(x[0, :, :], cmap=\"gray\")\n",
    "axes[0].axis(\"off\")\n",
    "axes[1].imshow(28 - y[0, :, :], cmap=\"CMRmap\")\n",
    "axes[1].axis(\"off\")\n",
    "axes[2].imshow(28 - yhat, cmap=\"CMRmap\")\n",
    "axes[2].axis(\"off\")\n",
    "axes[3].imshow(diff, cmap=\"CMRmap\")\n",
    "axes[3].axis(\"off\")\n",
    "plt.show()\n"
   ]
  },
  {
   "cell_type": "code",
   "execution_count": 33,
   "metadata": {},
   "outputs": [
    {
     "name": "stderr",
     "output_type": "stream",
     "text": [
      "100%|██████████| 256/256 [11:01<00:00,  2.58s/it]\n"
     ]
    },
    {
     "data": {
      "text/plain": [
       "(0.3579922268399969, 0.8949974775314331)"
      ]
     },
     "execution_count": 33,
     "metadata": {},
     "output_type": "execute_result"
    }
   ],
   "source": [
    "net.validate(test_loader)"
   ]
  }
 ],
 "metadata": {
  "interpreter": {
   "hash": "66bca563c4c76296b191bb3bb7e4d5f9a7ce2df3aa834d2ca323fb8450d58729"
  },
  "kernelspec": {
   "display_name": "Python 3.9.12 ('base')",
   "language": "python",
   "name": "python3"
  },
  "language_info": {
   "codemirror_mode": {
    "name": "ipython",
    "version": 3
   },
   "file_extension": ".py",
   "mimetype": "text/x-python",
   "name": "python",
   "nbconvert_exporter": "python",
   "pygments_lexer": "ipython3",
   "version": "3.9.16"
  },
  "orig_nbformat": 4
 },
 "nbformat": 4,
 "nbformat_minor": 2
}
